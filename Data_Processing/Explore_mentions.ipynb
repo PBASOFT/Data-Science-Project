{
 "cells": [
  {
   "cell_type": "code",
   "execution_count": 2,
   "id": "brave-dispatch",
   "metadata": {},
   "outputs": [],
   "source": [
    "import pandas as pd"
   ]
  },
  {
   "cell_type": "code",
   "execution_count": 233,
   "id": "announced-detail",
   "metadata": {},
   "outputs": [],
   "source": [
    "data = pd.read_csv('./data_files/clean_data_with_orgs.csv', lineterminator='\\n',index_col=0)"
   ]
  },
  {
   "cell_type": "code",
   "execution_count": 267,
   "id": "polished-dover",
   "metadata": {},
   "outputs": [
    {
     "data": {
      "text/plain": [
       "385     False\n",
       "630     False\n",
       "915     False\n",
       "5       False\n",
       "35      False\n",
       "        ...  \n",
       "9660    False\n",
       "9832    False\n",
       "9835    False\n",
       "9862    False\n",
       "9879    False\n",
       "Name: subreddit, Length: 17350, dtype: bool"
      ]
     },
     "execution_count": 267,
     "metadata": {},
     "output_type": "execute_result"
    }
   ],
   "source": [
    "#  data\n",
    "data = data[data['Organizations'].apply(lambda x: 'GME' in x)]\n"
   ]
  },
  {
   "cell_type": "code",
   "execution_count": 261,
   "id": "functional-lender",
   "metadata": {},
   "outputs": [],
   "source": [
    "reddit_groups = data.groupby(['subreddit'])"
   ]
  },
  {
   "cell_type": "code",
   "execution_count": 276,
   "id": "iraqi-indie",
   "metadata": {
    "collapsed": true,
    "jupyter": {
     "outputs_hidden": true
    }
   },
   "outputs": [
    {
     "data": {
      "text/html": [
       "<div>\n",
       "<style scoped>\n",
       "    .dataframe tbody tr th:only-of-type {\n",
       "        vertical-align: middle;\n",
       "    }\n",
       "\n",
       "    .dataframe tbody tr th {\n",
       "        vertical-align: top;\n",
       "    }\n",
       "\n",
       "    .dataframe thead th {\n",
       "        text-align: right;\n",
       "    }\n",
       "</style>\n",
       "<table border=\"1\" class=\"dataframe\">\n",
       "  <thead>\n",
       "    <tr style=\"text-align: right;\">\n",
       "      <th></th>\n",
       "      <th>investing</th>\n",
       "    </tr>\n",
       "    <tr>\n",
       "      <th>created</th>\n",
       "      <th></th>\n",
       "    </tr>\n",
       "  </thead>\n",
       "  <tbody>\n",
       "    <tr>\n",
       "      <th>2021-05-17</th>\n",
       "      <td>3</td>\n",
       "    </tr>\n",
       "    <tr>\n",
       "      <th>2021-05-18</th>\n",
       "      <td>12</td>\n",
       "    </tr>\n",
       "    <tr>\n",
       "      <th>2021-05-19</th>\n",
       "      <td>60</td>\n",
       "    </tr>\n",
       "    <tr>\n",
       "      <th>2021-05-20</th>\n",
       "      <td>55</td>\n",
       "    </tr>\n",
       "    <tr>\n",
       "      <th>2021-05-21</th>\n",
       "      <td>14</td>\n",
       "    </tr>\n",
       "    <tr>\n",
       "      <th>2021-05-22</th>\n",
       "      <td>16</td>\n",
       "    </tr>\n",
       "    <tr>\n",
       "      <th>2021-05-23</th>\n",
       "      <td>27</td>\n",
       "    </tr>\n",
       "    <tr>\n",
       "      <th>2021-05-24</th>\n",
       "      <td>45</td>\n",
       "    </tr>\n",
       "    <tr>\n",
       "      <th>2021-05-25</th>\n",
       "      <td>110</td>\n",
       "    </tr>\n",
       "    <tr>\n",
       "      <th>2021-05-26</th>\n",
       "      <td>89</td>\n",
       "    </tr>\n",
       "    <tr>\n",
       "      <th>2021-05-27</th>\n",
       "      <td>36</td>\n",
       "    </tr>\n",
       "    <tr>\n",
       "      <th>2021-05-28</th>\n",
       "      <td>70</td>\n",
       "    </tr>\n",
       "    <tr>\n",
       "      <th>2021-05-29</th>\n",
       "      <td>6</td>\n",
       "    </tr>\n",
       "  </tbody>\n",
       "</table>\n",
       "</div>"
      ],
      "text/plain": [
       "            investing\n",
       "created              \n",
       "2021-05-17          3\n",
       "2021-05-18         12\n",
       "2021-05-19         60\n",
       "2021-05-20         55\n",
       "2021-05-21         14\n",
       "2021-05-22         16\n",
       "2021-05-23         27\n",
       "2021-05-24         45\n",
       "2021-05-25        110\n",
       "2021-05-26         89\n",
       "2021-05-27         36\n",
       "2021-05-28         70\n",
       "2021-05-29          6"
      ]
     },
     "execution_count": 276,
     "metadata": {},
     "output_type": "execute_result"
    }
   ],
   "source": [
    "investing_gme = reddit_groups['created'].value_counts().loc['stocks']\n",
    "mentions['investing'] = investing_gme\n",
    "mentions.sort_index(axis=0)"
   ]
  },
  {
   "cell_type": "code",
   "execution_count": 274,
   "id": "retained-equivalent",
   "metadata": {},
   "outputs": [],
   "source": [
    "subreddits = ['wallstreetbets', 'stocks', 'investing', 'StockMarket','pennystocks','algotrading', 'RobinHood']\n",
    "def df_mention_counts(ticker):\n",
    "    mentions = pd.DataFrame()\n",
    "    for subreddit in subreddits:\n",
    "        tickers = data[data['Organizations'].apply(lambda x: ticker in x)]\n",
    "        count = reddit_groups['created'].value_counts().loc[subreddit]\n",
    "        mentions[''+subreddit+''] = count\n",
    "    return mentions"
   ]
  },
  {
   "cell_type": "code",
   "execution_count": 279,
   "id": "resistant-pearl",
   "metadata": {},
   "outputs": [],
   "source": [
    "#TICKERS = ['AMC','GME','PLTR','AAPL','SPCE','AMZN','FORD','AMD','TSLA','SEC','ATH','NOK','OTM','ITM','AI','COIN','VIX','BB','RBLX','HODL']\n",
    "#for ticker in TICKERS:\n",
    "#    return df_mention_counts(TICKER)\n",
    "    \n",
    "\n"
   ]
  },
  {
   "cell_type": "code",
   "execution_count": null,
   "id": "natural-viking",
   "metadata": {},
   "outputs": [],
   "source": []
  }
 ],
 "metadata": {
  "kernelspec": {
   "display_name": "Python 3",
   "language": "python",
   "name": "python3"
  },
  "language_info": {
   "codemirror_mode": {
    "name": "ipython",
    "version": 3
   },
   "file_extension": ".py",
   "mimetype": "text/x-python",
   "name": "python",
   "nbconvert_exporter": "python",
   "pygments_lexer": "ipython3",
   "version": "3.8.5"
  }
 },
 "nbformat": 4,
 "nbformat_minor": 5
}
