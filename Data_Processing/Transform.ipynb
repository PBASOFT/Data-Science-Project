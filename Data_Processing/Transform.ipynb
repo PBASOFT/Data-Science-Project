{
 "cells": [
  {
   "cell_type": "code",
   "execution_count": 271,
   "id": "interesting-sheriff",
   "metadata": {},
   "outputs": [],
   "source": [
    "import pandas as pd\n",
    "import glob\n",
    "import datetime\n",
    "import import_ipynb\n",
    "from NER import get_entities"
   ]
  },
  {
   "cell_type": "code",
   "execution_count": 239,
   "id": "mexican-simple",
   "metadata": {},
   "outputs": [],
   "source": [
    "data = pd.DataFrame()\n",
    "# read csv files int to a dataframe \n",
    "for file_name in glob.glob('../Data_Collecting/data_files/all_data_streams/'+'*.csv'):\n",
    "    df = pd.read_csv(file_name,lineterminator='\\n')\n",
    "    data = pd.concat([data, df])"
   ]
  },
  {
   "cell_type": "code",
   "execution_count": 240,
   "id": "tough-halifax",
   "metadata": {},
   "outputs": [
    {
     "data": {
      "text/plain": [
       "(643771, 10)"
      ]
     },
     "execution_count": 240,
     "metadata": {},
     "output_type": "execute_result"
    }
   ],
   "source": [
    "data.shape"
   ]
  },
  {
   "cell_type": "code",
   "execution_count": 241,
   "id": "caroline-lemon",
   "metadata": {},
   "outputs": [
    {
     "data": {
      "text/html": [
       "<div>\n",
       "<style scoped>\n",
       "    .dataframe tbody tr th:only-of-type {\n",
       "        vertical-align: middle;\n",
       "    }\n",
       "\n",
       "    .dataframe tbody tr th {\n",
       "        vertical-align: top;\n",
       "    }\n",
       "\n",
       "    .dataframe thead th {\n",
       "        text-align: right;\n",
       "    }\n",
       "</style>\n",
       "<table border=\"1\" class=\"dataframe\">\n",
       "  <thead>\n",
       "    <tr style=\"text-align: right;\">\n",
       "      <th></th>\n",
       "      <th>Unnamed: 0</th>\n",
       "      <th>comment_id</th>\n",
       "      <th>created</th>\n",
       "      <th>fullname</th>\n",
       "      <th>parent_id</th>\n",
       "      <th>subreddit</th>\n",
       "      <th>text</th>\n",
       "      <th>post_id</th>\n",
       "      <th>title</th>\n",
       "      <th>Unnamed: 0.1</th>\n",
       "    </tr>\n",
       "  </thead>\n",
       "  <tbody>\n",
       "    <tr>\n",
       "      <th>291</th>\n",
       "      <td>291</td>\n",
       "      <td>gz2fyp0</td>\n",
       "      <td>2021-05-22 16:13:15</td>\n",
       "      <td>t1_gz2fyp0</td>\n",
       "      <td>t3_niicjm</td>\n",
       "      <td>pennystocks</td>\n",
       "      <td>Technical analysis and astrology  are quite si...</td>\n",
       "      <td>NaN</td>\n",
       "      <td>NaN</td>\n",
       "      <td>NaN</td>\n",
       "    </tr>\n",
       "  </tbody>\n",
       "</table>\n",
       "</div>"
      ],
      "text/plain": [
       "     Unnamed: 0 comment_id              created    fullname  parent_id  \\\n",
       "291         291    gz2fyp0  2021-05-22 16:13:15  t1_gz2fyp0  t3_niicjm   \n",
       "\n",
       "       subreddit                                               text post_id  \\\n",
       "291  pennystocks  Technical analysis and astrology  are quite si...     NaN   \n",
       "\n",
       "    title  Unnamed: 0.1  \n",
       "291   NaN           NaN  "
      ]
     },
     "execution_count": 241,
     "metadata": {},
     "output_type": "execute_result"
    }
   ],
   "source": [
    "data.sample(1)"
   ]
  },
  {
   "cell_type": "code",
   "execution_count": 242,
   "id": "royal-anatomy",
   "metadata": {},
   "outputs": [
    {
     "data": {
      "text/html": [
       "<div>\n",
       "<style scoped>\n",
       "    .dataframe tbody tr th:only-of-type {\n",
       "        vertical-align: middle;\n",
       "    }\n",
       "\n",
       "    .dataframe tbody tr th {\n",
       "        vertical-align: top;\n",
       "    }\n",
       "\n",
       "    .dataframe thead th {\n",
       "        text-align: right;\n",
       "    }\n",
       "</style>\n",
       "<table border=\"1\" class=\"dataframe\">\n",
       "  <thead>\n",
       "    <tr style=\"text-align: right;\">\n",
       "      <th></th>\n",
       "      <th>comment_id</th>\n",
       "      <th>created</th>\n",
       "      <th>type</th>\n",
       "      <th>parent_id</th>\n",
       "      <th>subreddit</th>\n",
       "      <th>text</th>\n",
       "      <th>submission_id</th>\n",
       "    </tr>\n",
       "  </thead>\n",
       "  <tbody>\n",
       "    <tr>\n",
       "      <th>0</th>\n",
       "      <td>gylrunc</td>\n",
       "      <td>2021-05-18 19:10:20</td>\n",
       "      <td>t1</td>\n",
       "      <td>t3_nf66zs</td>\n",
       "      <td>stocks</td>\n",
       "      <td>And it’s all going green again</td>\n",
       "      <td>NaN</td>\n",
       "    </tr>\n",
       "  </tbody>\n",
       "</table>\n",
       "</div>"
      ],
      "text/plain": [
       "  comment_id              created type  parent_id subreddit  \\\n",
       "0    gylrunc  2021-05-18 19:10:20   t1  t3_nf66zs    stocks   \n",
       "\n",
       "                             text submission_id  \n",
       "0  And it’s all going green again           NaN  "
      ]
     },
     "execution_count": 242,
     "metadata": {},
     "output_type": "execute_result"
    }
   ],
   "source": [
    "data = data.drop(['Unnamed: 0','Unnamed: 0.1', 'title'],axis=1)\n",
    "data['fullname'] = data['fullname'].apply(lambda x: x[:2])\n",
    "data.rename(columns = {'fullname':'type'}, inplace = True)\n",
    "data.rename(columns = {'post_id':'submission_id'}, inplace = True)\n",
    "data.head(1)"
   ]
  },
  {
   "cell_type": "code",
   "execution_count": 243,
   "id": "unauthorized-congress",
   "metadata": {},
   "outputs": [
    {
     "data": {
      "text/html": [
       "<div>\n",
       "<style scoped>\n",
       "    .dataframe tbody tr th:only-of-type {\n",
       "        vertical-align: middle;\n",
       "    }\n",
       "\n",
       "    .dataframe tbody tr th {\n",
       "        vertical-align: top;\n",
       "    }\n",
       "\n",
       "    .dataframe thead th {\n",
       "        text-align: right;\n",
       "    }\n",
       "</style>\n",
       "<table border=\"1\" class=\"dataframe\">\n",
       "  <thead>\n",
       "    <tr style=\"text-align: right;\">\n",
       "      <th></th>\n",
       "      <th>comment_id</th>\n",
       "      <th>created</th>\n",
       "      <th>type</th>\n",
       "      <th>parent_id</th>\n",
       "      <th>subreddit</th>\n",
       "      <th>text</th>\n",
       "      <th>submission_id</th>\n",
       "    </tr>\n",
       "  </thead>\n",
       "  <tbody>\n",
       "    <tr>\n",
       "      <th>count</th>\n",
       "      <td>593201</td>\n",
       "      <td>643771</td>\n",
       "      <td>643771</td>\n",
       "      <td>593201</td>\n",
       "      <td>643771</td>\n",
       "      <td>615296</td>\n",
       "      <td>50570</td>\n",
       "    </tr>\n",
       "    <tr>\n",
       "      <th>unique</th>\n",
       "      <td>591032</td>\n",
       "      <td>409071</td>\n",
       "      <td>2</td>\n",
       "      <td>243814</td>\n",
       "      <td>7</td>\n",
       "      <td>539955</td>\n",
       "      <td>5795</td>\n",
       "    </tr>\n",
       "    <tr>\n",
       "      <th>top</th>\n",
       "      <td>gzfjyp2</td>\n",
       "      <td>2021-05-17 20:41:50</td>\n",
       "      <td>t1</td>\n",
       "      <td>t3_nmue5k</td>\n",
       "      <td>wallstreetbets</td>\n",
       "      <td>I am a bot from /r/wallstreetbets. Your submis...</td>\n",
       "      <td>nera1s</td>\n",
       "    </tr>\n",
       "    <tr>\n",
       "      <th>freq</th>\n",
       "      <td>4</td>\n",
       "      <td>83</td>\n",
       "      <td>593201</td>\n",
       "      <td>18336</td>\n",
       "      <td>555055</td>\n",
       "      <td>3982</td>\n",
       "      <td>83</td>\n",
       "    </tr>\n",
       "  </tbody>\n",
       "</table>\n",
       "</div>"
      ],
      "text/plain": [
       "       comment_id              created    type  parent_id       subreddit  \\\n",
       "count      593201               643771  643771     593201          643771   \n",
       "unique     591032               409071       2     243814               7   \n",
       "top       gzfjyp2  2021-05-17 20:41:50      t1  t3_nmue5k  wallstreetbets   \n",
       "freq            4                   83  593201      18336          555055   \n",
       "\n",
       "                                                     text submission_id  \n",
       "count                                              615296         50570  \n",
       "unique                                             539955          5795  \n",
       "top     I am a bot from /r/wallstreetbets. Your submis...        nera1s  \n",
       "freq                                                 3982            83  "
      ]
     },
     "execution_count": 243,
     "metadata": {},
     "output_type": "execute_result"
    }
   ],
   "source": [
    "data.describe()"
   ]
  },
  {
   "cell_type": "code",
   "execution_count": 244,
   "id": "durable-gamma",
   "metadata": {
    "collapsed": true,
    "jupyter": {
     "outputs_hidden": true
    }
   },
   "outputs": [
    {
     "data": {
      "text/html": [
       "<div>\n",
       "<style scoped>\n",
       "    .dataframe tbody tr th:only-of-type {\n",
       "        vertical-align: middle;\n",
       "    }\n",
       "\n",
       "    .dataframe tbody tr th {\n",
       "        vertical-align: top;\n",
       "    }\n",
       "\n",
       "    .dataframe thead th {\n",
       "        text-align: right;\n",
       "    }\n",
       "</style>\n",
       "<table border=\"1\" class=\"dataframe\">\n",
       "  <thead>\n",
       "    <tr style=\"text-align: right;\">\n",
       "      <th></th>\n",
       "      <th>comment_id</th>\n",
       "      <th>created</th>\n",
       "      <th>type</th>\n",
       "      <th>parent_id</th>\n",
       "      <th>subreddit</th>\n",
       "      <th>text</th>\n",
       "      <th>submission_id</th>\n",
       "    </tr>\n",
       "  </thead>\n",
       "  <tbody>\n",
       "    <tr>\n",
       "      <th>623</th>\n",
       "      <td>gz3qup7</td>\n",
       "      <td>2021-05-22 22:48:39</td>\n",
       "      <td>t1</td>\n",
       "      <td>t3_nintnh</td>\n",
       "      <td>pennystocks</td>\n",
       "      <td>Wow this is definitely my goal</td>\n",
       "      <td>NaN</td>\n",
       "    </tr>\n",
       "    <tr>\n",
       "      <th>9811</th>\n",
       "      <td>gz10bvt</td>\n",
       "      <td>2021-05-22 05:25:19</td>\n",
       "      <td>t1</td>\n",
       "      <td>t1_gz106fk</td>\n",
       "      <td>wallstreetbets</td>\n",
       "      <td>Amc better moon or I’m screwed on my calls</td>\n",
       "      <td>NaN</td>\n",
       "    </tr>\n",
       "    <tr>\n",
       "      <th>7184</th>\n",
       "      <td>gzoddod</td>\n",
       "      <td>2021-05-27 20:03:36</td>\n",
       "      <td>t1</td>\n",
       "      <td>t3_nmg57b</td>\n",
       "      <td>wallstreetbets</td>\n",
       "      <td>Did not time the markets perfectly today. Off ...</td>\n",
       "      <td>NaN</td>\n",
       "    </tr>\n",
       "    <tr>\n",
       "      <th>7393</th>\n",
       "      <td>gynj2lm</td>\n",
       "      <td>2021-05-19 03:17:44</td>\n",
       "      <td>t1</td>\n",
       "      <td>t3_nfklff</td>\n",
       "      <td>wallstreetbets</td>\n",
       "      <td>Today was ev tommorow semiconductors then cann...</td>\n",
       "      <td>NaN</td>\n",
       "    </tr>\n",
       "    <tr>\n",
       "      <th>8076</th>\n",
       "      <td>gzrsp4v</td>\n",
       "      <td>2021-05-28 15:56:12</td>\n",
       "      <td>t1</td>\n",
       "      <td>t1_gzrsf0c</td>\n",
       "      <td>wallstreetbets</td>\n",
       "      <td>Bullshit</td>\n",
       "      <td>NaN</td>\n",
       "    </tr>\n",
       "    <tr>\n",
       "      <th>3562</th>\n",
       "      <td>gywdq2s</td>\n",
       "      <td>2021-05-21 02:25:48</td>\n",
       "      <td>t1</td>\n",
       "      <td>t1_gywdk4l</td>\n",
       "      <td>wallstreetbets</td>\n",
       "      <td>You're average Masterpiece - that's not losing...</td>\n",
       "      <td>NaN</td>\n",
       "    </tr>\n",
       "    <tr>\n",
       "      <th>6062</th>\n",
       "      <td>gzoc4ik</td>\n",
       "      <td>2021-05-27 19:54:41</td>\n",
       "      <td>t1</td>\n",
       "      <td>t1_gzoc1n5</td>\n",
       "      <td>wallstreetbets</td>\n",
       "      <td>True words</td>\n",
       "      <td>NaN</td>\n",
       "    </tr>\n",
       "    <tr>\n",
       "      <th>1660</th>\n",
       "      <td>gz6qc46</td>\n",
       "      <td>2021-05-23 18:19:09</td>\n",
       "      <td>t1</td>\n",
       "      <td>t3_ni1fw5</td>\n",
       "      <td>wallstreetbets</td>\n",
       "      <td>Gonna laugh at my corn friends that thought i ...</td>\n",
       "      <td>NaN</td>\n",
       "    </tr>\n",
       "    <tr>\n",
       "      <th>7155</th>\n",
       "      <td>NaN</td>\n",
       "      <td>2021-05-23 17:48:39</td>\n",
       "      <td>t3</td>\n",
       "      <td>NaN</td>\n",
       "      <td>wallstreetbets</td>\n",
       "      <td>NaN</td>\n",
       "      <td>njcy4m</td>\n",
       "    </tr>\n",
       "    <tr>\n",
       "      <th>7988</th>\n",
       "      <td>gyqy5wg</td>\n",
       "      <td>2021-05-19 21:34:16</td>\n",
       "      <td>t1</td>\n",
       "      <td>t1_gyqxzq1</td>\n",
       "      <td>wallstreetbets</td>\n",
       "      <td>2% up thanks to a shitton of call credit sprea...</td>\n",
       "      <td>NaN</td>\n",
       "    </tr>\n",
       "  </tbody>\n",
       "</table>\n",
       "</div>"
      ],
      "text/plain": [
       "     comment_id              created type   parent_id       subreddit  \\\n",
       "623     gz3qup7  2021-05-22 22:48:39   t1   t3_nintnh     pennystocks   \n",
       "9811    gz10bvt  2021-05-22 05:25:19   t1  t1_gz106fk  wallstreetbets   \n",
       "7184    gzoddod  2021-05-27 20:03:36   t1   t3_nmg57b  wallstreetbets   \n",
       "7393    gynj2lm  2021-05-19 03:17:44   t1   t3_nfklff  wallstreetbets   \n",
       "8076    gzrsp4v  2021-05-28 15:56:12   t1  t1_gzrsf0c  wallstreetbets   \n",
       "3562    gywdq2s  2021-05-21 02:25:48   t1  t1_gywdk4l  wallstreetbets   \n",
       "6062    gzoc4ik  2021-05-27 19:54:41   t1  t1_gzoc1n5  wallstreetbets   \n",
       "1660    gz6qc46  2021-05-23 18:19:09   t1   t3_ni1fw5  wallstreetbets   \n",
       "7155        NaN  2021-05-23 17:48:39   t3         NaN  wallstreetbets   \n",
       "7988    gyqy5wg  2021-05-19 21:34:16   t1  t1_gyqxzq1  wallstreetbets   \n",
       "\n",
       "                                                   text submission_id  \n",
       "623                      Wow this is definitely my goal           NaN  \n",
       "9811         Amc better moon or I’m screwed on my calls           NaN  \n",
       "7184  Did not time the markets perfectly today. Off ...           NaN  \n",
       "7393  Today was ev tommorow semiconductors then cann...           NaN  \n",
       "8076                                           Bullshit           NaN  \n",
       "3562  You're average Masterpiece - that's not losing...           NaN  \n",
       "6062                                         True words           NaN  \n",
       "1660  Gonna laugh at my corn friends that thought i ...           NaN  \n",
       "7155                                                NaN        njcy4m  \n",
       "7988  2% up thanks to a shitton of call credit sprea...           NaN  "
      ]
     },
     "execution_count": 244,
     "metadata": {},
     "output_type": "execute_result"
    }
   ],
   "source": [
    "data.sample(10)"
   ]
  },
  {
   "cell_type": "code",
   "execution_count": 245,
   "id": "numeric-momentum",
   "metadata": {},
   "outputs": [
    {
     "data": {
      "text/plain": [
       "wallstreetbets    555055\n",
       "stocks             35377\n",
       "investing          22308\n",
       "StockMarket        14014\n",
       "pennystocks        12012\n",
       "algotrading         4004\n",
       "RobinHood           1001\n",
       "Name: subreddit, dtype: int64"
      ]
     },
     "execution_count": 245,
     "metadata": {},
     "output_type": "execute_result"
    }
   ],
   "source": [
    "data['subreddit'].value_counts()"
   ]
  },
  {
   "cell_type": "code",
   "execution_count": 254,
   "id": "alone-spring",
   "metadata": {},
   "outputs": [],
   "source": [
    "# Split data into comments and submissions\n",
    "data_submissions = data[data['type'] == 't3']\n",
    "data_submissions = data_submissions.drop(['comment_id','parent_id'],axis=1)\n",
    "data_submissions = data_submissions.dropna()\n",
    "data_comments = data[data['type'] == 't1']\n",
    "data_comments = data_comments.drop(['submission_id'],axis=1)\n",
    "data_comments = data_comments.dropna()"
   ]
  },
  {
   "cell_type": "code",
   "execution_count": 261,
   "id": "appointed-climate",
   "metadata": {},
   "outputs": [],
   "source": [
    "## stock mentions\n",
    "data_submissions['Organizations'] = data_submissions['text'].apply(get_entities)"
   ]
  },
  {
   "cell_type": "code",
   "execution_count": 264,
   "id": "electric-turkey",
   "metadata": {},
   "outputs": [],
   "source": [
    "data_submissions.to_csv('../Data_Collecting/data_files/data_submissions.csv')"
   ]
  },
  {
   "cell_type": "code",
   "execution_count": 265,
   "id": "otherwise-bread",
   "metadata": {},
   "outputs": [],
   "source": [
    "data_comments['Organizations'] = data_comments['text'].apply(get_entities)"
   ]
  },
  {
   "cell_type": "code",
   "execution_count": 267,
   "id": "sought-engagement",
   "metadata": {},
   "outputs": [],
   "source": [
    "# Export new data set to a csv file\n",
    "data_comments.to_csv('../Data_Collecting/data_files/data_comments.csv')"
   ]
  },
  {
   "cell_type": "code",
   "execution_count": 274,
   "id": "miniature-bahrain",
   "metadata": {},
   "outputs": [
    {
     "data": {
      "text/plain": [
       "(22098, 6)"
      ]
     },
     "execution_count": 274,
     "metadata": {},
     "output_type": "execute_result"
    }
   ],
   "source": [
    "#data_comments.shape\n",
    "data_submissions.shape"
   ]
  },
  {
   "cell_type": "code",
   "execution_count": null,
   "id": "packed-uruguay",
   "metadata": {},
   "outputs": [],
   "source": []
  },
  {
   "cell_type": "code",
   "execution_count": 287,
   "id": "premier-utilization",
   "metadata": {},
   "outputs": [
    {
     "data": {
      "text/plain": [
       "wallstreetbets    17550\n",
       "stocks             1265\n",
       "investing          1003\n",
       "pennystocks         845\n",
       "algotrading         795\n",
       "StockMarket         368\n",
       "RobinHood           272\n",
       "Name: subreddit, dtype: int64"
      ]
     },
     "execution_count": 287,
     "metadata": {},
     "output_type": "execute_result"
    }
   ],
   "source": [
    "data_submissions['subreddit'].value_counts()"
   ]
  },
  {
   "cell_type": "markdown",
   "id": "considerable-picture",
   "metadata": {},
   "source": [
    "## A look at the mentions"
   ]
  },
  {
   "cell_type": "code",
   "execution_count": 294,
   "id": "applicable-graham",
   "metadata": {},
   "outputs": [],
   "source": [
    "from collections import Counter"
   ]
  },
  {
   "cell_type": "code",
   "execution_count": 340,
   "id": "surgical-tolerance",
   "metadata": {},
   "outputs": [],
   "source": [
    "BLACKLIST = ['🚀','spy', 'RemindMe', '’ve', 'NYSE', 'CNBC','flair%3AYOLO', 'Daily Advice Thread](https://www.reddit.com','NightMan', 'FDA','YoY', 'Weekly Earnings Discussion Thread](https://www.reddit.com','Weekly](https://www.reddit.com']\n",
    "ORGS_TICKER = {\"Alibaba\":\"HKG\",\"AMC\":\"AMC\",\"Amazon\":\"AMZN\",\"BlackBerry\": \"BB\",\"Ford\":\"FORD\",\"Palantir Technologies\":\"PLTR\",\"FORD\":\"FORD\", \"Lordstown Motors\":\"RIDE\",\"Virgin Galactic\":\"SPCE\",\"c3.AI\":\"AI\",\"Tesla\":\"TSLA\", \"General Electric\":\"GE\",\"Apple\":\"AAPL\",\"GameStop\":\"GME\",\"Gamestop\":\"GME\", \"Nokia\":\"NOK\"}"
   ]
  },
  {
   "cell_type": "code",
   "execution_count": 341,
   "id": "conventional-serial",
   "metadata": {},
   "outputs": [
    {
     "data": {
      "text/plain": [
       "[('AMC', 22301),\n",
       " ('GME', 17450),\n",
       " ('PLTR', 2655),\n",
       " ('AAPL', 2523),\n",
       " ('SPCE', 2362),\n",
       " ('AMZN', 2252),\n",
       " ('FORD', 2162),\n",
       " ('AMD', 1714),\n",
       " ('TSLA', 1362),\n",
       " ('SEC', 1289),\n",
       " ('ATH', 1021),\n",
       " ('NOK', 1021),\n",
       " ('OTM', 892),\n",
       " ('EOD', 890),\n",
       " ('ITM', 847),\n",
       " ('AI', 627),\n",
       " ('FOMO', 627),\n",
       " ('COIN', 601),\n",
       " ('VIX', 560),\n",
       " ('BB', 540)]"
      ]
     },
     "execution_count": 341,
     "metadata": {},
     "output_type": "execute_result"
    }
   ],
   "source": [
    "org_list = []\n",
    "for orgs in data_submissions['Organizations']:\n",
    "    for org in orgs:\n",
    "        if org not in BLACKLIST:\n",
    "            if org in ORGS_TICKER:\n",
    "                org = ORGS_TICKER[org]\n",
    "                org_list.append(org)\n",
    "            else:\n",
    "                 org_list.append(org)\n",
    "for orgs in data_comments['Organizations']:\n",
    "    for org in orgs:\n",
    "        if org not in BLACKLIST:\n",
    "            if org in ORGS_TICKER:\n",
    "                org = ORGS_TICKER[org]\n",
    "                org_list.append(org)\n",
    "            else:\n",
    "                 org_list.append(org)\n",
    "\n",
    "            \n",
    "# Most frequent mentioned orgs\n",
    "org_freq = Counter(org_list)\n",
    "org_freq.most_common(20)"
   ]
  },
  {
   "cell_type": "code",
   "execution_count": 298,
   "id": "incomplete-thumbnail",
   "metadata": {},
   "outputs": [
    {
     "data": {
      "text/html": [
       "<div>\n",
       "<style scoped>\n",
       "    .dataframe tbody tr th:only-of-type {\n",
       "        vertical-align: middle;\n",
       "    }\n",
       "\n",
       "    .dataframe tbody tr th {\n",
       "        vertical-align: top;\n",
       "    }\n",
       "\n",
       "    .dataframe thead th {\n",
       "        text-align: right;\n",
       "    }\n",
       "</style>\n",
       "<table border=\"1\" class=\"dataframe\">\n",
       "  <thead>\n",
       "    <tr style=\"text-align: right;\">\n",
       "      <th></th>\n",
       "      <th>created</th>\n",
       "      <th>type</th>\n",
       "      <th>subreddit</th>\n",
       "      <th>text</th>\n",
       "      <th>submission_id</th>\n",
       "      <th>Organizations</th>\n",
       "    </tr>\n",
       "  </thead>\n",
       "  <tbody>\n",
       "    <tr>\n",
       "      <th>30</th>\n",
       "      <td>2021-05-18 19:20:14</td>\n",
       "      <td>t3</td>\n",
       "      <td>stocks</td>\n",
       "      <td>I’m interested in investing into stocks but ha...</td>\n",
       "      <td>nfjkov</td>\n",
       "      <td>[]</td>\n",
       "    </tr>\n",
       "    <tr>\n",
       "      <th>104</th>\n",
       "      <td>2021-05-18 19:41:30</td>\n",
       "      <td>t3</td>\n",
       "      <td>stocks</td>\n",
       "      <td>Hi,\\n\\nThe reopening of the world is hopefully...</td>\n",
       "      <td>nfk4b2</td>\n",
       "      <td>[ABNB]</td>\n",
       "    </tr>\n",
       "    <tr>\n",
       "      <th>273</th>\n",
       "      <td>2021-05-18 20:23:07</td>\n",
       "      <td>t3</td>\n",
       "      <td>stocks</td>\n",
       "      <td>The article in NYT outlines why ATT has all th...</td>\n",
       "      <td>nfl6c8</td>\n",
       "      <td>[Disney, ATT, NYT, Time Warner, TPG, T-Mobile,...</td>\n",
       "    </tr>\n",
       "    <tr>\n",
       "      <th>301</th>\n",
       "      <td>2021-05-18 20:29:10</td>\n",
       "      <td>t3</td>\n",
       "      <td>stocks</td>\n",
       "      <td>**PsychoMarket Recap - Tuesday, May 18, 2021**...</td>\n",
       "      <td>nflbtz</td>\n",
       "      <td>[Powell’s, WDC, Royal Bank of Canada, the Fede...</td>\n",
       "    </tr>\n",
       "    <tr>\n",
       "      <th>322</th>\n",
       "      <td>2021-05-18 20:34:43</td>\n",
       "      <td>t3</td>\n",
       "      <td>stocks</td>\n",
       "      <td>This is a company I follow loosely. They ran a...</td>\n",
       "      <td>nflgyp</td>\n",
       "      <td>[Plymouth]</td>\n",
       "    </tr>\n",
       "    <tr>\n",
       "      <th>...</th>\n",
       "      <td>...</td>\n",
       "      <td>...</td>\n",
       "      <td>...</td>\n",
       "      <td>...</td>\n",
       "      <td>...</td>\n",
       "      <td>...</td>\n",
       "    </tr>\n",
       "    <tr>\n",
       "      <th>9007</th>\n",
       "      <td>2021-05-19 13:15:11</td>\n",
       "      <td>t3</td>\n",
       "      <td>wallstreetbets</td>\n",
       "      <td># Welcome to WSB!\\n\\n\\---\\n\\nAdditional readin...</td>\n",
       "      <td>ng5j36</td>\n",
       "      <td>[WSB Culture, NFT]</td>\n",
       "    </tr>\n",
       "    <tr>\n",
       "      <th>9008</th>\n",
       "      <td>2021-05-19 13:26:44</td>\n",
       "      <td>t3</td>\n",
       "      <td>wallstreetbets</td>\n",
       "      <td>&amp;#x200B;\\n\\nhttps://preview.redd.it/6ydt2a0mw2...</td>\n",
       "      <td>ng5tcb</td>\n",
       "      <td>[]</td>\n",
       "    </tr>\n",
       "    <tr>\n",
       "      <th>9012</th>\n",
       "      <td>2021-05-19 13:40:03</td>\n",
       "      <td>t3</td>\n",
       "      <td>wallstreetbets</td>\n",
       "      <td>Just a quick heads up, retards! We are getting...</td>\n",
       "      <td>ng64vr</td>\n",
       "      <td>[CBS, Fibo, LOT, UWMC](https://imgur.com]</td>\n",
       "    </tr>\n",
       "    <tr>\n",
       "      <th>9019</th>\n",
       "      <td>2021-05-19 14:19:09</td>\n",
       "      <td>t3</td>\n",
       "      <td>wallstreetbets</td>\n",
       "      <td>So the US government is supposed to release go...</td>\n",
       "      <td>ng73bn</td>\n",
       "      <td>[UAP, Lockheed, Boeing]</td>\n",
       "    </tr>\n",
       "    <tr>\n",
       "      <th>9022</th>\n",
       "      <td>2021-05-19 14:30:31</td>\n",
       "      <td>t3</td>\n",
       "      <td>wallstreetbets</td>\n",
       "      <td>I'm sure many people are aware that the Fideli...</td>\n",
       "      <td>ng7dxm</td>\n",
       "      <td>[]</td>\n",
       "    </tr>\n",
       "  </tbody>\n",
       "</table>\n",
       "<p>22098 rows × 6 columns</p>\n",
       "</div>"
      ],
      "text/plain": [
       "                  created type       subreddit  \\\n",
       "30    2021-05-18 19:20:14   t3          stocks   \n",
       "104   2021-05-18 19:41:30   t3          stocks   \n",
       "273   2021-05-18 20:23:07   t3          stocks   \n",
       "301   2021-05-18 20:29:10   t3          stocks   \n",
       "322   2021-05-18 20:34:43   t3          stocks   \n",
       "...                   ...  ...             ...   \n",
       "9007  2021-05-19 13:15:11   t3  wallstreetbets   \n",
       "9008  2021-05-19 13:26:44   t3  wallstreetbets   \n",
       "9012  2021-05-19 13:40:03   t3  wallstreetbets   \n",
       "9019  2021-05-19 14:19:09   t3  wallstreetbets   \n",
       "9022  2021-05-19 14:30:31   t3  wallstreetbets   \n",
       "\n",
       "                                                   text submission_id  \\\n",
       "30    I’m interested in investing into stocks but ha...        nfjkov   \n",
       "104   Hi,\\n\\nThe reopening of the world is hopefully...        nfk4b2   \n",
       "273   The article in NYT outlines why ATT has all th...        nfl6c8   \n",
       "301   **PsychoMarket Recap - Tuesday, May 18, 2021**...        nflbtz   \n",
       "322   This is a company I follow loosely. They ran a...        nflgyp   \n",
       "...                                                 ...           ...   \n",
       "9007  # Welcome to WSB!\\n\\n\\---\\n\\nAdditional readin...        ng5j36   \n",
       "9008  &#x200B;\\n\\nhttps://preview.redd.it/6ydt2a0mw2...        ng5tcb   \n",
       "9012  Just a quick heads up, retards! We are getting...        ng64vr   \n",
       "9019  So the US government is supposed to release go...        ng73bn   \n",
       "9022  I'm sure many people are aware that the Fideli...        ng7dxm   \n",
       "\n",
       "                                          Organizations  \n",
       "30                                                   []  \n",
       "104                                              [ABNB]  \n",
       "273   [Disney, ATT, NYT, Time Warner, TPG, T-Mobile,...  \n",
       "301   [Powell’s, WDC, Royal Bank of Canada, the Fede...  \n",
       "322                                          [Plymouth]  \n",
       "...                                                 ...  \n",
       "9007                                 [WSB Culture, NFT]  \n",
       "9008                                                 []  \n",
       "9012          [CBS, Fibo, LOT, UWMC](https://imgur.com]  \n",
       "9019                            [UAP, Lockheed, Boeing]  \n",
       "9022                                                 []  \n",
       "\n",
       "[22098 rows x 6 columns]"
      ]
     },
     "execution_count": 298,
     "metadata": {},
     "output_type": "execute_result"
    }
   ],
   "source": []
  },
  {
   "cell_type": "code",
   "execution_count": null,
   "id": "earlier-excerpt",
   "metadata": {},
   "outputs": [],
   "source": []
  },
  {
   "cell_type": "code",
   "execution_count": null,
   "id": "blind-championship",
   "metadata": {},
   "outputs": [],
   "source": []
  },
  {
   "cell_type": "code",
   "execution_count": null,
   "id": "working-transaction",
   "metadata": {},
   "outputs": [],
   "source": []
  },
  {
   "cell_type": "code",
   "execution_count": null,
   "id": "stainless-decimal",
   "metadata": {},
   "outputs": [],
   "source": []
  },
  {
   "cell_type": "code",
   "execution_count": 149,
   "id": "green-flesh",
   "metadata": {},
   "outputs": [
    {
     "name": "stdout",
     "output_type": "stream",
     "text": [
      "*\n",
      "22\n",
      "0\n"
     ]
    },
    {
     "data": {
      "text/html": [
       "<div>\n",
       "<style scoped>\n",
       "    .dataframe tbody tr th:only-of-type {\n",
       "        vertical-align: middle;\n",
       "    }\n",
       "\n",
       "    .dataframe tbody tr th {\n",
       "        vertical-align: top;\n",
       "    }\n",
       "\n",
       "    .dataframe thead th {\n",
       "        text-align: right;\n",
       "    }\n",
       "</style>\n",
       "<table border=\"1\" class=\"dataframe\">\n",
       "  <thead>\n",
       "    <tr style=\"text-align: right;\">\n",
       "      <th></th>\n",
       "      <th>count</th>\n",
       "      <th>sample</th>\n",
       "    </tr>\n",
       "  </thead>\n",
       "  <tbody>\n",
       "    <tr>\n",
       "      <th>0</th>\n",
       "      <td>0.0</td>\n",
       "      <td>5689    BCRX is not a meme stock.  But, btw, t...</td>\n",
       "    </tr>\n",
       "  </tbody>\n",
       "</table>\n",
       "</div>"
      ],
      "text/plain": [
       "   count                                             sample\n",
       "0    0.0  5689    BCRX is not a meme stock.  But, btw, t..."
      ]
     },
     "execution_count": 149,
     "metadata": {},
     "output_type": "execute_result"
    }
   ],
   "source": [
    "sample = []\n",
    "for text in data['text'].sample():\n",
    "    sample = sample + text.split()\n",
    "print('*')\n",
    "print(len(sample))\n",
    "\n",
    "sam = [data['text'].sample(500)]\n",
    "\n",
    "sample = []\n",
    "for s in sam:\n",
    "    sample = sample + str().split()\n",
    "freq_sample = []\n",
    "result = {}\n",
    "df = pd.DataFrame()\n",
    "print(len(sample))\n",
    "# loop till string values present in list str\n",
    "for s in sam:             \n",
    "  \n",
    "    # checking for the duplicacy\n",
    "    if s not in freq_sample:\n",
    "        freq_sample.append(s) \n",
    "\n",
    "     \n",
    "for i in range(0, len(freq_sample)):\n",
    "\n",
    "    # count the frequency of each word(present \n",
    "    # in str2) in str and print\n",
    "    df = df.append({\n",
    "            'sample': freq_sample[i],\n",
    "            'count': sample.count(freq_sample[i])\n",
    "    }, ignore_index=True)\n",
    "    #result[sample.count(freq_sample[i])] = freq_sample[i]\n",
    "\n",
    "\n",
    "    #print('Frequency of', freq_sample[i], 'is :', sample.count(freq_sample[i]))    \n",
    "\n",
    "df.sort_values(by=['count'], ascending=False, axis=0)"
   ]
  },
  {
   "cell_type": "code",
   "execution_count": null,
   "id": "specific-piano",
   "metadata": {},
   "outputs": [],
   "source": [
    "\n",
    "\n",
    "\n"
   ]
  },
  {
   "cell_type": "code",
   "execution_count": null,
   "id": "innovative-civilization",
   "metadata": {},
   "outputs": [],
   "source": []
  },
  {
   "cell_type": "code",
   "execution_count": null,
   "id": "collect-eagle",
   "metadata": {},
   "outputs": [],
   "source": []
  },
  {
   "cell_type": "code",
   "execution_count": null,
   "id": "express-square",
   "metadata": {},
   "outputs": [],
   "source": []
  },
  {
   "cell_type": "code",
   "execution_count": null,
   "id": "behind-martin",
   "metadata": {},
   "outputs": [],
   "source": []
  },
  {
   "cell_type": "code",
   "execution_count": null,
   "id": "adjacent-secretariat",
   "metadata": {},
   "outputs": [],
   "source": [
    "\n",
    "\n",
    "print('* '+file_name)\n",
    "    data = pd.read_csv(file_name,lineterminator='\\n')\n",
    "    # Transform data\n",
    "    print('   * Transforming data')\n",
    "    dfs = transform_reddit_data(data)\n",
    "    df_submissions = dfs[0]\n",
    "    df_comments = dfs[1]\n",
    "    # Persist submissions and comments \n",
    "    print('   * Persisting submissions')\n",
    "    insert_submissions(df_submissions)\n",
    "    #submissions.append(df_submissions)\n",
    "    print('   * Persisting comments')\n",
    "    insert_comments(df_comments)\n",
    "    #comments.append(df_comments) "
   ]
  },
  {
   "cell_type": "code",
   "execution_count": null,
   "id": "dynamic-duplicate",
   "metadata": {},
   "outputs": [],
   "source": [
    "df_row = pd.concat([df1, df2])\n",
    "\n",
    "df_row"
   ]
  }
 ],
 "metadata": {
  "kernelspec": {
   "display_name": "Python 3",
   "language": "python",
   "name": "python3"
  },
  "language_info": {
   "codemirror_mode": {
    "name": "ipython",
    "version": 3
   },
   "file_extension": ".py",
   "mimetype": "text/x-python",
   "name": "python",
   "nbconvert_exporter": "python",
   "pygments_lexer": "ipython3",
   "version": "3.8.5"
  }
 },
 "nbformat": 4,
 "nbformat_minor": 5
}
