{
 "cells": [
  {
   "cell_type": "code",
   "execution_count": 2,
   "id": "broadband-burning",
   "metadata": {},
   "outputs": [
    {
     "name": "stdout",
     "output_type": "stream",
     "text": [
      "importing Jupyter notebook from NER.ipynb\n"
     ]
    }
   ],
   "source": [
    "import pandas as pd\n",
    "import glob\n",
    "import datetime\n",
    "import import_ipynb\n",
    "from NER import get_entities"
   ]
  },
  {
   "cell_type": "code",
   "execution_count": 12,
   "id": "pending-resort",
   "metadata": {},
   "outputs": [],
   "source": [
    "data = pd.DataFrame()\n",
    "# read csv files int to a dataframe \n",
    "for file_name in glob.glob('../Data_Collecting/data_files/all_data_streams/'+'*.csv'):\n",
    "    df = pd.read_csv(file_name, lineterminator='\\n',index_col=0)\n",
    "    data = pd.concat([data, df])"
   ]
  },
  {
   "cell_type": "code",
   "execution_count": 13,
   "id": "living-option",
   "metadata": {},
   "outputs": [
    {
     "data": {
      "text/plain": [
       "(643771, 9)"
      ]
     },
     "execution_count": 13,
     "metadata": {},
     "output_type": "execute_result"
    }
   ],
   "source": [
    "data.shape"
   ]
  },
  {
   "cell_type": "code",
   "execution_count": 14,
   "id": "hearing-broadway",
   "metadata": {},
   "outputs": [
    {
     "data": {
      "text/html": [
       "<div>\n",
       "<style scoped>\n",
       "    .dataframe tbody tr th:only-of-type {\n",
       "        vertical-align: middle;\n",
       "    }\n",
       "\n",
       "    .dataframe tbody tr th {\n",
       "        vertical-align: top;\n",
       "    }\n",
       "\n",
       "    .dataframe thead th {\n",
       "        text-align: right;\n",
       "    }\n",
       "</style>\n",
       "<table border=\"1\" class=\"dataframe\">\n",
       "  <thead>\n",
       "    <tr style=\"text-align: right;\">\n",
       "      <th></th>\n",
       "      <th>comment_id</th>\n",
       "      <th>created</th>\n",
       "      <th>fullname</th>\n",
       "      <th>parent_id</th>\n",
       "      <th>subreddit</th>\n",
       "      <th>text</th>\n",
       "      <th>post_id</th>\n",
       "      <th>title</th>\n",
       "      <th>Unnamed: 0.1</th>\n",
       "    </tr>\n",
       "  </thead>\n",
       "  <tbody>\n",
       "    <tr>\n",
       "      <th>6248</th>\n",
       "      <td>gyiel5z</td>\n",
       "      <td>2021-05-18 00:18:14</td>\n",
       "      <td>t1_gyiel5z</td>\n",
       "      <td>t3_nevg8w</td>\n",
       "      <td>wallstreetbets</td>\n",
       "      <td>A free award for your brutal and amusing hones...</td>\n",
       "      <td>NaN</td>\n",
       "      <td>NaN</td>\n",
       "      <td>NaN</td>\n",
       "    </tr>\n",
       "  </tbody>\n",
       "</table>\n",
       "</div>"
      ],
      "text/plain": [
       "     comment_id              created    fullname  parent_id       subreddit  \\\n",
       "6248    gyiel5z  2021-05-18 00:18:14  t1_gyiel5z  t3_nevg8w  wallstreetbets   \n",
       "\n",
       "                                                   text post_id title  \\\n",
       "6248  A free award for your brutal and amusing hones...     NaN   NaN   \n",
       "\n",
       "      Unnamed: 0.1  \n",
       "6248           NaN  "
      ]
     },
     "execution_count": 14,
     "metadata": {},
     "output_type": "execute_result"
    }
   ],
   "source": [
    "data.sample()"
   ]
  },
  {
   "cell_type": "code",
   "execution_count": null,
   "id": "committed-authority",
   "metadata": {},
   "outputs": [],
   "source": []
  },
  {
   "cell_type": "markdown",
   "id": "neural-subscriber",
   "metadata": {},
   "source": [
    "## Clean data from data set"
   ]
  },
  {
   "cell_type": "code",
   "execution_count": 15,
   "id": "acquired-federation",
   "metadata": {},
   "outputs": [],
   "source": [
    "# Change timestamp to date (datetime.date)\n",
    "def datetime_to_date(timestamp):\n",
    "    return pd.to_datetime(timestamp).date()"
   ]
  },
  {
   "cell_type": "code",
   "execution_count": 16,
   "id": "imposed-spine",
   "metadata": {},
   "outputs": [
    {
     "data": {
      "text/html": [
       "<div>\n",
       "<style scoped>\n",
       "    .dataframe tbody tr th:only-of-type {\n",
       "        vertical-align: middle;\n",
       "    }\n",
       "\n",
       "    .dataframe tbody tr th {\n",
       "        vertical-align: top;\n",
       "    }\n",
       "\n",
       "    .dataframe thead th {\n",
       "        text-align: right;\n",
       "    }\n",
       "</style>\n",
       "<table border=\"1\" class=\"dataframe\">\n",
       "  <thead>\n",
       "    <tr style=\"text-align: right;\">\n",
       "      <th></th>\n",
       "      <th>comment_id</th>\n",
       "      <th>created</th>\n",
       "      <th>type</th>\n",
       "      <th>parent_id</th>\n",
       "      <th>subreddit</th>\n",
       "      <th>text</th>\n",
       "      <th>submission_id</th>\n",
       "    </tr>\n",
       "  </thead>\n",
       "  <tbody>\n",
       "    <tr>\n",
       "      <th>0</th>\n",
       "      <td>gylrunc</td>\n",
       "      <td>2021-05-18</td>\n",
       "      <td>t1</td>\n",
       "      <td>t3_nf66zs</td>\n",
       "      <td>stocks</td>\n",
       "      <td>And it’s all going green again</td>\n",
       "      <td>NaN</td>\n",
       "    </tr>\n",
       "    <tr>\n",
       "      <th>1</th>\n",
       "      <td>gylrwn7</td>\n",
       "      <td>2021-05-18</td>\n",
       "      <td>t1</td>\n",
       "      <td>t1_gylh7q1</td>\n",
       "      <td>stocks</td>\n",
       "      <td>Uh no. I already signed up forv$10K add on to ...</td>\n",
       "      <td>NaN</td>\n",
       "    </tr>\n",
       "    <tr>\n",
       "      <th>2</th>\n",
       "      <td>gylrzsa</td>\n",
       "      <td>2021-05-18</td>\n",
       "      <td>t1</td>\n",
       "      <td>t1_gylhiir</td>\n",
       "      <td>stocks</td>\n",
       "      <td>Billionaire investors aren’t actually any smar...</td>\n",
       "      <td>NaN</td>\n",
       "    </tr>\n",
       "    <tr>\n",
       "      <th>3</th>\n",
       "      <td>gylrzv8</td>\n",
       "      <td>2021-05-18</td>\n",
       "      <td>t1</td>\n",
       "      <td>t1_gylhiir</td>\n",
       "      <td>stocks</td>\n",
       "      <td>Well, he’s a monkey, so...</td>\n",
       "      <td>NaN</td>\n",
       "    </tr>\n",
       "    <tr>\n",
       "      <th>4</th>\n",
       "      <td>gyls2uk</td>\n",
       "      <td>2021-05-18</td>\n",
       "      <td>t1</td>\n",
       "      <td>t3_nfj008</td>\n",
       "      <td>stocks</td>\n",
       "      <td>There are only 2 rules i follow in investing:\\...</td>\n",
       "      <td>NaN</td>\n",
       "    </tr>\n",
       "  </tbody>\n",
       "</table>\n",
       "</div>"
      ],
      "text/plain": [
       "  comment_id     created type   parent_id subreddit  \\\n",
       "0    gylrunc  2021-05-18   t1   t3_nf66zs    stocks   \n",
       "1    gylrwn7  2021-05-18   t1  t1_gylh7q1    stocks   \n",
       "2    gylrzsa  2021-05-18   t1  t1_gylhiir    stocks   \n",
       "3    gylrzv8  2021-05-18   t1  t1_gylhiir    stocks   \n",
       "4    gyls2uk  2021-05-18   t1   t3_nfj008    stocks   \n",
       "\n",
       "                                                text submission_id  \n",
       "0                     And it’s all going green again           NaN  \n",
       "1  Uh no. I already signed up forv$10K add on to ...           NaN  \n",
       "2  Billionaire investors aren’t actually any smar...           NaN  \n",
       "3                         Well, he’s a monkey, so...           NaN  \n",
       "4  There are only 2 rules i follow in investing:\\...           NaN  "
      ]
     },
     "execution_count": 16,
     "metadata": {},
     "output_type": "execute_result"
    }
   ],
   "source": [
    "data = data.drop(['Unnamed: 0.1', 'title'],axis=1)\n",
    "data['fullname'] = data['fullname'].apply(lambda x: x[:2])\n",
    "data['created'] = data['created'].apply(datetime_to_date)\n",
    "data.rename(columns = {'fullname':'type'}, inplace = True) #t3 = submission, t1 = comment\n",
    "data.rename(columns = {'post_id':'submission_id'}, inplace = True)\n",
    "data.head()"
   ]
  },
  {
   "cell_type": "code",
   "execution_count": 17,
   "id": "focused-rubber",
   "metadata": {},
   "outputs": [
    {
     "data": {
      "text/html": [
       "<div>\n",
       "<style scoped>\n",
       "    .dataframe tbody tr th:only-of-type {\n",
       "        vertical-align: middle;\n",
       "    }\n",
       "\n",
       "    .dataframe tbody tr th {\n",
       "        vertical-align: top;\n",
       "    }\n",
       "\n",
       "    .dataframe thead th {\n",
       "        text-align: right;\n",
       "    }\n",
       "</style>\n",
       "<table border=\"1\" class=\"dataframe\">\n",
       "  <thead>\n",
       "    <tr style=\"text-align: right;\">\n",
       "      <th></th>\n",
       "      <th>comment_id</th>\n",
       "      <th>created</th>\n",
       "      <th>type</th>\n",
       "      <th>parent_id</th>\n",
       "      <th>subreddit</th>\n",
       "      <th>text</th>\n",
       "      <th>submission_id</th>\n",
       "    </tr>\n",
       "  </thead>\n",
       "  <tbody>\n",
       "    <tr>\n",
       "      <th>count</th>\n",
       "      <td>593201</td>\n",
       "      <td>643771</td>\n",
       "      <td>643771</td>\n",
       "      <td>593201</td>\n",
       "      <td>643771</td>\n",
       "      <td>615296</td>\n",
       "      <td>50570</td>\n",
       "    </tr>\n",
       "    <tr>\n",
       "      <th>unique</th>\n",
       "      <td>591032</td>\n",
       "      <td>33</td>\n",
       "      <td>2</td>\n",
       "      <td>243814</td>\n",
       "      <td>7</td>\n",
       "      <td>539955</td>\n",
       "      <td>5795</td>\n",
       "    </tr>\n",
       "    <tr>\n",
       "      <th>top</th>\n",
       "      <td>gzfmh9p</td>\n",
       "      <td>2021-05-28</td>\n",
       "      <td>t1</td>\n",
       "      <td>t3_nmue5k</td>\n",
       "      <td>wallstreetbets</td>\n",
       "      <td>I am a bot from /r/wallstreetbets. Your submis...</td>\n",
       "      <td>nera1s</td>\n",
       "    </tr>\n",
       "    <tr>\n",
       "      <th>freq</th>\n",
       "      <td>4</td>\n",
       "      <td>93654</td>\n",
       "      <td>593201</td>\n",
       "      <td>18336</td>\n",
       "      <td>555055</td>\n",
       "      <td>3982</td>\n",
       "      <td>83</td>\n",
       "    </tr>\n",
       "  </tbody>\n",
       "</table>\n",
       "</div>"
      ],
      "text/plain": [
       "       comment_id     created    type  parent_id       subreddit  \\\n",
       "count      593201      643771  643771     593201          643771   \n",
       "unique     591032          33       2     243814               7   \n",
       "top       gzfmh9p  2021-05-28      t1  t3_nmue5k  wallstreetbets   \n",
       "freq            4       93654  593201      18336          555055   \n",
       "\n",
       "                                                     text submission_id  \n",
       "count                                              615296         50570  \n",
       "unique                                             539955          5795  \n",
       "top     I am a bot from /r/wallstreetbets. Your submis...        nera1s  \n",
       "freq                                                 3982            83  "
      ]
     },
     "execution_count": 17,
     "metadata": {},
     "output_type": "execute_result"
    }
   ],
   "source": [
    "data.describe()"
   ]
  },
  {
   "cell_type": "code",
   "execution_count": 18,
   "id": "surprising-nickname",
   "metadata": {},
   "outputs": [
    {
     "data": {
      "text/plain": [
       "wallstreetbets    555055\n",
       "stocks             35377\n",
       "investing          22308\n",
       "StockMarket        14014\n",
       "pennystocks        12012\n",
       "algotrading         4004\n",
       "RobinHood           1001\n",
       "Name: subreddit, dtype: int64"
      ]
     },
     "execution_count": 18,
     "metadata": {},
     "output_type": "execute_result"
    }
   ],
   "source": [
    "data['subreddit'].value_counts()"
   ]
  },
  {
   "cell_type": "code",
   "execution_count": 29,
   "id": "computational-arizona",
   "metadata": {},
   "outputs": [
    {
     "data": {
      "text/plain": [
       "comment_id       0\n",
       "created          0\n",
       "type             0\n",
       "parent_id        0\n",
       "subreddit        0\n",
       "text             0\n",
       "submission_id    0\n",
       "dtype: int64"
      ]
     },
     "execution_count": 29,
     "metadata": {},
     "output_type": "execute_result"
    }
   ],
   "source": [
    "data['submission_id'].fillna(\"\", inplace=True)\n",
    "data['comment_id'].fillna(\"\", inplace=True)\n",
    "data['parent_id'].fillna(\"\", inplace=True)\n",
    "# count the missing values\n",
    "data.isnull().sum()\n",
    "data.dropna(inplace=True)"
   ]
  },
  {
   "cell_type": "code",
   "execution_count": 27,
   "id": "looking-ability",
   "metadata": {},
   "outputs": [],
   "source": []
  },
  {
   "cell_type": "markdown",
   "id": "large-great",
   "metadata": {},
   "source": [
    "## Add stock mentions to data set"
   ]
  },
  {
   "cell_type": "code",
   "execution_count": 74,
   "id": "american-robinson",
   "metadata": {},
   "outputs": [],
   "source": [
    "TOP_20 = ['AMC','GME','PLTR','AAPL','SPCE','AMZN','FORD','AMD','TSLA','SEC','ATH','NOK','OTM','ITM','AI','COIN','VIX','BB','RBLX','HODL']\n",
    "TICKER_DICT = {\"GameStop\":\"GME\",\"Palantir Technologies\":\"PLTR\",\"Apple\":\"AAPL\",\"Virgin Galactic\":\"SPCE\",\"Amazon\":\"AMZN\",\"Ford\":\"FORD\",\"Advanced Micro Devices\":\"AMD\",\"Tesla\":\"TSLA\",\"Senvest Capital\":\"SEC\",\"Senvest\":\"SEC\", \"Athene Holding\":\"ATH\", \"Athene\": \"ATH\",\"Nokia\":\"NOK\",\"ZPC Otmuchow SA\":\"OTM\", \"ZPC Otmuchow\":\"OTM\",\"ITM Power\":\"ITM\",\"BlackBerry\": \"BB\",\"c3.AI\":\"AI\", \"Coinbase Global\":\"COIN\", \"Coinbase\":\"COIN\",\"Roblox\":\"RBLX\",\"Cypherpunk\":\"HODL\"}"
   ]
  },
  {
   "cell_type": "code",
   "execution_count": 75,
   "id": "known-southeast",
   "metadata": {},
   "outputs": [],
   "source": [
    "# cleaning the orgs lists (no dublicates, only top 20 stocks, only tickers)\n",
    "def clean_orgs(organizations):\n",
    "    orgs = []\n",
    "    for org in organizations:\n",
    "        if org in TOP_20:\n",
    "            orgs.append(org)\n",
    "        elif org in TICKER_DICT:\n",
    "            org = TICKER_DICT[org]\n",
    "            orgs.append(org)\n",
    "    for org in orgs:\n",
    "        o = set(orgs)\n",
    "        orgs = list(o)\n",
    "        \n",
    "    return orgs"
   ]
  },
  {
   "cell_type": "code",
   "execution_count": 78,
   "id": "legal-device",
   "metadata": {},
   "outputs": [],
   "source": [
    "data['Organizations'] = data['text'].apply(get_entities).apply(clean_orgs)"
   ]
  },
  {
   "cell_type": "markdown",
   "id": "killing-morning",
   "metadata": {},
   "source": [
    "## Save to csv"
   ]
  },
  {
   "cell_type": "code",
   "execution_count": 81,
   "id": "rough-headline",
   "metadata": {},
   "outputs": [],
   "source": [
    "data.to_csv('./data_files/clean_data_with_orgs.csv')"
   ]
  },
  {
   "cell_type": "code",
   "execution_count": null,
   "id": "upper-secretariat",
   "metadata": {},
   "outputs": [],
   "source": []
  },
  {
   "cell_type": "code",
   "execution_count": null,
   "id": "fifth-pressing",
   "metadata": {},
   "outputs": [],
   "source": []
  }
 ],
 "metadata": {
  "kernelspec": {
   "display_name": "Python 3",
   "language": "python",
   "name": "python3"
  },
  "language_info": {
   "codemirror_mode": {
    "name": "ipython",
    "version": 3
   },
   "file_extension": ".py",
   "mimetype": "text/x-python",
   "name": "python",
   "nbconvert_exporter": "python",
   "pygments_lexer": "ipython3",
   "version": "3.8.5"
  }
 },
 "nbformat": 4,
 "nbformat_minor": 5
}
