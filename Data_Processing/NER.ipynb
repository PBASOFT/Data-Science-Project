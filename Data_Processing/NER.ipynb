{
 "cells": [
  {
   "cell_type": "code",
   "execution_count": 1,
   "id": "boolean-arabic",
   "metadata": {},
   "outputs": [],
   "source": [
    "import pandas as pd "
   ]
  },
  {
   "cell_type": "code",
   "execution_count": 16,
   "id": "missing-copper",
   "metadata": {},
   "outputs": [],
   "source": [
    "import spacy\n",
    "nlp = spacy.load('en_core_web_sm') "
   ]
  },
  {
   "cell_type": "code",
   "execution_count": 34,
   "id": "understood-friendship",
   "metadata": {},
   "outputs": [],
   "source": [
    "# Create list of represented Named Entities labeled with \"ORG\"\n",
    "BLACKLIST = ['🚀','spy', 'eps', 'rsi', 'wsb','dow','fidelity', 'nasdaq', 's&p500', 'lol', 'rockefeller', 'Weekly](https://www.reddit.com','vanguard', 'ev', 's&p', 'pe', 'fed', 'youtube', '|[^(info)](https://www.reddit.com', 'robinhood', 'qqq', 'the federal reserve', 'VIX','EOD','FOMO','RemindMe', '’ve', 'NYSE', 'CNBC','flair%3AYOLO', 'Daily Advice Thread](https://www.reddit.com','NightMan', 'FDA','YoY', 'Weekly Earnings Discussion Thread](https://www.reddit.com','Weekly](https://www.reddit.com']\n",
    "def get_entities(text):\n",
    "    doc = nlp(text)\n",
    "    org_list = []\n",
    "    for entity in doc.ents:\n",
    "        if entity.label_ == 'ORG' and entity.text.lower() not in BLACKLIST:\n",
    "            org_list.append(entity.text)\n",
    "    return list(set(org_list))"
   ]
  }
 ],
 "metadata": {
  "kernelspec": {
   "display_name": "Python 3",
   "language": "python",
   "name": "python3"
  },
  "language_info": {
   "codemirror_mode": {
    "name": "ipython",
    "version": 3
   },
   "file_extension": ".py",
   "mimetype": "text/x-python",
   "name": "python",
   "nbconvert_exporter": "python",
   "pygments_lexer": "ipython3",
   "version": "3.8.5"
  }
 },
 "nbformat": 4,
 "nbformat_minor": 5
}
