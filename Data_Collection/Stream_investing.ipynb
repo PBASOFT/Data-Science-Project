{
 "cells": [
  {
   "cell_type": "code",
   "execution_count": 2,
   "id": "following-boulder",
   "metadata": {},
   "outputs": [],
   "source": [
    "import praw\n",
    "import pandas as pd"
   ]
  },
  {
   "cell_type": "code",
   "execution_count": 7,
   "id": "significant-paste",
   "metadata": {},
   "outputs": [],
   "source": [
    "reddit = praw.Reddit(client_id = 'p7UHViVl0tL3Kw', \n",
    "                     client_secret = 'C_B_8UNAZatr1So5jJ9qeFmYpuHIyw',\n",
    "                     username = 'bigprojectdsc',\n",
    "                     password = 'BIGproject',\n",
    "                     user_agent =  'smallcaps'\n",
    "                    )"
   ]
  },
  {
   "cell_type": "code",
   "execution_count": 8,
   "id": "thousand-latino",
   "metadata": {},
   "outputs": [],
   "source": [
    "wallstreetbets_subreddit = reddit.subreddit('wallstreetbets')\n",
    "investing_subreddit = reddit.subreddit('Investing')\n",
    "stocks_subreddit = reddit.subreddit('Stocks')"
   ]
  },
  {
   "cell_type": "code",
   "execution_count": 13,
   "id": "accompanied-american",
   "metadata": {},
   "outputs": [],
   "source": [
    "# Variables for streaming part\n",
    "df_posts = pd.DataFrame()\n",
    "counter = 20\n",
    "data_folder = \"./data_files/wsb_stream\""
   ]
  },
  {
   "cell_type": "code",
   "execution_count": null,
   "id": "permanent-vancouver",
   "metadata": {},
   "outputs": [],
   "source": [
    "def submissions_and_comments(subreddit, **kwargs):\n",
    "    results = []\n",
    "    results.extend(subreddit.new(**kwargs))\n",
    "    results.extend(subreddit.comments(**kwargs))\n",
    "    results.sort(key=lambda post: post.created_utc, reverse=True)\n",
    "    return results\n",
    "\n",
    "subreddit = investing_subreddit\n",
    "stream = praw.models.util.stream_generator(lambda **kwargs: submissions_and_comments(subreddit, **kwargs))\n",
    "        \n",
    "for post in stream:\n",
    "    if len(df_posts.index) > 1000:\n",
    "        print('length:')\n",
    "        print(len(df_posts.index))\n",
    "        df_posts.to_csv(f\"{data_folder}{subreddit}_{counter}.csv\")\n",
    "        df_posts = pd.DataFrame()\n",
    "        counter+=1\n",
    "    if post.fullname[:2] == 't3':\n",
    "        #submission\n",
    "        df_posts = df_posts.append({\n",
    "            'post_id': post.id,\n",
    "            'title': post.title,\n",
    "            'created': pd.to_datetime(post.created_utc, unit = 's'),\n",
    "            'text': post.selftext,\n",
    "            'subreddit': post.subreddit,\n",
    "            'fullname': post.fullname\n",
    "            }, ignore_index=True)\n",
    "    elif post.fullname[:2] == 't1':\n",
    "        #comment\n",
    "        df_posts = df_posts.append({\n",
    "            'parent_id': post.parent_id,\n",
    "            'comment_id': post.id,\n",
    "            'created': pd.to_datetime(post.created_utc, unit = 's'),\n",
    "            'text': post.body,\n",
    "            'subreddit': post.subreddit,\n",
    "            'fullname': post.fullname\n",
    "            }, ignore_index=True)\n",
    "        "
   ]
  },
  {
   "cell_type": "code",
   "execution_count": 48,
   "id": "certified-copyright",
   "metadata": {},
   "outputs": [
    {
     "data": {
      "text/html": [
       "<div>\n",
       "<style scoped>\n",
       "    .dataframe tbody tr th:only-of-type {\n",
       "        vertical-align: middle;\n",
       "    }\n",
       "\n",
       "    .dataframe tbody tr th {\n",
       "        vertical-align: top;\n",
       "    }\n",
       "\n",
       "    .dataframe thead th {\n",
       "        text-align: right;\n",
       "    }\n",
       "</style>\n",
       "<table border=\"1\" class=\"dataframe\">\n",
       "  <thead>\n",
       "    <tr style=\"text-align: right;\">\n",
       "      <th></th>\n",
       "      <th>comment_id</th>\n",
       "      <th>created</th>\n",
       "      <th>fullname</th>\n",
       "      <th>parent_id</th>\n",
       "      <th>subreddit</th>\n",
       "      <th>text</th>\n",
       "      <th>post_id</th>\n",
       "      <th>title</th>\n",
       "    </tr>\n",
       "  </thead>\n",
       "  <tbody>\n",
       "    <tr>\n",
       "      <th>0</th>\n",
       "      <td>gzhxdww</td>\n",
       "      <td>2021-05-26 10:24:14</td>\n",
       "      <td>t1_gzhxdww</td>\n",
       "      <td>t3_nl3ne2</td>\n",
       "      <td>investing</td>\n",
       "      <td>Shipping goods with clean fuels, maybe. Idk if...</td>\n",
       "      <td>NaN</td>\n",
       "      <td>NaN</td>\n",
       "    </tr>\n",
       "    <tr>\n",
       "      <th>1</th>\n",
       "      <td>gzhxg16</td>\n",
       "      <td>2021-05-26 10:25:00</td>\n",
       "      <td>t1_gzhxg16</td>\n",
       "      <td>t1_gzh3iwe</td>\n",
       "      <td>investing</td>\n",
       "      <td>Yeah they rebounded much faster than anticipated</td>\n",
       "      <td>NaN</td>\n",
       "      <td>NaN</td>\n",
       "    </tr>\n",
       "    <tr>\n",
       "      <th>2</th>\n",
       "      <td>gzhxh7m</td>\n",
       "      <td>2021-05-26 10:25:27</td>\n",
       "      <td>t1_gzhxh7m</td>\n",
       "      <td>t1_gzecawl</td>\n",
       "      <td>investing</td>\n",
       "      <td>It is although risky cause some of the compani...</td>\n",
       "      <td>NaN</td>\n",
       "      <td>NaN</td>\n",
       "    </tr>\n",
       "    <tr>\n",
       "      <th>3</th>\n",
       "      <td>gzhxh9q</td>\n",
       "      <td>2021-05-26 10:25:28</td>\n",
       "      <td>t1_gzhxh9q</td>\n",
       "      <td>t3_nl3ne2</td>\n",
       "      <td>investing</td>\n",
       "      <td>The Italian airforce are paying €600k a seat t...</td>\n",
       "      <td>NaN</td>\n",
       "      <td>NaN</td>\n",
       "    </tr>\n",
       "    <tr>\n",
       "      <th>4</th>\n",
       "      <td>gzhxhkm</td>\n",
       "      <td>2021-05-26 10:25:35</td>\n",
       "      <td>t1_gzhxhkm</td>\n",
       "      <td>t3_nl640m</td>\n",
       "      <td>investing</td>\n",
       "      <td>Dude you got yourself into a badddddddd situat...</td>\n",
       "      <td>NaN</td>\n",
       "      <td>NaN</td>\n",
       "    </tr>\n",
       "    <tr>\n",
       "      <th>...</th>\n",
       "      <td>...</td>\n",
       "      <td>...</td>\n",
       "      <td>...</td>\n",
       "      <td>...</td>\n",
       "      <td>...</td>\n",
       "      <td>...</td>\n",
       "      <td>...</td>\n",
       "      <td>...</td>\n",
       "    </tr>\n",
       "    <tr>\n",
       "      <th>773</th>\n",
       "      <td>gzkanvl</td>\n",
       "      <td>2021-05-26 21:22:02</td>\n",
       "      <td>t1_gzkanvl</td>\n",
       "      <td>t1_gzk5k04</td>\n",
       "      <td>investing</td>\n",
       "      <td>How long until we see those benefits eroded? T...</td>\n",
       "      <td>NaN</td>\n",
       "      <td>NaN</td>\n",
       "    </tr>\n",
       "    <tr>\n",
       "      <th>774</th>\n",
       "      <td>gzkaqb9</td>\n",
       "      <td>2021-05-26 21:22:32</td>\n",
       "      <td>t1_gzkaqb9</td>\n",
       "      <td>t1_gzjxkbj</td>\n",
       "      <td>investing</td>\n",
       "      <td>Haven't recovered losses from the last few weeks.</td>\n",
       "      <td>NaN</td>\n",
       "      <td>NaN</td>\n",
       "    </tr>\n",
       "    <tr>\n",
       "      <th>775</th>\n",
       "      <td>gzkasq7</td>\n",
       "      <td>2021-05-26 21:23:01</td>\n",
       "      <td>t1_gzkasq7</td>\n",
       "      <td>t1_gzima5x</td>\n",
       "      <td>investing</td>\n",
       "      <td>Rather pirate then buy anything from Amazon.  ...</td>\n",
       "      <td>NaN</td>\n",
       "      <td>NaN</td>\n",
       "    </tr>\n",
       "    <tr>\n",
       "      <th>776</th>\n",
       "      <td>gzkatcm</td>\n",
       "      <td>2021-05-26 21:23:09</td>\n",
       "      <td>t1_gzkatcm</td>\n",
       "      <td>t1_gziuaoa</td>\n",
       "      <td>investing</td>\n",
       "      <td>Same goes for Disney, and I watch more on Disn...</td>\n",
       "      <td>NaN</td>\n",
       "      <td>NaN</td>\n",
       "    </tr>\n",
       "    <tr>\n",
       "      <th>777</th>\n",
       "      <td>gzkau22</td>\n",
       "      <td>2021-05-26 21:23:18</td>\n",
       "      <td>t1_gzkau22</td>\n",
       "      <td>t1_gzjxezc</td>\n",
       "      <td>investing</td>\n",
       "      <td>All of your comments are visible to other user...</td>\n",
       "      <td>NaN</td>\n",
       "      <td>NaN</td>\n",
       "    </tr>\n",
       "  </tbody>\n",
       "</table>\n",
       "<p>778 rows × 8 columns</p>\n",
       "</div>"
      ],
      "text/plain": [
       "    comment_id             created    fullname   parent_id  subreddit  \\\n",
       "0      gzhxdww 2021-05-26 10:24:14  t1_gzhxdww   t3_nl3ne2  investing   \n",
       "1      gzhxg16 2021-05-26 10:25:00  t1_gzhxg16  t1_gzh3iwe  investing   \n",
       "2      gzhxh7m 2021-05-26 10:25:27  t1_gzhxh7m  t1_gzecawl  investing   \n",
       "3      gzhxh9q 2021-05-26 10:25:28  t1_gzhxh9q   t3_nl3ne2  investing   \n",
       "4      gzhxhkm 2021-05-26 10:25:35  t1_gzhxhkm   t3_nl640m  investing   \n",
       "..         ...                 ...         ...         ...        ...   \n",
       "773    gzkanvl 2021-05-26 21:22:02  t1_gzkanvl  t1_gzk5k04  investing   \n",
       "774    gzkaqb9 2021-05-26 21:22:32  t1_gzkaqb9  t1_gzjxkbj  investing   \n",
       "775    gzkasq7 2021-05-26 21:23:01  t1_gzkasq7  t1_gzima5x  investing   \n",
       "776    gzkatcm 2021-05-26 21:23:09  t1_gzkatcm  t1_gziuaoa  investing   \n",
       "777    gzkau22 2021-05-26 21:23:18  t1_gzkau22  t1_gzjxezc  investing   \n",
       "\n",
       "                                                  text post_id title  \n",
       "0    Shipping goods with clean fuels, maybe. Idk if...     NaN   NaN  \n",
       "1     Yeah they rebounded much faster than anticipated     NaN   NaN  \n",
       "2    It is although risky cause some of the compani...     NaN   NaN  \n",
       "3    The Italian airforce are paying €600k a seat t...     NaN   NaN  \n",
       "4    Dude you got yourself into a badddddddd situat...     NaN   NaN  \n",
       "..                                                 ...     ...   ...  \n",
       "773  How long until we see those benefits eroded? T...     NaN   NaN  \n",
       "774  Haven't recovered losses from the last few weeks.     NaN   NaN  \n",
       "775  Rather pirate then buy anything from Amazon.  ...     NaN   NaN  \n",
       "776  Same goes for Disney, and I watch more on Disn...     NaN   NaN  \n",
       "777  All of your comments are visible to other user...     NaN   NaN  \n",
       "\n",
       "[778 rows x 8 columns]"
      ]
     },
     "execution_count": 48,
     "metadata": {},
     "output_type": "execute_result"
    }
   ],
   "source": [
    "df_posts"
   ]
  },
  {
   "cell_type": "code",
   "execution_count": null,
   "id": "typical-objective",
   "metadata": {},
   "outputs": [],
   "source": []
  },
  {
   "cell_type": "code",
   "execution_count": null,
   "id": "municipal-penguin",
   "metadata": {},
   "outputs": [],
   "source": []
  },
  {
   "cell_type": "markdown",
   "id": "textile-exemption",
   "metadata": {},
   "source": [
    "## HBASE"
   ]
  },
  {
   "cell_type": "code",
   "execution_count": 18,
   "id": "alternate-finger",
   "metadata": {
    "collapsed": true,
    "jupyter": {
     "outputs_hidden": true
    }
   },
   "outputs": [
    {
     "name": "stdout",
     "output_type": "stream",
     "text": [
      "Collecting virtualenv\n",
      "  Downloading virtualenv-20.4.6-py2.py3-none-any.whl (7.2 MB)\n",
      "\u001b[K     |████████████████████████████████| 7.2 MB 2.7 MB/s eta 0:00:01     |████                            | 901 kB 2.7 MB/s eta 0:00:03     |████████████████████            | 4.5 MB 2.7 MB/s eta 0:00:01\n",
      "\u001b[?25hRequirement already satisfied: appdirs<2,>=1.4.3 in /Users/malenehansen/opt/anaconda3/lib/python3.8/site-packages (from virtualenv) (1.4.4)\n",
      "Requirement already satisfied: filelock<4,>=3.0.0 in /Users/malenehansen/opt/anaconda3/lib/python3.8/site-packages (from virtualenv) (3.0.12)\n",
      "Collecting distlib<1,>=0.3.1\n",
      "  Downloading distlib-0.3.1-py2.py3-none-any.whl (335 kB)\n",
      "\u001b[K     |████████████████████████████████| 335 kB 8.1 MB/s eta 0:00:01\n",
      "\u001b[?25hRequirement already satisfied: six<2,>=1.9.0 in /Users/malenehansen/opt/anaconda3/lib/python3.8/site-packages (from virtualenv) (1.15.0)\n",
      "Installing collected packages: distlib, virtualenv\n",
      "Successfully installed distlib-0.3.1 virtualenv-20.4.6\n"
     ]
    }
   ],
   "source": [
    "#!pip3 install happybase\n",
    "#!pip3 install virtualenv"
   ]
  },
  {
   "cell_type": "code",
   "execution_count": null,
   "id": "spread-knife",
   "metadata": {},
   "outputs": [],
   "source": []
  },
  {
   "cell_type": "code",
   "execution_count": 21,
   "id": "danish-station",
   "metadata": {},
   "outputs": [
    {
     "ename": "TTransportException",
     "evalue": "TTransportException(type=1, message=\"Could not connect to ('happybase', 9090)\")",
     "output_type": "error",
     "traceback": [
      "\u001b[0;31m---------------------------------------------------------------------------\u001b[0m",
      "\u001b[0;31mgaierror\u001b[0m                                  Traceback (most recent call last)",
      "\u001b[0;32m~/opt/anaconda3/lib/python3.8/site-packages/thriftpy2/transport/socket.py\u001b[0m in \u001b[0;36mopen\u001b[0;34m(self)\u001b[0m\n\u001b[1;32m     95\u001b[0m \u001b[0;34m\u001b[0m\u001b[0m\n\u001b[0;32m---> 96\u001b[0;31m             \u001b[0mself\u001b[0m\u001b[0;34m.\u001b[0m\u001b[0msock\u001b[0m\u001b[0;34m.\u001b[0m\u001b[0mconnect\u001b[0m\u001b[0;34m(\u001b[0m\u001b[0maddr\u001b[0m\u001b[0;34m)\u001b[0m\u001b[0;34m\u001b[0m\u001b[0;34m\u001b[0m\u001b[0m\n\u001b[0m\u001b[1;32m     97\u001b[0m \u001b[0;34m\u001b[0m\u001b[0m\n",
      "\u001b[0;31mgaierror\u001b[0m: [Errno 8] nodename nor servname provided, or not known",
      "\nDuring handling of the above exception, another exception occurred:\n",
      "\u001b[0;31mTTransportException\u001b[0m                       Traceback (most recent call last)",
      "\u001b[0;32m<ipython-input-21-96eebbc9e5e5>\u001b[0m in \u001b[0;36m<module>\u001b[0;34m\u001b[0m\n\u001b[1;32m      1\u001b[0m \u001b[0;32mimport\u001b[0m \u001b[0mhappybase\u001b[0m\u001b[0;34m\u001b[0m\u001b[0;34m\u001b[0m\u001b[0m\n\u001b[1;32m      2\u001b[0m \u001b[0;34m\u001b[0m\u001b[0m\n\u001b[0;32m----> 3\u001b[0;31m \u001b[0mconnection\u001b[0m \u001b[0;34m=\u001b[0m \u001b[0mhappybase\u001b[0m\u001b[0;34m.\u001b[0m\u001b[0mConnection\u001b[0m\u001b[0;34m(\u001b[0m\u001b[0;34m'happybase'\u001b[0m\u001b[0;34m)\u001b[0m\u001b[0;34m\u001b[0m\u001b[0;34m\u001b[0m\u001b[0m\n\u001b[0m",
      "\u001b[0;32m~/opt/anaconda3/lib/python3.8/site-packages/happybase/connection.py\u001b[0m in \u001b[0;36m__init__\u001b[0;34m(self, host, port, timeout, autoconnect, table_prefix, table_prefix_separator, compat, transport, protocol)\u001b[0m\n\u001b[1;32m    146\u001b[0m \u001b[0;34m\u001b[0m\u001b[0m\n\u001b[1;32m    147\u001b[0m         \u001b[0;32mif\u001b[0m \u001b[0mautoconnect\u001b[0m\u001b[0;34m:\u001b[0m\u001b[0;34m\u001b[0m\u001b[0;34m\u001b[0m\u001b[0m\n\u001b[0;32m--> 148\u001b[0;31m             \u001b[0mself\u001b[0m\u001b[0;34m.\u001b[0m\u001b[0mopen\u001b[0m\u001b[0;34m(\u001b[0m\u001b[0;34m)\u001b[0m\u001b[0;34m\u001b[0m\u001b[0;34m\u001b[0m\u001b[0m\n\u001b[0m\u001b[1;32m    149\u001b[0m \u001b[0;34m\u001b[0m\u001b[0m\n\u001b[1;32m    150\u001b[0m         \u001b[0mself\u001b[0m\u001b[0;34m.\u001b[0m\u001b[0m_initialized\u001b[0m \u001b[0;34m=\u001b[0m \u001b[0;32mTrue\u001b[0m\u001b[0;34m\u001b[0m\u001b[0;34m\u001b[0m\u001b[0m\n",
      "\u001b[0;32m~/opt/anaconda3/lib/python3.8/site-packages/happybase/connection.py\u001b[0m in \u001b[0;36mopen\u001b[0;34m(self)\u001b[0m\n\u001b[1;32m    174\u001b[0m \u001b[0;34m\u001b[0m\u001b[0m\n\u001b[1;32m    175\u001b[0m         \u001b[0mlogger\u001b[0m\u001b[0;34m.\u001b[0m\u001b[0mdebug\u001b[0m\u001b[0;34m(\u001b[0m\u001b[0;34m\"Opening Thrift transport to %s:%d\"\u001b[0m\u001b[0;34m,\u001b[0m \u001b[0mself\u001b[0m\u001b[0;34m.\u001b[0m\u001b[0mhost\u001b[0m\u001b[0;34m,\u001b[0m \u001b[0mself\u001b[0m\u001b[0;34m.\u001b[0m\u001b[0mport\u001b[0m\u001b[0;34m)\u001b[0m\u001b[0;34m\u001b[0m\u001b[0;34m\u001b[0m\u001b[0m\n\u001b[0;32m--> 176\u001b[0;31m         \u001b[0mself\u001b[0m\u001b[0;34m.\u001b[0m\u001b[0mtransport\u001b[0m\u001b[0;34m.\u001b[0m\u001b[0mopen\u001b[0m\u001b[0;34m(\u001b[0m\u001b[0;34m)\u001b[0m\u001b[0;34m\u001b[0m\u001b[0;34m\u001b[0m\u001b[0m\n\u001b[0m\u001b[1;32m    177\u001b[0m \u001b[0;34m\u001b[0m\u001b[0m\n\u001b[1;32m    178\u001b[0m     \u001b[0;32mdef\u001b[0m \u001b[0mclose\u001b[0m\u001b[0;34m(\u001b[0m\u001b[0mself\u001b[0m\u001b[0;34m)\u001b[0m\u001b[0;34m:\u001b[0m\u001b[0;34m\u001b[0m\u001b[0;34m\u001b[0m\u001b[0m\n",
      "\u001b[0;32m~/opt/anaconda3/lib/python3.8/site-packages/thriftpy2/transport/buffered/cybuffered.pyx\u001b[0m in \u001b[0;36mthriftpy2.transport.buffered.cybuffered.TCyBufferedTransport.open\u001b[0;34m()\u001b[0m\n",
      "\u001b[0;32m~/opt/anaconda3/lib/python3.8/site-packages/thriftpy2/transport/socket.py\u001b[0m in \u001b[0;36mopen\u001b[0;34m(self)\u001b[0m\n\u001b[1;32m    101\u001b[0m         \u001b[0;32mexcept\u001b[0m \u001b[0;34m(\u001b[0m\u001b[0msocket\u001b[0m\u001b[0;34m.\u001b[0m\u001b[0merror\u001b[0m\u001b[0;34m,\u001b[0m \u001b[0mOSError\u001b[0m\u001b[0;34m)\u001b[0m\u001b[0;34m:\u001b[0m\u001b[0;34m\u001b[0m\u001b[0;34m\u001b[0m\u001b[0m\n\u001b[1;32m    102\u001b[0m             \u001b[0mself\u001b[0m\u001b[0;34m.\u001b[0m\u001b[0mclose\u001b[0m\u001b[0;34m(\u001b[0m\u001b[0;34m)\u001b[0m\u001b[0;34m\u001b[0m\u001b[0;34m\u001b[0m\u001b[0m\n\u001b[0;32m--> 103\u001b[0;31m             raise TTransportException(\n\u001b[0m\u001b[1;32m    104\u001b[0m                 \u001b[0mtype\u001b[0m\u001b[0;34m=\u001b[0m\u001b[0mTTransportException\u001b[0m\u001b[0;34m.\u001b[0m\u001b[0mNOT_OPEN\u001b[0m\u001b[0;34m,\u001b[0m\u001b[0;34m\u001b[0m\u001b[0;34m\u001b[0m\u001b[0m\n\u001b[1;32m    105\u001b[0m                 message=\"Could not connect to %s\" % str(addr))\n",
      "\u001b[0;31mTTransportException\u001b[0m: TTransportException(type=1, message=\"Could not connect to ('happybase', 9090)\")"
     ]
    }
   ],
   "source": [
    "import happybase\n",
    "\n",
    "connection = happybase.Connection('http://localhost:16000/')"
   ]
  },
  {
   "cell_type": "code",
   "execution_count": 13,
   "id": "little-universe",
   "metadata": {},
   "outputs": [
    {
     "ename": "TTransportException",
     "evalue": "TTransportException(type=1, message=\"Could not connect to ('http://localhost:16010/', 9090)\")",
     "output_type": "error",
     "traceback": [
      "\u001b[0;31m---------------------------------------------------------------------------\u001b[0m",
      "\u001b[0;31mgaierror\u001b[0m                                  Traceback (most recent call last)",
      "\u001b[0;32m~/opt/anaconda3/lib/python3.8/site-packages/thriftpy2/transport/socket.py\u001b[0m in \u001b[0;36mopen\u001b[0;34m(self)\u001b[0m\n\u001b[1;32m     95\u001b[0m \u001b[0;34m\u001b[0m\u001b[0m\n\u001b[0;32m---> 96\u001b[0;31m             \u001b[0mself\u001b[0m\u001b[0;34m.\u001b[0m\u001b[0msock\u001b[0m\u001b[0;34m.\u001b[0m\u001b[0mconnect\u001b[0m\u001b[0;34m(\u001b[0m\u001b[0maddr\u001b[0m\u001b[0;34m)\u001b[0m\u001b[0;34m\u001b[0m\u001b[0;34m\u001b[0m\u001b[0m\n\u001b[0m\u001b[1;32m     97\u001b[0m \u001b[0;34m\u001b[0m\u001b[0m\n",
      "\u001b[0;31mgaierror\u001b[0m: [Errno 8] nodename nor servname provided, or not known",
      "\nDuring handling of the above exception, another exception occurred:\n",
      "\u001b[0;31mTTransportException\u001b[0m                       Traceback (most recent call last)",
      "\u001b[0;32m<ipython-input-13-967f689cf648>\u001b[0m in \u001b[0;36m<module>\u001b[0;34m\u001b[0m\n\u001b[0;32m----> 1\u001b[0;31m \u001b[0mconnection\u001b[0m\u001b[0;34m.\u001b[0m\u001b[0mopen\u001b[0m\u001b[0;34m(\u001b[0m\u001b[0;34m)\u001b[0m\u001b[0;34m\u001b[0m\u001b[0;34m\u001b[0m\u001b[0m\n\u001b[0m",
      "\u001b[0;32m~/opt/anaconda3/lib/python3.8/site-packages/happybase/connection.py\u001b[0m in \u001b[0;36mopen\u001b[0;34m(self)\u001b[0m\n\u001b[1;32m    174\u001b[0m \u001b[0;34m\u001b[0m\u001b[0m\n\u001b[1;32m    175\u001b[0m         \u001b[0mlogger\u001b[0m\u001b[0;34m.\u001b[0m\u001b[0mdebug\u001b[0m\u001b[0;34m(\u001b[0m\u001b[0;34m\"Opening Thrift transport to %s:%d\"\u001b[0m\u001b[0;34m,\u001b[0m \u001b[0mself\u001b[0m\u001b[0;34m.\u001b[0m\u001b[0mhost\u001b[0m\u001b[0;34m,\u001b[0m \u001b[0mself\u001b[0m\u001b[0;34m.\u001b[0m\u001b[0mport\u001b[0m\u001b[0;34m)\u001b[0m\u001b[0;34m\u001b[0m\u001b[0;34m\u001b[0m\u001b[0m\n\u001b[0;32m--> 176\u001b[0;31m         \u001b[0mself\u001b[0m\u001b[0;34m.\u001b[0m\u001b[0mtransport\u001b[0m\u001b[0;34m.\u001b[0m\u001b[0mopen\u001b[0m\u001b[0;34m(\u001b[0m\u001b[0;34m)\u001b[0m\u001b[0;34m\u001b[0m\u001b[0;34m\u001b[0m\u001b[0m\n\u001b[0m\u001b[1;32m    177\u001b[0m \u001b[0;34m\u001b[0m\u001b[0m\n\u001b[1;32m    178\u001b[0m     \u001b[0;32mdef\u001b[0m \u001b[0mclose\u001b[0m\u001b[0;34m(\u001b[0m\u001b[0mself\u001b[0m\u001b[0;34m)\u001b[0m\u001b[0;34m:\u001b[0m\u001b[0;34m\u001b[0m\u001b[0;34m\u001b[0m\u001b[0m\n",
      "\u001b[0;32m~/opt/anaconda3/lib/python3.8/site-packages/thriftpy2/transport/buffered/cybuffered.pyx\u001b[0m in \u001b[0;36mthriftpy2.transport.buffered.cybuffered.TCyBufferedTransport.open\u001b[0;34m()\u001b[0m\n",
      "\u001b[0;32m~/opt/anaconda3/lib/python3.8/site-packages/thriftpy2/transport/socket.py\u001b[0m in \u001b[0;36mopen\u001b[0;34m(self)\u001b[0m\n\u001b[1;32m    101\u001b[0m         \u001b[0;32mexcept\u001b[0m \u001b[0;34m(\u001b[0m\u001b[0msocket\u001b[0m\u001b[0;34m.\u001b[0m\u001b[0merror\u001b[0m\u001b[0;34m,\u001b[0m \u001b[0mOSError\u001b[0m\u001b[0;34m)\u001b[0m\u001b[0;34m:\u001b[0m\u001b[0;34m\u001b[0m\u001b[0;34m\u001b[0m\u001b[0m\n\u001b[1;32m    102\u001b[0m             \u001b[0mself\u001b[0m\u001b[0;34m.\u001b[0m\u001b[0mclose\u001b[0m\u001b[0;34m(\u001b[0m\u001b[0;34m)\u001b[0m\u001b[0;34m\u001b[0m\u001b[0;34m\u001b[0m\u001b[0m\n\u001b[0;32m--> 103\u001b[0;31m             raise TTransportException(\n\u001b[0m\u001b[1;32m    104\u001b[0m                 \u001b[0mtype\u001b[0m\u001b[0;34m=\u001b[0m\u001b[0mTTransportException\u001b[0m\u001b[0;34m.\u001b[0m\u001b[0mNOT_OPEN\u001b[0m\u001b[0;34m,\u001b[0m\u001b[0;34m\u001b[0m\u001b[0;34m\u001b[0m\u001b[0m\n\u001b[1;32m    105\u001b[0m                 message=\"Could not connect to %s\" % str(addr))\n",
      "\u001b[0;31mTTransportException\u001b[0m: TTransportException(type=1, message=\"Could not connect to ('http://localhost:16010/', 9090)\")"
     ]
    }
   ],
   "source": [
    "connection"
   ]
  },
  {
   "cell_type": "code",
   "execution_count": null,
   "id": "varied-singing",
   "metadata": {},
   "outputs": [],
   "source": []
  },
  {
   "cell_type": "code",
   "execution_count": null,
   "id": "enclosed-niger",
   "metadata": {},
   "outputs": [],
   "source": []
  },
  {
   "cell_type": "code",
   "execution_count": null,
   "id": "located-coffee",
   "metadata": {},
   "outputs": [],
   "source": []
  },
  {
   "cell_type": "code",
   "execution_count": null,
   "id": "authorized-mineral",
   "metadata": {},
   "outputs": [],
   "source": [
    "t1_gyezl32"
   ]
  },
  {
   "cell_type": "code",
   "execution_count": null,
   "id": "color-being",
   "metadata": {},
   "outputs": [],
   "source": []
  },
  {
   "cell_type": "code",
   "execution_count": null,
   "id": "signed-consent",
   "metadata": {},
   "outputs": [],
   "source": []
  },
  {
   "cell_type": "code",
   "execution_count": null,
   "id": "experienced-surname",
   "metadata": {},
   "outputs": [],
   "source": []
  }
 ],
 "metadata": {
  "kernelspec": {
   "display_name": "Python 3",
   "language": "python",
   "name": "python3"
  },
  "language_info": {
   "codemirror_mode": {
    "name": "ipython",
    "version": 3
   },
   "file_extension": ".py",
   "mimetype": "text/x-python",
   "name": "python",
   "nbconvert_exporter": "python",
   "pygments_lexer": "ipython3",
   "version": "3.8.5"
  }
 },
 "nbformat": 4,
 "nbformat_minor": 5
}
