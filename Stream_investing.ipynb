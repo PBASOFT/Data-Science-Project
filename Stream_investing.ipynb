{
 "cells": [
  {
   "cell_type": "code",
   "execution_count": 1,
   "id": "level-thread",
   "metadata": {},
   "outputs": [],
   "source": [
    "import praw\n",
    "import pandas as pd"
   ]
  },
  {
   "cell_type": "code",
   "execution_count": 2,
   "id": "retained-stick",
   "metadata": {},
   "outputs": [],
   "source": [
    "reddit = praw.Reddit(client_id = 'p7UHViVl0tL3Kw', \n",
    "                     client_secret = 'C_B_8UNAZatr1So5jJ9qeFmYpuHIyw',\n",
    "                     username = 'bigprojectdsc',\n",
    "                     password = 'BIGproject',\n",
    "                     user_agent =  'smallcaps'\n",
    "                    )"
   ]
  },
  {
   "cell_type": "code",
   "execution_count": 3,
   "id": "legislative-quick",
   "metadata": {},
   "outputs": [],
   "source": [
    "wallstreetbets_subreddit = reddit.subreddit('wallstreetbets')\n",
    "investing_subreddit = reddit.subreddit('Investing')\n",
    "stocks_subreddit = reddit.subreddit('Stocks')"
   ]
  },
  {
   "cell_type": "code",
   "execution_count": 40,
   "id": "sorted-motion",
   "metadata": {},
   "outputs": [],
   "source": [
    "# Variables for streaming part\n",
    "df_posts = pd.DataFrame()\n",
    "counter = 0\n",
    "data_folder = \"./data_files/\""
   ]
  },
  {
   "cell_type": "code",
   "execution_count": null,
   "id": "inside-eugene",
   "metadata": {},
   "outputs": [
    {
     "name": "stdout",
     "output_type": "stream",
     "text": [
      "length:\n",
      "1287\n",
      "length:\n",
      "1001\n",
      "length:\n",
      "1001\n",
      "length:\n",
      "1001\n",
      "length:\n",
      "1001\n",
      "length:\n",
      "1001\n",
      "length:\n",
      "1001\n",
      "length:\n",
      "1001\n",
      "length:\n",
      "1001\n",
      "length:\n",
      "1001\n",
      "length:\n",
      "1001\n",
      "length:\n",
      "1001\n",
      "length:\n",
      "1001\n",
      "length:\n",
      "1001\n"
     ]
    }
   ],
   "source": [
    "def submissions_and_comments(subreddit, **kwargs):\n",
    "    results = []\n",
    "    results.extend(subreddit.new(**kwargs))\n",
    "    results.extend(subreddit.comments(**kwargs))\n",
    "    results.sort(key=lambda post: post.created_utc, reverse=True)\n",
    "    return results\n",
    "\n",
    "subreddit = investing_subreddit\n",
    "stream = praw.models.util.stream_generator(lambda **kwargs: submissions_and_comments(subreddit, **kwargs))\n",
    "        \n",
    "for post in stream:\n",
    "    if len(df_posts.index) > 1000:\n",
    "        print('length:')\n",
    "        print(len(df_posts.index))\n",
    "        df_posts.to_csv(f\"{data_folder}{subreddit}_{counter}.csv\")\n",
    "        df_posts = pd.DataFrame()\n",
    "        counter+=1\n",
    "    if post.fullname[:2] == 't3':\n",
    "        #submission\n",
    "        df_posts = df_posts.append({\n",
    "            'post_id': post.id,\n",
    "            'title': post.title,\n",
    "            'created': pd.to_datetime(post.created_utc, unit = 's'),\n",
    "            'text': post.selftext,\n",
    "            'subreddit': post.subreddit,\n",
    "            'fullname': post.fullname\n",
    "            }, ignore_index=True)\n",
    "    elif post.fullname[:2] == 't1':\n",
    "        #comment\n",
    "        df_posts = df_posts.append({\n",
    "            'parent_id': post.parent_id,\n",
    "            'comment_id': post.id,\n",
    "            'created': pd.to_datetime(post.created_utc, unit = 's'),\n",
    "            'text': post.body,\n",
    "            'subreddit': post.subreddit,\n",
    "            'fullname': post.fullname\n",
    "            }, ignore_index=True)\n",
    "        "
   ]
  },
  {
   "cell_type": "code",
   "execution_count": 44,
   "id": "qualified-calcium",
   "metadata": {},
   "outputs": [
    {
     "data": {
      "text/html": [
       "<div>\n",
       "<style scoped>\n",
       "    .dataframe tbody tr th:only-of-type {\n",
       "        vertical-align: middle;\n",
       "    }\n",
       "\n",
       "    .dataframe tbody tr th {\n",
       "        vertical-align: top;\n",
       "    }\n",
       "\n",
       "    .dataframe thead th {\n",
       "        text-align: right;\n",
       "    }\n",
       "</style>\n",
       "<table border=\"1\" class=\"dataframe\">\n",
       "  <thead>\n",
       "    <tr style=\"text-align: right;\">\n",
       "      <th></th>\n",
       "      <th>created</th>\n",
       "      <th>fullname</th>\n",
       "      <th>post_id</th>\n",
       "      <th>subreddit</th>\n",
       "      <th>text</th>\n",
       "      <th>title</th>\n",
       "      <th>comment_id</th>\n",
       "      <th>parent_id</th>\n",
       "    </tr>\n",
       "  </thead>\n",
       "  <tbody>\n",
       "    <tr>\n",
       "      <th>0</th>\n",
       "      <td>2021-05-09 09:00:15</td>\n",
       "      <td>t3_n8adbk</td>\n",
       "      <td>n8adbk</td>\n",
       "      <td>investing</td>\n",
       "      <td>If your question is \"I have $10,000, what do I...</td>\n",
       "      <td>Daily Advice Thread - All basic help or advice...</td>\n",
       "      <td>NaN</td>\n",
       "      <td>NaN</td>\n",
       "    </tr>\n",
       "    <tr>\n",
       "      <th>1</th>\n",
       "      <td>2021-05-09 09:01:12</td>\n",
       "      <td>t3_n8adu5</td>\n",
       "      <td>n8adu5</td>\n",
       "      <td>investing</td>\n",
       "      <td>Have a general question?  Want to offer some c...</td>\n",
       "      <td>Daily General Discussion and spitballin thread...</td>\n",
       "      <td>NaN</td>\n",
       "      <td>NaN</td>\n",
       "    </tr>\n",
       "    <tr>\n",
       "      <th>2</th>\n",
       "      <td>2021-05-09 14:48:18</td>\n",
       "      <td>t3_n8fpef</td>\n",
       "      <td>n8fpef</td>\n",
       "      <td>investing</td>\n",
       "      <td>So I was reading up about how the Fed can atte...</td>\n",
       "      <td>Understanding the Supplementary Leverage Ratio...</td>\n",
       "      <td>NaN</td>\n",
       "      <td>NaN</td>\n",
       "    </tr>\n",
       "    <tr>\n",
       "      <th>3</th>\n",
       "      <td>2021-05-09 16:00:17</td>\n",
       "      <td>t3_n8h5gu</td>\n",
       "      <td>n8h5gu</td>\n",
       "      <td>investing</td>\n",
       "      <td>Just curious what everyone here is doing to pr...</td>\n",
       "      <td>Asset valuations - how are you protecting your...</td>\n",
       "      <td>NaN</td>\n",
       "      <td>NaN</td>\n",
       "    </tr>\n",
       "    <tr>\n",
       "      <th>4</th>\n",
       "      <td>2021-05-09 16:21:06</td>\n",
       "      <td>t3_n8hkut</td>\n",
       "      <td>n8hkut</td>\n",
       "      <td>investing</td>\n",
       "      <td>Ray Dalio, the master of the LinkedIn essay a...</td>\n",
       "      <td>Investing Styles Part 2: Ray Dalio and Risk-Pa...</td>\n",
       "      <td>NaN</td>\n",
       "      <td>NaN</td>\n",
       "    </tr>\n",
       "    <tr>\n",
       "      <th>...</th>\n",
       "      <td>...</td>\n",
       "      <td>...</td>\n",
       "      <td>...</td>\n",
       "      <td>...</td>\n",
       "      <td>...</td>\n",
       "      <td>...</td>\n",
       "      <td>...</td>\n",
       "      <td>...</td>\n",
       "    </tr>\n",
       "    <tr>\n",
       "      <th>1282</th>\n",
       "      <td>2021-05-18 06:25:39</td>\n",
       "      <td>t1_gyjgj5h</td>\n",
       "      <td>NaN</td>\n",
       "      <td>investing</td>\n",
       "      <td>You should replace \"possible\" with \"likely\" in...</td>\n",
       "      <td>NaN</td>\n",
       "      <td>gyjgj5h</td>\n",
       "      <td>t3_nf2vgl</td>\n",
       "    </tr>\n",
       "    <tr>\n",
       "      <th>1283</th>\n",
       "      <td>2021-05-18 06:27:33</td>\n",
       "      <td>t1_gyjgo5j</td>\n",
       "      <td>NaN</td>\n",
       "      <td>investing</td>\n",
       "      <td>&gt;Biden admin was seen as a positive event\\n\\ny...</td>\n",
       "      <td>NaN</td>\n",
       "      <td>gyjgo5j</td>\n",
       "      <td>t1_gyi5hu1</td>\n",
       "    </tr>\n",
       "    <tr>\n",
       "      <th>1284</th>\n",
       "      <td>2021-05-18 06:28:16</td>\n",
       "      <td>t1_gyjgq2d</td>\n",
       "      <td>NaN</td>\n",
       "      <td>investing</td>\n",
       "      <td>Hi, I apologise if my post isn't of particular...</td>\n",
       "      <td>NaN</td>\n",
       "      <td>gyjgq2d</td>\n",
       "      <td>t3_n9sn7g</td>\n",
       "    </tr>\n",
       "    <tr>\n",
       "      <th>1285</th>\n",
       "      <td>2021-05-18 06:30:12</td>\n",
       "      <td>t1_gyjgveq</td>\n",
       "      <td>NaN</td>\n",
       "      <td>investing</td>\n",
       "      <td>He unloaded before 2021. You can see the previ...</td>\n",
       "      <td>NaN</td>\n",
       "      <td>gyjgveq</td>\n",
       "      <td>t1_gyje9cz</td>\n",
       "    </tr>\n",
       "    <tr>\n",
       "      <th>1286</th>\n",
       "      <td>2021-05-18 06:30:33</td>\n",
       "      <td>t1_gyjgwbt</td>\n",
       "      <td>NaN</td>\n",
       "      <td>investing</td>\n",
       "      <td>The longer you wait, the more they dilute thei...</td>\n",
       "      <td>NaN</td>\n",
       "      <td>gyjgwbt</td>\n",
       "      <td>t1_gyjdjlg</td>\n",
       "    </tr>\n",
       "  </tbody>\n",
       "</table>\n",
       "<p>1287 rows × 8 columns</p>\n",
       "</div>"
      ],
      "text/plain": [
       "                 created    fullname post_id  subreddit  \\\n",
       "0    2021-05-09 09:00:15   t3_n8adbk  n8adbk  investing   \n",
       "1    2021-05-09 09:01:12   t3_n8adu5  n8adu5  investing   \n",
       "2    2021-05-09 14:48:18   t3_n8fpef  n8fpef  investing   \n",
       "3    2021-05-09 16:00:17   t3_n8h5gu  n8h5gu  investing   \n",
       "4    2021-05-09 16:21:06   t3_n8hkut  n8hkut  investing   \n",
       "...                  ...         ...     ...        ...   \n",
       "1282 2021-05-18 06:25:39  t1_gyjgj5h     NaN  investing   \n",
       "1283 2021-05-18 06:27:33  t1_gyjgo5j     NaN  investing   \n",
       "1284 2021-05-18 06:28:16  t1_gyjgq2d     NaN  investing   \n",
       "1285 2021-05-18 06:30:12  t1_gyjgveq     NaN  investing   \n",
       "1286 2021-05-18 06:30:33  t1_gyjgwbt     NaN  investing   \n",
       "\n",
       "                                                   text  \\\n",
       "0     If your question is \"I have $10,000, what do I...   \n",
       "1     Have a general question?  Want to offer some c...   \n",
       "2     So I was reading up about how the Fed can atte...   \n",
       "3     Just curious what everyone here is doing to pr...   \n",
       "4      Ray Dalio, the master of the LinkedIn essay a...   \n",
       "...                                                 ...   \n",
       "1282  You should replace \"possible\" with \"likely\" in...   \n",
       "1283  >Biden admin was seen as a positive event\\n\\ny...   \n",
       "1284  Hi, I apologise if my post isn't of particular...   \n",
       "1285  He unloaded before 2021. You can see the previ...   \n",
       "1286  The longer you wait, the more they dilute thei...   \n",
       "\n",
       "                                                  title comment_id   parent_id  \n",
       "0     Daily Advice Thread - All basic help or advice...        NaN         NaN  \n",
       "1     Daily General Discussion and spitballin thread...        NaN         NaN  \n",
       "2     Understanding the Supplementary Leverage Ratio...        NaN         NaN  \n",
       "3     Asset valuations - how are you protecting your...        NaN         NaN  \n",
       "4     Investing Styles Part 2: Ray Dalio and Risk-Pa...        NaN         NaN  \n",
       "...                                                 ...        ...         ...  \n",
       "1282                                                NaN    gyjgj5h   t3_nf2vgl  \n",
       "1283                                                NaN    gyjgo5j  t1_gyi5hu1  \n",
       "1284                                                NaN    gyjgq2d   t3_n9sn7g  \n",
       "1285                                                NaN    gyjgveq  t1_gyje9cz  \n",
       "1286                                                NaN    gyjgwbt  t1_gyjdjlg  \n",
       "\n",
       "[1287 rows x 8 columns]"
      ]
     },
     "execution_count": 44,
     "metadata": {},
     "output_type": "execute_result"
    }
   ],
   "source": [
    "df_posts"
   ]
  },
  {
   "cell_type": "code",
   "execution_count": null,
   "id": "radio-delay",
   "metadata": {},
   "outputs": [],
   "source": []
  },
  {
   "cell_type": "code",
   "execution_count": null,
   "id": "affecting-orlando",
   "metadata": {},
   "outputs": [],
   "source": []
  },
  {
   "cell_type": "markdown",
   "id": "powerful-woman",
   "metadata": {},
   "source": [
    "## HBASE"
   ]
  },
  {
   "cell_type": "code",
   "execution_count": 18,
   "id": "charged-rhythm",
   "metadata": {
    "collapsed": true,
    "jupyter": {
     "outputs_hidden": true
    }
   },
   "outputs": [
    {
     "name": "stdout",
     "output_type": "stream",
     "text": [
      "Collecting virtualenv\n",
      "  Downloading virtualenv-20.4.6-py2.py3-none-any.whl (7.2 MB)\n",
      "\u001b[K     |████████████████████████████████| 7.2 MB 2.7 MB/s eta 0:00:01     |████                            | 901 kB 2.7 MB/s eta 0:00:03     |████████████████████            | 4.5 MB 2.7 MB/s eta 0:00:01\n",
      "\u001b[?25hRequirement already satisfied: appdirs<2,>=1.4.3 in /Users/malenehansen/opt/anaconda3/lib/python3.8/site-packages (from virtualenv) (1.4.4)\n",
      "Requirement already satisfied: filelock<4,>=3.0.0 in /Users/malenehansen/opt/anaconda3/lib/python3.8/site-packages (from virtualenv) (3.0.12)\n",
      "Collecting distlib<1,>=0.3.1\n",
      "  Downloading distlib-0.3.1-py2.py3-none-any.whl (335 kB)\n",
      "\u001b[K     |████████████████████████████████| 335 kB 8.1 MB/s eta 0:00:01\n",
      "\u001b[?25hRequirement already satisfied: six<2,>=1.9.0 in /Users/malenehansen/opt/anaconda3/lib/python3.8/site-packages (from virtualenv) (1.15.0)\n",
      "Installing collected packages: distlib, virtualenv\n",
      "Successfully installed distlib-0.3.1 virtualenv-20.4.6\n"
     ]
    }
   ],
   "source": [
    "#!pip3 install happybase\n",
    "#!pip3 install virtualenv"
   ]
  },
  {
   "cell_type": "code",
   "execution_count": null,
   "id": "extraordinary-spending",
   "metadata": {},
   "outputs": [],
   "source": []
  },
  {
   "cell_type": "code",
   "execution_count": 21,
   "id": "extensive-observer",
   "metadata": {},
   "outputs": [
    {
     "ename": "TTransportException",
     "evalue": "TTransportException(type=1, message=\"Could not connect to ('happybase', 9090)\")",
     "output_type": "error",
     "traceback": [
      "\u001b[0;31m---------------------------------------------------------------------------\u001b[0m",
      "\u001b[0;31mgaierror\u001b[0m                                  Traceback (most recent call last)",
      "\u001b[0;32m~/opt/anaconda3/lib/python3.8/site-packages/thriftpy2/transport/socket.py\u001b[0m in \u001b[0;36mopen\u001b[0;34m(self)\u001b[0m\n\u001b[1;32m     95\u001b[0m \u001b[0;34m\u001b[0m\u001b[0m\n\u001b[0;32m---> 96\u001b[0;31m             \u001b[0mself\u001b[0m\u001b[0;34m.\u001b[0m\u001b[0msock\u001b[0m\u001b[0;34m.\u001b[0m\u001b[0mconnect\u001b[0m\u001b[0;34m(\u001b[0m\u001b[0maddr\u001b[0m\u001b[0;34m)\u001b[0m\u001b[0;34m\u001b[0m\u001b[0;34m\u001b[0m\u001b[0m\n\u001b[0m\u001b[1;32m     97\u001b[0m \u001b[0;34m\u001b[0m\u001b[0m\n",
      "\u001b[0;31mgaierror\u001b[0m: [Errno 8] nodename nor servname provided, or not known",
      "\nDuring handling of the above exception, another exception occurred:\n",
      "\u001b[0;31mTTransportException\u001b[0m                       Traceback (most recent call last)",
      "\u001b[0;32m<ipython-input-21-96eebbc9e5e5>\u001b[0m in \u001b[0;36m<module>\u001b[0;34m\u001b[0m\n\u001b[1;32m      1\u001b[0m \u001b[0;32mimport\u001b[0m \u001b[0mhappybase\u001b[0m\u001b[0;34m\u001b[0m\u001b[0;34m\u001b[0m\u001b[0m\n\u001b[1;32m      2\u001b[0m \u001b[0;34m\u001b[0m\u001b[0m\n\u001b[0;32m----> 3\u001b[0;31m \u001b[0mconnection\u001b[0m \u001b[0;34m=\u001b[0m \u001b[0mhappybase\u001b[0m\u001b[0;34m.\u001b[0m\u001b[0mConnection\u001b[0m\u001b[0;34m(\u001b[0m\u001b[0;34m'happybase'\u001b[0m\u001b[0;34m)\u001b[0m\u001b[0;34m\u001b[0m\u001b[0;34m\u001b[0m\u001b[0m\n\u001b[0m",
      "\u001b[0;32m~/opt/anaconda3/lib/python3.8/site-packages/happybase/connection.py\u001b[0m in \u001b[0;36m__init__\u001b[0;34m(self, host, port, timeout, autoconnect, table_prefix, table_prefix_separator, compat, transport, protocol)\u001b[0m\n\u001b[1;32m    146\u001b[0m \u001b[0;34m\u001b[0m\u001b[0m\n\u001b[1;32m    147\u001b[0m         \u001b[0;32mif\u001b[0m \u001b[0mautoconnect\u001b[0m\u001b[0;34m:\u001b[0m\u001b[0;34m\u001b[0m\u001b[0;34m\u001b[0m\u001b[0m\n\u001b[0;32m--> 148\u001b[0;31m             \u001b[0mself\u001b[0m\u001b[0;34m.\u001b[0m\u001b[0mopen\u001b[0m\u001b[0;34m(\u001b[0m\u001b[0;34m)\u001b[0m\u001b[0;34m\u001b[0m\u001b[0;34m\u001b[0m\u001b[0m\n\u001b[0m\u001b[1;32m    149\u001b[0m \u001b[0;34m\u001b[0m\u001b[0m\n\u001b[1;32m    150\u001b[0m         \u001b[0mself\u001b[0m\u001b[0;34m.\u001b[0m\u001b[0m_initialized\u001b[0m \u001b[0;34m=\u001b[0m \u001b[0;32mTrue\u001b[0m\u001b[0;34m\u001b[0m\u001b[0;34m\u001b[0m\u001b[0m\n",
      "\u001b[0;32m~/opt/anaconda3/lib/python3.8/site-packages/happybase/connection.py\u001b[0m in \u001b[0;36mopen\u001b[0;34m(self)\u001b[0m\n\u001b[1;32m    174\u001b[0m \u001b[0;34m\u001b[0m\u001b[0m\n\u001b[1;32m    175\u001b[0m         \u001b[0mlogger\u001b[0m\u001b[0;34m.\u001b[0m\u001b[0mdebug\u001b[0m\u001b[0;34m(\u001b[0m\u001b[0;34m\"Opening Thrift transport to %s:%d\"\u001b[0m\u001b[0;34m,\u001b[0m \u001b[0mself\u001b[0m\u001b[0;34m.\u001b[0m\u001b[0mhost\u001b[0m\u001b[0;34m,\u001b[0m \u001b[0mself\u001b[0m\u001b[0;34m.\u001b[0m\u001b[0mport\u001b[0m\u001b[0;34m)\u001b[0m\u001b[0;34m\u001b[0m\u001b[0;34m\u001b[0m\u001b[0m\n\u001b[0;32m--> 176\u001b[0;31m         \u001b[0mself\u001b[0m\u001b[0;34m.\u001b[0m\u001b[0mtransport\u001b[0m\u001b[0;34m.\u001b[0m\u001b[0mopen\u001b[0m\u001b[0;34m(\u001b[0m\u001b[0;34m)\u001b[0m\u001b[0;34m\u001b[0m\u001b[0;34m\u001b[0m\u001b[0m\n\u001b[0m\u001b[1;32m    177\u001b[0m \u001b[0;34m\u001b[0m\u001b[0m\n\u001b[1;32m    178\u001b[0m     \u001b[0;32mdef\u001b[0m \u001b[0mclose\u001b[0m\u001b[0;34m(\u001b[0m\u001b[0mself\u001b[0m\u001b[0;34m)\u001b[0m\u001b[0;34m:\u001b[0m\u001b[0;34m\u001b[0m\u001b[0;34m\u001b[0m\u001b[0m\n",
      "\u001b[0;32m~/opt/anaconda3/lib/python3.8/site-packages/thriftpy2/transport/buffered/cybuffered.pyx\u001b[0m in \u001b[0;36mthriftpy2.transport.buffered.cybuffered.TCyBufferedTransport.open\u001b[0;34m()\u001b[0m\n",
      "\u001b[0;32m~/opt/anaconda3/lib/python3.8/site-packages/thriftpy2/transport/socket.py\u001b[0m in \u001b[0;36mopen\u001b[0;34m(self)\u001b[0m\n\u001b[1;32m    101\u001b[0m         \u001b[0;32mexcept\u001b[0m \u001b[0;34m(\u001b[0m\u001b[0msocket\u001b[0m\u001b[0;34m.\u001b[0m\u001b[0merror\u001b[0m\u001b[0;34m,\u001b[0m \u001b[0mOSError\u001b[0m\u001b[0;34m)\u001b[0m\u001b[0;34m:\u001b[0m\u001b[0;34m\u001b[0m\u001b[0;34m\u001b[0m\u001b[0m\n\u001b[1;32m    102\u001b[0m             \u001b[0mself\u001b[0m\u001b[0;34m.\u001b[0m\u001b[0mclose\u001b[0m\u001b[0;34m(\u001b[0m\u001b[0;34m)\u001b[0m\u001b[0;34m\u001b[0m\u001b[0;34m\u001b[0m\u001b[0m\n\u001b[0;32m--> 103\u001b[0;31m             raise TTransportException(\n\u001b[0m\u001b[1;32m    104\u001b[0m                 \u001b[0mtype\u001b[0m\u001b[0;34m=\u001b[0m\u001b[0mTTransportException\u001b[0m\u001b[0;34m.\u001b[0m\u001b[0mNOT_OPEN\u001b[0m\u001b[0;34m,\u001b[0m\u001b[0;34m\u001b[0m\u001b[0;34m\u001b[0m\u001b[0m\n\u001b[1;32m    105\u001b[0m                 message=\"Could not connect to %s\" % str(addr))\n",
      "\u001b[0;31mTTransportException\u001b[0m: TTransportException(type=1, message=\"Could not connect to ('happybase', 9090)\")"
     ]
    }
   ],
   "source": [
    "import happybase\n",
    "\n",
    "connection = happybase.Connection('http://localhost:16000/')"
   ]
  },
  {
   "cell_type": "code",
   "execution_count": 13,
   "id": "frozen-transportation",
   "metadata": {},
   "outputs": [
    {
     "ename": "TTransportException",
     "evalue": "TTransportException(type=1, message=\"Could not connect to ('http://localhost:16010/', 9090)\")",
     "output_type": "error",
     "traceback": [
      "\u001b[0;31m---------------------------------------------------------------------------\u001b[0m",
      "\u001b[0;31mgaierror\u001b[0m                                  Traceback (most recent call last)",
      "\u001b[0;32m~/opt/anaconda3/lib/python3.8/site-packages/thriftpy2/transport/socket.py\u001b[0m in \u001b[0;36mopen\u001b[0;34m(self)\u001b[0m\n\u001b[1;32m     95\u001b[0m \u001b[0;34m\u001b[0m\u001b[0m\n\u001b[0;32m---> 96\u001b[0;31m             \u001b[0mself\u001b[0m\u001b[0;34m.\u001b[0m\u001b[0msock\u001b[0m\u001b[0;34m.\u001b[0m\u001b[0mconnect\u001b[0m\u001b[0;34m(\u001b[0m\u001b[0maddr\u001b[0m\u001b[0;34m)\u001b[0m\u001b[0;34m\u001b[0m\u001b[0;34m\u001b[0m\u001b[0m\n\u001b[0m\u001b[1;32m     97\u001b[0m \u001b[0;34m\u001b[0m\u001b[0m\n",
      "\u001b[0;31mgaierror\u001b[0m: [Errno 8] nodename nor servname provided, or not known",
      "\nDuring handling of the above exception, another exception occurred:\n",
      "\u001b[0;31mTTransportException\u001b[0m                       Traceback (most recent call last)",
      "\u001b[0;32m<ipython-input-13-967f689cf648>\u001b[0m in \u001b[0;36m<module>\u001b[0;34m\u001b[0m\n\u001b[0;32m----> 1\u001b[0;31m \u001b[0mconnection\u001b[0m\u001b[0;34m.\u001b[0m\u001b[0mopen\u001b[0m\u001b[0;34m(\u001b[0m\u001b[0;34m)\u001b[0m\u001b[0;34m\u001b[0m\u001b[0;34m\u001b[0m\u001b[0m\n\u001b[0m",
      "\u001b[0;32m~/opt/anaconda3/lib/python3.8/site-packages/happybase/connection.py\u001b[0m in \u001b[0;36mopen\u001b[0;34m(self)\u001b[0m\n\u001b[1;32m    174\u001b[0m \u001b[0;34m\u001b[0m\u001b[0m\n\u001b[1;32m    175\u001b[0m         \u001b[0mlogger\u001b[0m\u001b[0;34m.\u001b[0m\u001b[0mdebug\u001b[0m\u001b[0;34m(\u001b[0m\u001b[0;34m\"Opening Thrift transport to %s:%d\"\u001b[0m\u001b[0;34m,\u001b[0m \u001b[0mself\u001b[0m\u001b[0;34m.\u001b[0m\u001b[0mhost\u001b[0m\u001b[0;34m,\u001b[0m \u001b[0mself\u001b[0m\u001b[0;34m.\u001b[0m\u001b[0mport\u001b[0m\u001b[0;34m)\u001b[0m\u001b[0;34m\u001b[0m\u001b[0;34m\u001b[0m\u001b[0m\n\u001b[0;32m--> 176\u001b[0;31m         \u001b[0mself\u001b[0m\u001b[0;34m.\u001b[0m\u001b[0mtransport\u001b[0m\u001b[0;34m.\u001b[0m\u001b[0mopen\u001b[0m\u001b[0;34m(\u001b[0m\u001b[0;34m)\u001b[0m\u001b[0;34m\u001b[0m\u001b[0;34m\u001b[0m\u001b[0m\n\u001b[0m\u001b[1;32m    177\u001b[0m \u001b[0;34m\u001b[0m\u001b[0m\n\u001b[1;32m    178\u001b[0m     \u001b[0;32mdef\u001b[0m \u001b[0mclose\u001b[0m\u001b[0;34m(\u001b[0m\u001b[0mself\u001b[0m\u001b[0;34m)\u001b[0m\u001b[0;34m:\u001b[0m\u001b[0;34m\u001b[0m\u001b[0;34m\u001b[0m\u001b[0m\n",
      "\u001b[0;32m~/opt/anaconda3/lib/python3.8/site-packages/thriftpy2/transport/buffered/cybuffered.pyx\u001b[0m in \u001b[0;36mthriftpy2.transport.buffered.cybuffered.TCyBufferedTransport.open\u001b[0;34m()\u001b[0m\n",
      "\u001b[0;32m~/opt/anaconda3/lib/python3.8/site-packages/thriftpy2/transport/socket.py\u001b[0m in \u001b[0;36mopen\u001b[0;34m(self)\u001b[0m\n\u001b[1;32m    101\u001b[0m         \u001b[0;32mexcept\u001b[0m \u001b[0;34m(\u001b[0m\u001b[0msocket\u001b[0m\u001b[0;34m.\u001b[0m\u001b[0merror\u001b[0m\u001b[0;34m,\u001b[0m \u001b[0mOSError\u001b[0m\u001b[0;34m)\u001b[0m\u001b[0;34m:\u001b[0m\u001b[0;34m\u001b[0m\u001b[0;34m\u001b[0m\u001b[0m\n\u001b[1;32m    102\u001b[0m             \u001b[0mself\u001b[0m\u001b[0;34m.\u001b[0m\u001b[0mclose\u001b[0m\u001b[0;34m(\u001b[0m\u001b[0;34m)\u001b[0m\u001b[0;34m\u001b[0m\u001b[0;34m\u001b[0m\u001b[0m\n\u001b[0;32m--> 103\u001b[0;31m             raise TTransportException(\n\u001b[0m\u001b[1;32m    104\u001b[0m                 \u001b[0mtype\u001b[0m\u001b[0;34m=\u001b[0m\u001b[0mTTransportException\u001b[0m\u001b[0;34m.\u001b[0m\u001b[0mNOT_OPEN\u001b[0m\u001b[0;34m,\u001b[0m\u001b[0;34m\u001b[0m\u001b[0;34m\u001b[0m\u001b[0m\n\u001b[1;32m    105\u001b[0m                 message=\"Could not connect to %s\" % str(addr))\n",
      "\u001b[0;31mTTransportException\u001b[0m: TTransportException(type=1, message=\"Could not connect to ('http://localhost:16010/', 9090)\")"
     ]
    }
   ],
   "source": [
    "connection"
   ]
  },
  {
   "cell_type": "code",
   "execution_count": null,
   "id": "restricted-heater",
   "metadata": {},
   "outputs": [],
   "source": []
  },
  {
   "cell_type": "code",
   "execution_count": null,
   "id": "strange-controversy",
   "metadata": {},
   "outputs": [],
   "source": []
  },
  {
   "cell_type": "code",
   "execution_count": null,
   "id": "functioning-metropolitan",
   "metadata": {},
   "outputs": [],
   "source": []
  },
  {
   "cell_type": "code",
   "execution_count": null,
   "id": "first-tracker",
   "metadata": {},
   "outputs": [],
   "source": [
    "t1_gyezl32"
   ]
  },
  {
   "cell_type": "code",
   "execution_count": null,
   "id": "injured-still",
   "metadata": {},
   "outputs": [],
   "source": []
  },
  {
   "cell_type": "code",
   "execution_count": null,
   "id": "sudden-dress",
   "metadata": {},
   "outputs": [],
   "source": []
  },
  {
   "cell_type": "code",
   "execution_count": null,
   "id": "annual-alert",
   "metadata": {},
   "outputs": [],
   "source": []
  }
 ],
 "metadata": {
  "kernelspec": {
   "display_name": "Python 3",
   "language": "python",
   "name": "python3"
  },
  "language_info": {
   "codemirror_mode": {
    "name": "ipython",
    "version": 3
   },
   "file_extension": ".py",
   "mimetype": "text/x-python",
   "name": "python",
   "nbconvert_exporter": "python",
   "pygments_lexer": "ipython3",
   "version": "3.8.5"
  }
 },
 "nbformat": 4,
 "nbformat_minor": 5
}
