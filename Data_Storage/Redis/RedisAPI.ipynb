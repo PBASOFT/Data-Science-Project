{
 "cells": [
  {
   "cell_type": "code",
   "execution_count": null,
   "id": "complimentary-beijing",
   "metadata": {},
   "outputs": [],
   "source": [
    "!pip install redis"
   ]
  },
  {
   "cell_type": "markdown",
   "id": "novel-illness",
   "metadata": {},
   "source": [
    "TODO: publish/subscribe function within redis?"
   ]
  },
  {
   "cell_type": "code",
   "execution_count": 2,
   "id": "lonely-review",
   "metadata": {},
   "outputs": [],
   "source": [
    "from flask import Flask, request, jsonify, redirect, render_template\n",
    "import redis\n",
    "import pandas as pd\n",
    "import datetime as dt"
   ]
  },
  {
   "cell_type": "code",
   "execution_count": 3,
   "id": "heard-suicide",
   "metadata": {},
   "outputs": [],
   "source": [
    "# Connect to redis\n",
    "redis_db = redis.Redis(host='localhost', port=6379)"
   ]
  },
  {
   "cell_type": "code",
   "execution_count": 4,
   "id": "historic-freeware",
   "metadata": {},
   "outputs": [],
   "source": [
    "## Create Flask API\n",
    "api = Flask(__name__)"
   ]
  },
  {
   "cell_type": "markdown",
   "id": "mediterranean-causing",
   "metadata": {},
   "source": [
    "#### CREATE STOCKMENTION"
   ]
  },
  {
   "cell_type": "markdown",
   "id": "discrete-narrative",
   "metadata": {},
   "source": [
    "Key = ticker:date \\\n",
    "Value(Hash) = (price, mention) \\"
   ]
  },
  {
   "cell_type": "code",
   "execution_count": 5,
   "id": "increasing-asbestos",
   "metadata": {},
   "outputs": [
    {
     "ename": "NameError",
     "evalue": "name 'insert_ticker_values' is not defined",
     "output_type": "error",
     "traceback": [
      "\u001b[0;31m---------------------------------------------------------------------------\u001b[0m",
      "\u001b[0;31mNameError\u001b[0m                                 Traceback (most recent call last)",
      "\u001b[0;32m<ipython-input-5-58ca1fc78f8b>\u001b[0m in \u001b[0;36m<module>\u001b[0;34m\u001b[0m\n\u001b[1;32m      2\u001b[0m \u001b[0;31m#redis_db.flushall()\u001b[0m\u001b[0;34m\u001b[0m\u001b[0;34m\u001b[0m\u001b[0;34m\u001b[0m\u001b[0m\n\u001b[1;32m      3\u001b[0m \u001b[0;31m#len(redis_db.keys())\u001b[0m\u001b[0;34m\u001b[0m\u001b[0;34m\u001b[0m\u001b[0;34m\u001b[0m\u001b[0m\n\u001b[0;32m----> 4\u001b[0;31m \u001b[0minsert_ticker_values\u001b[0m\u001b[0;34m(\u001b[0m\u001b[0;34m'GME'\u001b[0m\u001b[0;34m,\u001b[0m\u001b[0;34m'2021-05-24'\u001b[0m\u001b[0;34m,\u001b[0m\u001b[0;34m'180.00999450683594'\u001b[0m\u001b[0;34m,\u001b[0m\u001b[0;34m'11'\u001b[0m\u001b[0;34m)\u001b[0m\u001b[0;34m\u001b[0m\u001b[0;34m\u001b[0m\u001b[0m\n\u001b[0m",
      "\u001b[0;31mNameError\u001b[0m: name 'insert_ticker_values' is not defined"
     ]
    }
   ],
   "source": [
    "# Delete all in redis\n",
    "#redis_db.flushall()\n",
    "#len(redis_db.keys())\n",
    "insert_ticker_values('GME','2021-05-24','180.00999450683594','11')"
   ]
  },
  {
   "cell_type": "code",
   "execution_count": 6,
   "id": "statistical-authority",
   "metadata": {},
   "outputs": [],
   "source": [
    "@api.route(\"/ticker/<string:ticker>/<string:date>/<int:price>/<int:mentions>\", methods=[\"POST\"])\n",
    "def insert_ticker_values(ticker, date, price, mentions):\n",
    "    #expire_date = date.datetime.datetime.strptime(start_date, \"%m/%d/%y\") + datetime.timedelta(days=7)\n",
    "    #time_to_expire_s = str(dt.datetime.strptime(expire_date, \"%Y-%m-%d\").timestamp())\n",
    "    \n",
    "    values = {\"price\":price, \"mentions\":mentions}\n",
    "    try:\n",
    "        transaction = redis_db.pipeline(transaction=True)\n",
    "        #transaction.sadd(\"ticker\", date_utc)\n",
    "        transaction.hmset(ticker +':'+ date, values)#, ex=time_to_expire_s)        \n",
    "        transaction.execute()\n",
    "        return(f\"values for \"+ticker+\" were inserted\")\n",
    "    except Exception as e:\n",
    "        print(e)"
   ]
  },
  {
   "cell_type": "markdown",
   "id": "finnish-preference",
   "metadata": {},
   "source": [
    "## GET STOCK OVERVIEW"
   ]
  },
  {
   "cell_type": "code",
   "execution_count": 7,
   "id": "bigger-matrix",
   "metadata": {},
   "outputs": [],
   "source": [
    "@api.route(\"/weekly/<string:ticker>\", methods=[\"GET\"])\n",
    "def get_weekly(ticker): \n",
    "    #utc_from = dt.datetime.strptime(date_from, \"%Y-%m-%d\").timestamp()\n",
    "    #utc_to = dt.datetime.strptime(date_to, \"%Y-%m-%d\").timestamp()\n",
    "   # if redis_db.exists(ticker):\n",
    "    weekly_overview = pd.DataFrame()\n",
    "    for key in redis_db.keys(\"GME:*\"):\n",
    "        key = key.decode('utf-8')\n",
    "        date = key[4:]\n",
    "        values = redis_db.hmget(key, 'price', 'mentions')\n",
    "        \n",
    "        dayly_overview = {\n",
    "            'Date': date,\n",
    "            'Price': values[0].decode('utf-8'),\n",
    "            'Mentions': values[1].decode('utf-8')\n",
    "        }\n",
    "        weekly_overview = weekly_overview.append(dayly_overview, ignore_index=True)\n",
    "        weekly_overview.sort_values('Date')\n",
    "        \n",
    "    return weekly_overview.to_json(orient='records')"
   ]
  },
  {
   "cell_type": "code",
   "execution_count": 13,
   "id": "rural-finnish",
   "metadata": {},
   "outputs": [
    {
     "data": {
      "text/plain": [
       "'[{\"Date\":\"2021-05-24\",\"Mentions\":\"11\",\"Price\":\"180\"}]'"
      ]
     },
     "execution_count": 13,
     "metadata": {},
     "output_type": "execute_result"
    }
   ],
   "source": [
    "get_weekly('GME')"
   ]
  },
  {
   "cell_type": "code",
   "execution_count": 8,
   "id": "hearing-louisville",
   "metadata": {},
   "outputs": [],
   "source": [
    "values = redis_db.hmget('GME', 'price', 'mentions')\n",
    "values[0]"
   ]
  },
  {
   "cell_type": "code",
   "execution_count": 9,
   "id": "searching-donna",
   "metadata": {},
   "outputs": [
    {
     "data": {
      "text/plain": [
       "0"
      ]
     },
     "execution_count": 9,
     "metadata": {},
     "output_type": "execute_result"
    }
   ],
   "source": [
    "weekmap = redis_db.keys(pattern='ticker:*')\n",
    "len(weekmap)"
   ]
  },
  {
   "cell_type": "code",
   "execution_count": 10,
   "id": "proprietary-austria",
   "metadata": {},
   "outputs": [
    {
     "data": {
      "text/plain": [
       "0"
      ]
     },
     "execution_count": 10,
     "metadata": {},
     "output_type": "execute_result"
    }
   ],
   "source": [
    "redis_db.hset(\"date\", 3, 3)\n",
    "redis_db.hset(\"date\", 5, 5)"
   ]
  },
  {
   "cell_type": "code",
   "execution_count": 11,
   "id": "structured-algorithm",
   "metadata": {},
   "outputs": [
    {
     "data": {
      "text/plain": [
       "0"
      ]
     },
     "execution_count": 11,
     "metadata": {},
     "output_type": "execute_result"
    }
   ],
   "source": [
    "\n",
    "mymap = redis_db.keys(pattern='ticker.*')\n",
    "len(mymap)"
   ]
  },
  {
   "cell_type": "code",
   "execution_count": 14,
   "id": "dried-vegetable",
   "metadata": {},
   "outputs": [
    {
     "name": "stdout",
     "output_type": "stream",
     "text": [
      " * Serving Flask app \"__main__\" (lazy loading)\n",
      " * Environment: production\n",
      "\u001b[31m   WARNING: This is a development server. Do not use it in a production deployment.\u001b[0m\n",
      "\u001b[2m   Use a production WSGI server instead.\u001b[0m\n",
      " * Debug mode: off\n"
     ]
    },
    {
     "name": "stderr",
     "output_type": "stream",
     "text": [
      " * Running on http://127.0.0.1:5051/ (Press CTRL+C to quit)\n",
      "127.0.0.1 - - [31/May/2021 23:27:28] \"\u001b[33mPOST /ticker/GME/2021-05-24/180.00999450683594/11 HTTP/1.1\u001b[0m\" 404 -\n",
      "<ipython-input-6-fe68286399dc>:10: DeprecationWarning: Pipeline.hmset() is deprecated. Use Pipeline.hset() instead.\n",
      "  transaction.hmset(ticker +':'+ date, values)#, ex=time_to_expire_s)\n",
      "127.0.0.1 - - [31/May/2021 23:28:01] \"\u001b[37mPOST /ticker/GME/2021-05-24/180/11 HTTP/1.1\u001b[0m\" 200 -\n",
      "127.0.0.1 - - [31/May/2021 23:28:09] \"\u001b[37mPOST /ticker/GME/2021-05-25/209/0 HTTP/1.1\u001b[0m\" 200 -\n",
      "127.0.0.1 - - [31/May/2021 23:28:11] \"\u001b[37mPOST /ticker/GME/2021-05-26/242/5 HTTP/1.1\u001b[0m\" 200 -\n",
      "127.0.0.1 - - [31/May/2021 23:28:47] \"\u001b[37mGET /weekly/GME HTTP/1.1\u001b[0m\" 200 -\n"
     ]
    }
   ],
   "source": [
    "if __name__ == \"__main__\":\n",
    "    api.run(port=5051)"
   ]
  },
  {
   "cell_type": "code",
   "execution_count": null,
   "id": "answering-assignment",
   "metadata": {},
   "outputs": [],
   "source": []
  },
  {
   "cell_type": "code",
   "execution_count": null,
   "id": "smooth-workshop",
   "metadata": {},
   "outputs": [],
   "source": []
  },
  {
   "cell_type": "code",
   "execution_count": null,
   "id": "cubic-gallery",
   "metadata": {},
   "outputs": [],
   "source": []
  },
  {
   "cell_type": "code",
   "execution_count": null,
   "id": "premier-diary",
   "metadata": {},
   "outputs": [],
   "source": []
  },
  {
   "cell_type": "code",
   "execution_count": null,
   "id": "lesbian-beginning",
   "metadata": {},
   "outputs": [],
   "source": []
  }
 ],
 "metadata": {
  "kernelspec": {
   "display_name": "Python 3",
   "language": "python",
   "name": "python3"
  },
  "language_info": {
   "codemirror_mode": {
    "name": "ipython",
    "version": 3
   },
   "file_extension": ".py",
   "mimetype": "text/x-python",
   "name": "python",
   "nbconvert_exporter": "python",
   "pygments_lexer": "ipython3",
   "version": "3.8.5"
  }
 },
 "nbformat": 4,
 "nbformat_minor": 5
}
