{
 "cells": [
  {
   "cell_type": "code",
   "execution_count": 1,
   "id": "covered-differential",
   "metadata": {},
   "outputs": [
    {
     "name": "stdout",
     "output_type": "stream",
     "text": [
      "Requirement already satisfied: redis in /Users/malenehansen/opt/anaconda3/lib/python3.8/site-packages (3.5.3)\n"
     ]
    }
   ],
   "source": [
    "!pip install redis"
   ]
  },
  {
   "cell_type": "markdown",
   "id": "particular-watson",
   "metadata": {},
   "source": [
    "TODO: publish/subscribe function within redis?"
   ]
  },
  {
   "cell_type": "code",
   "execution_count": 2,
   "id": "detailed-certification",
   "metadata": {},
   "outputs": [],
   "source": [
    "from flask import Flask, request, jsonify, redirect, render_template\n",
    "import redis\n",
    "import pandas as pd\n",
    "import datetime as dt"
   ]
  },
  {
   "cell_type": "code",
   "execution_count": 3,
   "id": "documented-nation",
   "metadata": {},
   "outputs": [],
   "source": [
    "# Connect to redis\n",
    "redis_db = redis.Redis(host='localhost', port=6379)"
   ]
  },
  {
   "cell_type": "code",
   "execution_count": 4,
   "id": "eleven-disability",
   "metadata": {},
   "outputs": [],
   "source": [
    "## Create Flask API\n",
    "api = Flask(__name__)"
   ]
  },
  {
   "cell_type": "markdown",
   "id": "bulgarian-textbook",
   "metadata": {},
   "source": [
    "#### CREATE STOCKMENTION"
   ]
  },
  {
   "cell_type": "markdown",
   "id": "suited-greece",
   "metadata": {},
   "source": [
    "Key = ticker:date \\\n",
    "Value(Hash) = (price, mention) \\"
   ]
  },
  {
   "cell_type": "code",
   "execution_count": 5,
   "id": "creative-melbourne",
   "metadata": {},
   "outputs": [],
   "source": [
    "# Delete all in redis\n",
    "#redis_db.flushall()\n",
    "#len(redis_db.keys())\n",
    "#insert_ticker_values('GME','2021-05-24','180.00999450683594','11')\n"
   ]
  },
  {
   "cell_type": "code",
   "execution_count": 6,
   "id": "unexpected-electronics",
   "metadata": {},
   "outputs": [],
   "source": [
    "@api.route(\"/ticker/<string:ticker>/<string:date>/<int:price>/<int:mentions>\", methods=[\"POST\"])\n",
    "def insert_ticker_values(ticker, date, price, mentions):\n",
    "    #expire_date = date.datetime.datetime.strptime(start_date, \"%m/%d/%y\") + datetime.timedelta(days=7)\n",
    "    #time_to_expire_s = str(dt.datetime.strptime(expire_date, \"%Y-%m-%d\").timestamp())\n",
    "    \n",
    "    values = {\"price\":price, \"mentions\":mentions}\n",
    "    try:\n",
    "        transaction = redis_db.pipeline(transaction=True)\n",
    "        #transaction.sadd(\"ticker\", date_utc)\n",
    "        transaction.hmset(ticker +':'+ date, values)#, ex=time_to_expire_s      \n",
    "        transaction.execute()\n",
    "        return(f\"values for \"+ticker+\" were inserted\")\n",
    "    except Exception as e:\n",
    "        print(e)"
   ]
  },
  {
   "cell_type": "markdown",
   "id": "bound-divorce",
   "metadata": {},
   "source": [
    "## GET STOCK OVERVIEW"
   ]
  },
  {
   "cell_type": "code",
   "execution_count": 7,
   "id": "quality-gallery",
   "metadata": {},
   "outputs": [],
   "source": [
    "@api.route(\"/weekly/<string:ticker>\", methods=[\"GET\"])\n",
    "def get_weekly(ticker): \n",
    "    #utc_from = dt.datetime.strptime(date_from, \"%Y-%m-%d\").timestamp()\n",
    "    #utc_to = dt.datetime.strptime(date_to, \"%Y-%m-%d\").timestamp()\n",
    "    #if redis_db.exists(ticker):\n",
    "    weekly_overview = pd.DataFrame()\n",
    "    for key in redis_db.keys(\"GME:*\"):\n",
    "        key = key.decode('utf-8')\n",
    "        date = key[4:]\n",
    "        values = redis_db.hmget(key, 'price', 'mentions')\n",
    "        \n",
    "        dayly_overview = {\n",
    "            'Date': date,\n",
    "            'Price': values[0].decode('utf-8'),\n",
    "            'Mentions': values[1].decode('utf-8')\n",
    "        }\n",
    "        weekly_overview = weekly_overview.append(dayly_overview, ignore_index=True)\n",
    "        weekly_overview.sort_values('Date')\n",
    "        \n",
    "    return weekly_overview.to_json(orient='records')"
   ]
  },
  {
   "cell_type": "code",
   "execution_count": 8,
   "id": "tired-springfield",
   "metadata": {},
   "outputs": [],
   "source": [
    "@api.route(\"/span/<string:ticker>/<string:date_from>/<string:date_to>\", methods=[\"GET\"])\n",
    "def get_span(ticker, date_from, date_to): \n",
    "    utc_from = dt.datetime.strptime(date_from, \"%Y-%m-%d\").timestamp()\n",
    "    utc_to = dt.datetime.strptime(date_to, \"%Y-%m-%d\").timestamp()\n",
    "   # if redis_db.exists(ticker):\n",
    "    weekly_overview = pd.DataFrame()\n",
    "    for key in redis_db.keys(\"GME:*\"):\n",
    "        key = key.decode('utf-8')\n",
    "        date = key[4:]\n",
    "        values = redis_db.hmget(key, 'price', 'mentions')\n",
    "        \n",
    "        dayly_overview = {\n",
    "            'Date': date,\n",
    "            'Price': values[0].decode('utf-8'),\n",
    "            'Mentions': values[1].decode('utf-8')\n",
    "        }\n",
    "        weekly_overview = weekly_overview.append(dayly_overview, ignore_index=True)\n",
    "        weekly_overview.sort_values('Date')\n",
    "        \n",
    "    return weekly_overview.to_json(orient='records')"
   ]
  },
  {
   "cell_type": "code",
   "execution_count": 9,
   "id": "filled-maintenance",
   "metadata": {},
   "outputs": [
    {
     "data": {
      "text/plain": [
       "'[{\"Date\":\"2021-05-26\",\"Mentions\":\"177\",\"Price\":\"242\"},{\"Date\":\"2021-05-25\",\"Mentions\":\"2\",\"Price\":\"209\"},{\"Date\":\"2021-05-29\",\"Mentions\":\"0\",\"Price\":\"222\"},{\"Date\":\"2021-05-24\",\"Mentions\":\"0\",\"Price\":\"180\"},{\"Date\":\"2021-05-27\",\"Mentions\":\"10\",\"Price\":\"254\"},{\"Date\":\"2021-05-28\",\"Mentions\":\"0\",\"Price\":\"222\"}]'"
      ]
     },
     "execution_count": 9,
     "metadata": {},
     "output_type": "execute_result"
    }
   ],
   "source": [
    "date_from = '2021-05-24'\n",
    "date_to = '2021-05-26'\n",
    "get_span('GME', date_from, date_to)"
   ]
  },
  {
   "cell_type": "code",
   "execution_count": null,
   "id": "intellectual-escape",
   "metadata": {},
   "outputs": [],
   "source": []
  },
  {
   "cell_type": "code",
   "execution_count": 10,
   "id": "southern-roads",
   "metadata": {},
   "outputs": [
    {
     "data": {
      "text/plain": [
       "0"
      ]
     },
     "execution_count": 10,
     "metadata": {},
     "output_type": "execute_result"
    }
   ],
   "source": [
    "s =redis_db.scard('ticker')\n",
    "s"
   ]
  },
  {
   "cell_type": "code",
   "execution_count": 11,
   "id": "incoming-sight",
   "metadata": {},
   "outputs": [],
   "source": [
    "#weekmap = redis_db.keys(pattern='ticker:*')\n",
    "#len(weekmap)"
   ]
  },
  {
   "cell_type": "code",
   "execution_count": 12,
   "id": "white-royalty",
   "metadata": {},
   "outputs": [],
   "source": [
    "#\n",
    "#redis_db.hset(\"date\", 3, 3)\n",
    "#redis_db.hset(\"date\", 5, 5)"
   ]
  },
  {
   "cell_type": "code",
   "execution_count": 13,
   "id": "comic-mounting",
   "metadata": {},
   "outputs": [],
   "source": [
    "\n",
    "#mymap = redis_db.keys(pattern='ticker.*')\n",
    "#len(mymap)"
   ]
  },
  {
   "cell_type": "code",
   "execution_count": null,
   "id": "organized-breathing",
   "metadata": {},
   "outputs": [
    {
     "name": "stdout",
     "output_type": "stream",
     "text": [
      " * Serving Flask app \"__main__\" (lazy loading)\n",
      " * Environment: production\n",
      "\u001b[31m   WARNING: This is a development server. Do not use it in a production deployment.\u001b[0m\n",
      "\u001b[2m   Use a production WSGI server instead.\u001b[0m\n",
      " * Debug mode: off\n"
     ]
    },
    {
     "name": "stderr",
     "output_type": "stream",
     "text": [
      " * Running on http://127.0.0.1:5051/ (Press CTRL+C to quit)\n",
      "<ipython-input-6-cc0de30aafc9>:10: DeprecationWarning: Pipeline.hmset() is deprecated. Use Pipeline.hset() instead.\n",
      "  transaction.hmset(ticker +':'+ date, values)#, ex=time_to_expire_s\n",
      "127.0.0.1 - - [02/Jun/2021 11:40:35] \"\u001b[37mPOST /ticker/PLTR/2021-05-22/20/0 HTTP/1.1\u001b[0m\" 200 -\n",
      "127.0.0.1 - - [02/Jun/2021 11:40:35] \"\u001b[37mPOST /ticker/FORD/2021-05-22/2/0 HTTP/1.1\u001b[0m\" 200 -\n",
      "127.0.0.1 - - [02/Jun/2021 11:40:35] \"\u001b[37mPOST /ticker/RIDE/2021-05-22/9/0 HTTP/1.1\u001b[0m\" 200 -\n",
      "127.0.0.1 - - [02/Jun/2021 11:40:35] \"\u001b[37mPOST /ticker/SPCE/2021-05-22/21/0 HTTP/1.1\u001b[0m\" 200 -\n",
      "127.0.0.1 - - [02/Jun/2021 11:40:35] \"\u001b[37mPOST /ticker/AI/2021-05-22/61/0 HTTP/1.1\u001b[0m\" 200 -\n",
      "127.0.0.1 - - [02/Jun/2021 11:40:35] \"\u001b[37mPOST /ticker/TSLA/2021-05-22/580/0 HTTP/1.1\u001b[0m\" 200 -\n",
      "127.0.0.1 - - [02/Jun/2021 11:40:35] \"\u001b[37mPOST /ticker/GE/2021-05-22/13/0 HTTP/1.1\u001b[0m\" 200 -\n",
      "127.0.0.1 - - [02/Jun/2021 11:40:35] \"\u001b[37mPOST /ticker/GME/2021-05-22/176/0 HTTP/1.1\u001b[0m\" 200 -\n",
      "127.0.0.1 - - [02/Jun/2021 11:40:35] \"\u001b[37mPOST /ticker/AAPL/2021-05-22/125/0 HTTP/1.1\u001b[0m\" 200 -\n",
      "127.0.0.1 - - [02/Jun/2021 11:40:35] \"\u001b[37mPOST /ticker/NOK/2021-05-22/5/0 HTTP/1.1\u001b[0m\" 200 -\n",
      "127.0.0.1 - - [02/Jun/2021 11:40:35] \"\u001b[37mPOST /ticker/PLTR/2021-05-23/20/0 HTTP/1.1\u001b[0m\" 200 -\n",
      "127.0.0.1 - - [02/Jun/2021 11:40:35] \"\u001b[37mPOST /ticker/FORD/2021-05-23/2/0 HTTP/1.1\u001b[0m\" 200 -\n",
      "127.0.0.1 - - [02/Jun/2021 11:40:35] \"\u001b[37mPOST /ticker/RIDE/2021-05-23/9/0 HTTP/1.1\u001b[0m\" 200 -\n",
      "127.0.0.1 - - [02/Jun/2021 11:40:35] \"\u001b[37mPOST /ticker/SPCE/2021-05-23/21/0 HTTP/1.1\u001b[0m\" 200 -\n",
      "127.0.0.1 - - [02/Jun/2021 11:40:35] \"\u001b[37mPOST /ticker/AI/2021-05-23/61/0 HTTP/1.1\u001b[0m\" 200 -\n",
      "127.0.0.1 - - [02/Jun/2021 11:40:35] \"\u001b[37mPOST /ticker/TSLA/2021-05-23/580/0 HTTP/1.1\u001b[0m\" 200 -\n",
      "127.0.0.1 - - [02/Jun/2021 11:40:35] \"\u001b[37mPOST /ticker/GE/2021-05-23/13/0 HTTP/1.1\u001b[0m\" 200 -\n",
      "127.0.0.1 - - [02/Jun/2021 11:40:36] \"\u001b[37mPOST /ticker/GME/2021-05-23/176/0 HTTP/1.1\u001b[0m\" 200 -\n",
      "127.0.0.1 - - [02/Jun/2021 11:40:36] \"\u001b[37mPOST /ticker/AAPL/2021-05-23/125/0 HTTP/1.1\u001b[0m\" 200 -\n",
      "127.0.0.1 - - [02/Jun/2021 11:40:36] \"\u001b[37mPOST /ticker/NOK/2021-05-23/5/0 HTTP/1.1\u001b[0m\" 200 -\n",
      "127.0.0.1 - - [02/Jun/2021 11:40:36] \"\u001b[37mPOST /ticker/PLTR/2021-05-24/21/0 HTTP/1.1\u001b[0m\" 200 -\n",
      "127.0.0.1 - - [02/Jun/2021 11:40:36] \"\u001b[37mPOST /ticker/FORD/2021-05-24/2/0 HTTP/1.1\u001b[0m\" 200 -\n",
      "127.0.0.1 - - [02/Jun/2021 11:40:36] \"\u001b[37mPOST /ticker/RIDE/2021-05-24/9/0 HTTP/1.1\u001b[0m\" 200 -\n",
      "127.0.0.1 - - [02/Jun/2021 11:40:36] \"\u001b[37mPOST /ticker/SPCE/2021-05-24/26/0 HTTP/1.1\u001b[0m\" 200 -\n",
      "127.0.0.1 - - [02/Jun/2021 11:40:36] \"\u001b[37mPOST /ticker/AI/2021-05-24/59/0 HTTP/1.1\u001b[0m\" 200 -\n",
      "127.0.0.1 - - [02/Jun/2021 11:40:36] \"\u001b[37mPOST /ticker/TSLA/2021-05-24/606/0 HTTP/1.1\u001b[0m\" 200 -\n",
      "127.0.0.1 - - [02/Jun/2021 11:40:36] \"\u001b[37mPOST /ticker/GE/2021-05-24/13/0 HTTP/1.1\u001b[0m\" 200 -\n",
      "127.0.0.1 - - [02/Jun/2021 11:40:36] \"\u001b[37mPOST /ticker/GME/2021-05-24/180/0 HTTP/1.1\u001b[0m\" 200 -\n",
      "127.0.0.1 - - [02/Jun/2021 11:40:36] \"\u001b[37mPOST /ticker/AAPL/2021-05-24/127/0 HTTP/1.1\u001b[0m\" 200 -\n",
      "127.0.0.1 - - [02/Jun/2021 11:40:36] \"\u001b[37mPOST /ticker/NOK/2021-05-24/5/0 HTTP/1.1\u001b[0m\" 200 -\n",
      "127.0.0.1 - - [02/Jun/2021 11:40:36] \"\u001b[37mPOST /ticker/PLTR/2021-05-25/21/0 HTTP/1.1\u001b[0m\" 200 -\n",
      "127.0.0.1 - - [02/Jun/2021 11:40:36] \"\u001b[37mPOST /ticker/FORD/2021-05-25/2/0 HTTP/1.1\u001b[0m\" 200 -\n",
      "127.0.0.1 - - [02/Jun/2021 11:40:36] \"\u001b[37mPOST /ticker/RIDE/2021-05-25/8/0 HTTP/1.1\u001b[0m\" 200 -\n",
      "127.0.0.1 - - [02/Jun/2021 11:40:36] \"\u001b[37mPOST /ticker/SPCE/2021-05-25/25/0 HTTP/1.1\u001b[0m\" 200 -\n",
      "127.0.0.1 - - [02/Jun/2021 11:40:37] \"\u001b[37mPOST /ticker/AI/2021-05-25/57/0 HTTP/1.1\u001b[0m\" 200 -\n",
      "127.0.0.1 - - [02/Jun/2021 11:40:37] \"\u001b[37mPOST /ticker/TSLA/2021-05-25/604/0 HTTP/1.1\u001b[0m\" 200 -\n",
      "127.0.0.1 - - [02/Jun/2021 11:40:37] \"\u001b[37mPOST /ticker/GE/2021-05-25/13/0 HTTP/1.1\u001b[0m\" 200 -\n",
      "127.0.0.1 - - [02/Jun/2021 11:40:37] \"\u001b[37mPOST /ticker/GME/2021-05-25/209/2 HTTP/1.1\u001b[0m\" 200 -\n",
      "127.0.0.1 - - [02/Jun/2021 11:40:37] \"\u001b[37mPOST /ticker/AAPL/2021-05-25/126/2 HTTP/1.1\u001b[0m\" 200 -\n",
      "127.0.0.1 - - [02/Jun/2021 11:40:37] \"\u001b[37mPOST /ticker/NOK/2021-05-25/5/0 HTTP/1.1\u001b[0m\" 200 -\n",
      "127.0.0.1 - - [02/Jun/2021 11:40:37] \"\u001b[37mPOST /ticker/PLTR/2021-05-26/22/4 HTTP/1.1\u001b[0m\" 200 -\n",
      "127.0.0.1 - - [02/Jun/2021 11:40:37] \"\u001b[37mPOST /ticker/FORD/2021-05-26/2/1 HTTP/1.1\u001b[0m\" 200 -\n",
      "127.0.0.1 - - [02/Jun/2021 11:40:37] \"\u001b[37mPOST /ticker/RIDE/2021-05-26/9/1 HTTP/1.1\u001b[0m\" 200 -\n",
      "127.0.0.1 - - [02/Jun/2021 11:40:37] \"\u001b[37mPOST /ticker/SPCE/2021-05-26/27/7 HTTP/1.1\u001b[0m\" 200 -\n",
      "127.0.0.1 - - [02/Jun/2021 11:40:37] \"\u001b[37mPOST /ticker/AI/2021-05-26/61/4 HTTP/1.1\u001b[0m\" 200 -\n",
      "127.0.0.1 - - [02/Jun/2021 11:40:37] \"\u001b[37mPOST /ticker/TSLA/2021-05-26/619/7 HTTP/1.1\u001b[0m\" 200 -\n",
      "127.0.0.1 - - [02/Jun/2021 11:40:37] \"\u001b[37mPOST /ticker/GE/2021-05-26/13/5 HTTP/1.1\u001b[0m\" 200 -\n",
      "127.0.0.1 - - [02/Jun/2021 11:40:37] \"\u001b[37mPOST /ticker/GME/2021-05-26/242/177 HTTP/1.1\u001b[0m\" 200 -\n",
      "127.0.0.1 - - [02/Jun/2021 11:40:37] \"\u001b[37mPOST /ticker/AAPL/2021-05-26/126/17 HTTP/1.1\u001b[0m\" 200 -\n",
      "127.0.0.1 - - [02/Jun/2021 11:40:37] \"\u001b[37mPOST /ticker/NOK/2021-05-26/4/3 HTTP/1.1\u001b[0m\" 200 -\n",
      "127.0.0.1 - - [02/Jun/2021 11:40:37] \"\u001b[37mPOST /ticker/PLTR/2021-05-27/22/1 HTTP/1.1\u001b[0m\" 200 -\n",
      "127.0.0.1 - - [02/Jun/2021 11:40:37] \"\u001b[37mPOST /ticker/FORD/2021-05-27/2/2 HTTP/1.1\u001b[0m\" 200 -\n",
      "127.0.0.1 - - [02/Jun/2021 11:40:38] \"\u001b[37mPOST /ticker/RIDE/2021-05-27/10/0 HTTP/1.1\u001b[0m\" 200 -\n",
      "127.0.0.1 - - [02/Jun/2021 11:40:38] \"\u001b[37mPOST /ticker/SPCE/2021-05-27/31/0 HTTP/1.1\u001b[0m\" 200 -\n",
      "127.0.0.1 - - [02/Jun/2021 11:40:38] \"\u001b[37mPOST /ticker/AI/2021-05-27/63/0 HTTP/1.1\u001b[0m\" 200 -\n",
      "127.0.0.1 - - [02/Jun/2021 11:40:38] \"\u001b[37mPOST /ticker/TSLA/2021-05-27/630/5 HTTP/1.1\u001b[0m\" 200 -\n",
      "127.0.0.1 - - [02/Jun/2021 11:40:38] \"\u001b[37mPOST /ticker/GE/2021-05-27/14/0 HTTP/1.1\u001b[0m\" 200 -\n",
      "127.0.0.1 - - [02/Jun/2021 11:40:38] \"\u001b[37mPOST /ticker/GME/2021-05-27/254/10 HTTP/1.1\u001b[0m\" 200 -\n",
      "127.0.0.1 - - [02/Jun/2021 11:40:38] \"\u001b[37mPOST /ticker/AAPL/2021-05-27/125/14 HTTP/1.1\u001b[0m\" 200 -\n",
      "127.0.0.1 - - [02/Jun/2021 11:40:38] \"\u001b[37mPOST /ticker/NOK/2021-05-27/5/0 HTTP/1.1\u001b[0m\" 200 -\n",
      "127.0.0.1 - - [02/Jun/2021 11:40:38] \"\u001b[37mPOST /ticker/PLTR/2021-05-28/22/0 HTTP/1.1\u001b[0m\" 200 -\n",
      "127.0.0.1 - - [02/Jun/2021 11:40:38] \"\u001b[37mPOST /ticker/FORD/2021-05-28/2/0 HTTP/1.1\u001b[0m\" 200 -\n",
      "127.0.0.1 - - [02/Jun/2021 11:40:38] \"\u001b[37mPOST /ticker/RIDE/2021-05-28/9/0 HTTP/1.1\u001b[0m\" 200 -\n",
      "127.0.0.1 - - [02/Jun/2021 11:40:38] \"\u001b[37mPOST /ticker/SPCE/2021-05-28/31/0 HTTP/1.1\u001b[0m\" 200 -\n",
      "127.0.0.1 - - [02/Jun/2021 11:40:38] \"\u001b[37mPOST /ticker/AI/2021-05-28/61/0 HTTP/1.1\u001b[0m\" 200 -\n",
      "127.0.0.1 - - [02/Jun/2021 11:40:38] \"\u001b[37mPOST /ticker/TSLA/2021-05-28/625/0 HTTP/1.1\u001b[0m\" 200 -\n",
      "127.0.0.1 - - [02/Jun/2021 11:40:38] \"\u001b[37mPOST /ticker/GE/2021-05-28/14/0 HTTP/1.1\u001b[0m\" 200 -\n",
      "127.0.0.1 - - [02/Jun/2021 11:40:38] \"\u001b[37mPOST /ticker/GME/2021-05-28/222/0 HTTP/1.1\u001b[0m\" 200 -\n",
      "127.0.0.1 - - [02/Jun/2021 11:40:39] \"\u001b[37mPOST /ticker/AAPL/2021-05-28/124/0 HTTP/1.1\u001b[0m\" 200 -\n",
      "127.0.0.1 - - [02/Jun/2021 11:40:39] \"\u001b[37mPOST /ticker/NOK/2021-05-28/5/0 HTTP/1.1\u001b[0m\" 200 -\n",
      "127.0.0.1 - - [02/Jun/2021 11:40:39] \"\u001b[37mPOST /ticker/PLTR/2021-05-29/22/0 HTTP/1.1\u001b[0m\" 200 -\n",
      "127.0.0.1 - - [02/Jun/2021 11:40:39] \"\u001b[37mPOST /ticker/FORD/2021-05-29/2/0 HTTP/1.1\u001b[0m\" 200 -\n",
      "127.0.0.1 - - [02/Jun/2021 11:40:39] \"\u001b[37mPOST /ticker/RIDE/2021-05-29/9/0 HTTP/1.1\u001b[0m\" 200 -\n",
      "127.0.0.1 - - [02/Jun/2021 11:40:39] \"\u001b[37mPOST /ticker/SPCE/2021-05-29/31/0 HTTP/1.1\u001b[0m\" 200 -\n",
      "127.0.0.1 - - [02/Jun/2021 11:40:39] \"\u001b[37mPOST /ticker/AI/2021-05-29/61/0 HTTP/1.1\u001b[0m\" 200 -\n",
      "127.0.0.1 - - [02/Jun/2021 11:40:39] \"\u001b[37mPOST /ticker/TSLA/2021-05-29/625/0 HTTP/1.1\u001b[0m\" 200 -\n",
      "127.0.0.1 - - [02/Jun/2021 11:40:39] \"\u001b[37mPOST /ticker/GE/2021-05-29/14/0 HTTP/1.1\u001b[0m\" 200 -\n",
      "127.0.0.1 - - [02/Jun/2021 11:40:39] \"\u001b[37mPOST /ticker/GME/2021-05-29/222/0 HTTP/1.1\u001b[0m\" 200 -\n",
      "127.0.0.1 - - [02/Jun/2021 11:40:39] \"\u001b[37mPOST /ticker/AAPL/2021-05-29/124/0 HTTP/1.1\u001b[0m\" 200 -\n",
      "127.0.0.1 - - [02/Jun/2021 11:40:39] \"\u001b[37mPOST /ticker/NOK/2021-05-29/5/0 HTTP/1.1\u001b[0m\" 200 -\n",
      "127.0.0.1 - - [02/Jun/2021 11:40:43] \"\u001b[33mGET /span(GME,%202021-05-27,%2021-05-28) HTTP/1.1\u001b[0m\" 404 -\n",
      "127.0.0.1 - - [02/Jun/2021 11:41:55] \"\u001b[37mGET /span/GME/2021-05-26/2021-05-27 HTTP/1.1\u001b[0m\" 200 -\n",
      "127.0.0.1 - - [02/Jun/2021 11:42:31] \"\u001b[37mGET /span/GME/2021-05-26/2021-05-27 HTTP/1.1\u001b[0m\" 200 -\n",
      "127.0.0.1 - - [02/Jun/2021 11:43:02] \"\u001b[37mGET /span/TSLA/2021-05-26/2021-05-27 HTTP/1.1\u001b[0m\" 200 -\n"
     ]
    }
   ],
   "source": [
    "if __name__ == \"__main__\":\n",
    "    api.run(port=5051)"
   ]
  },
  {
   "cell_type": "code",
   "execution_count": null,
   "id": "alike-photography",
   "metadata": {},
   "outputs": [],
   "source": []
  },
  {
   "cell_type": "code",
   "execution_count": null,
   "id": "desirable-black",
   "metadata": {},
   "outputs": [],
   "source": []
  },
  {
   "cell_type": "code",
   "execution_count": null,
   "id": "employed-health",
   "metadata": {},
   "outputs": [],
   "source": []
  },
  {
   "cell_type": "code",
   "execution_count": null,
   "id": "utility-darwin",
   "metadata": {},
   "outputs": [],
   "source": []
  },
  {
   "cell_type": "code",
   "execution_count": null,
   "id": "every-positive",
   "metadata": {},
   "outputs": [],
   "source": []
  }
 ],
 "metadata": {
  "kernelspec": {
   "display_name": "Python 3",
   "language": "python",
   "name": "python3"
  },
  "language_info": {
   "codemirror_mode": {
    "name": "ipython",
    "version": 3
   },
   "file_extension": ".py",
   "mimetype": "text/x-python",
   "name": "python",
   "nbconvert_exporter": "python",
   "pygments_lexer": "ipython3",
   "version": "3.8.5"
  }
 },
 "nbformat": 4,
 "nbformat_minor": 5
}
