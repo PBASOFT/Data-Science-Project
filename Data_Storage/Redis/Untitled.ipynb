{
 "cells": [
  {
   "cell_type": "code",
   "execution_count": 10,
   "id": "facial-yeast",
   "metadata": {},
   "outputs": [],
   "source": [
    "import requests\n",
    "import pandas"
   ]
  },
  {
   "cell_type": "code",
   "execution_count": 16,
   "id": "impaired-diploma",
   "metadata": {},
   "outputs": [],
   "source": [
    "url = 'http://localhost:5050/'"
   ]
  },
  {
   "cell_type": "code",
   "execution_count": 1,
   "id": "exempt-raleigh",
   "metadata": {},
   "outputs": [],
   "source": []
  },
  {
   "cell_type": "code",
   "execution_count": null,
   "id": "reserved-marketplace",
   "metadata": {},
   "outputs": [],
   "source": []
  },
  {
   "cell_type": "code",
   "execution_count": null,
   "id": "turned-lawyer",
   "metadata": {},
   "outputs": [],
   "source": [
    "def \n",
    "/ticker/<string:ticker>/<string:date>/<int:price>/<int:mentions>"
   ]
  },
  {
   "cell_type": "code",
   "execution_count": 9,
   "id": "close-singer",
   "metadata": {},
   "outputs": [],
   "source": [
    "# this will return a fixed dates week, as this prototype is not yet streaming new dayly data\n",
    "def get_week(ticker):\n",
    "    return none"
   ]
  },
  {
   "cell_type": "code",
   "execution_count": 22,
   "id": "catholic-suite",
   "metadata": {},
   "outputs": [],
   "source": [
    "def get_mentions_on_date(ticker, date):\n",
    "    url2 = \"mentions/\"+ticker+\"/\"+date\n",
    "    u = 'http://localhost:5050/mentions/GME/2021-05-27'\n",
    "    response = requests.get(u)\n",
    "    if not response.status_code == 200:\n",
    "        print ('bah')"
   ]
  },
  {
   "cell_type": "code",
   "execution_count": 23,
   "id": "prepared-oxide",
   "metadata": {},
   "outputs": [],
   "source": [
    "get_mentions_on_date('GME', '2021-05-28')"
   ]
  },
  {
   "cell_type": "code",
   "execution_count": null,
   "id": "swedish-modem",
   "metadata": {},
   "outputs": [],
   "source": []
  }
 ],
 "metadata": {
  "kernelspec": {
   "display_name": "Python 3",
   "language": "python",
   "name": "python3"
  },
  "language_info": {
   "codemirror_mode": {
    "name": "ipython",
    "version": 3
   },
   "file_extension": ".py",
   "mimetype": "text/x-python",
   "name": "python",
   "nbconvert_exporter": "python",
   "pygments_lexer": "ipython3",
   "version": "3.8.5"
  }
 },
 "nbformat": 4,
 "nbformat_minor": 5
}
