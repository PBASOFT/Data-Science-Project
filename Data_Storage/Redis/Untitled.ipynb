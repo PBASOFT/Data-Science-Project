{
 "cells": [
  {
   "cell_type": "code",
   "execution_count": 1,
   "id": "found-phase",
   "metadata": {},
   "outputs": [],
   "source": [
    "import requests\n",
    "import pandas"
   ]
  },
  {
   "cell_type": "code",
   "execution_count": 33,
   "id": "superb-space",
   "metadata": {},
   "outputs": [],
   "source": [
    "url = 'http://localhost:5050/'"
   ]
  },
  {
   "cell_type": "code",
   "execution_count": null,
   "id": "subjective-listening",
   "metadata": {},
   "outputs": [],
   "source": []
  },
  {
   "cell_type": "code",
   "execution_count": null,
   "id": "painted-suite",
   "metadata": {},
   "outputs": [],
   "source": []
  },
  {
   "cell_type": "code",
   "execution_count": null,
   "id": "surprising-earth",
   "metadata": {},
   "outputs": [],
   "source": [
    "def \n",
    "/ticker/<string:ticker>/<string:date>/<int:price>/<int:mentions>"
   ]
  },
  {
   "cell_type": "code",
   "execution_count": null,
   "id": "laughing-joshua",
   "metadata": {},
   "outputs": [],
   "source": [
    "# this will return a fixed dates week, as this prototype is not yet streaming new dayly data\n",
    "def get_week(ticker):\n",
    "    return none"
   ]
  },
  {
   "cell_type": "code",
   "execution_count": 49,
   "id": "exempt-lounge",
   "metadata": {},
   "outputs": [],
   "source": [
    "def get_mentions_on_date(ticker, date):\n",
    "    url2 = \"mentions/\" + ticker + \"/\"+ date\n",
    "    response = requests.get(url+url2)\n",
    "    if not response.status_code == 200:\n",
    "        print(response.status_code)\n",
    "        \n",
    "    return response.text"
   ]
  },
  {
   "cell_type": "code",
   "execution_count": 52,
   "id": "dependent-stopping",
   "metadata": {},
   "outputs": [
    {
     "data": {
      "text/plain": [
       "'8'"
      ]
     },
     "execution_count": 52,
     "metadata": {},
     "output_type": "execute_result"
    }
   ],
   "source": [
    "get_mentions_on_date('GME', '2021-05-28')\n"
   ]
  },
  {
   "cell_type": "code",
   "execution_count": null,
   "id": "medieval-pocket",
   "metadata": {},
   "outputs": [],
   "source": []
  },
  {
   "cell_type": "code",
   "execution_count": null,
   "id": "middle-municipality",
   "metadata": {},
   "outputs": [],
   "source": []
  }
 ],
 "metadata": {
  "kernelspec": {
   "display_name": "Python 3",
   "language": "python",
   "name": "python3"
  },
  "language_info": {
   "codemirror_mode": {
    "name": "ipython",
    "version": 3
   },
   "file_extension": ".py",
   "mimetype": "text/x-python",
   "name": "python",
   "nbconvert_exporter": "python",
   "pygments_lexer": "ipython3",
   "version": "3.8.5"
  }
 },
 "nbformat": 4,
 "nbformat_minor": 5
}
