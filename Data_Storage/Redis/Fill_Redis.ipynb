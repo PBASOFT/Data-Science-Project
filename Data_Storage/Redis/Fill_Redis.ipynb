{
 "cells": [
  {
   "cell_type": "code",
   "execution_count": 1,
   "id": "permanent-packing",
   "metadata": {},
   "outputs": [],
   "source": [
    "import requests\n",
    "import pandas"
   ]
  },
  {
   "cell_type": "markdown",
   "id": "official-proxy",
   "metadata": {},
   "source": [
    "## Mentions on date "
   ]
  },
  {
   "cell_type": "code",
   "execution_count": 5,
   "id": "packed-reliance",
   "metadata": {},
   "outputs": [],
   "source": [
    "neo_url = 'http://localhost:5050/'"
   ]
  },
  {
   "cell_type": "code",
   "execution_count": 6,
   "id": "reserved-columbia",
   "metadata": {},
   "outputs": [],
   "source": [
    "def get_mentions_on_date(ticker, date):\n",
    "    url = \"mentions/\" + ticker + \"/\"+ date\n",
    "    response = requests.get(neo_url+url)\n",
    "    if not response.status_code == 200:\n",
    "        print(response.status_code)\n",
    "        \n",
    "    return response.text"
   ]
  },
  {
   "cell_type": "code",
   "execution_count": 10,
   "id": "spare-million",
   "metadata": {},
   "outputs": [
    {
     "data": {
      "text/plain": [
       "'583'"
      ]
     },
     "execution_count": 10,
     "metadata": {},
     "output_type": "execute_result"
    }
   ],
   "source": [
    "get_mentions_on_date('GME', '2021-05-27')"
   ]
  },
  {
   "cell_type": "code",
   "execution_count": null,
   "id": "jewish-breakfast",
   "metadata": {},
   "outputs": [],
   "source": []
  },
  {
   "cell_type": "markdown",
   "id": "hazardous-director",
   "metadata": {},
   "source": [
    "## Price on date"
   ]
  },
  {
   "cell_type": "code",
   "execution_count": 11,
   "id": "matched-steps",
   "metadata": {},
   "outputs": [],
   "source": [
    "postgres_url = 'http://127.0.0.1:5000/'"
   ]
  },
  {
   "cell_type": "code",
   "execution_count": 13,
   "id": "sustainable-creature",
   "metadata": {},
   "outputs": [],
   "source": [
    "def get_price_on_date(ticker, date):\n",
    "    url = \"prices/\" + ticker + \"/\"+ date\n",
    "    response = requests.get(postgres_url+url)\n",
    "    if not response.status_code == 200:\n",
    "        print(response.status_code)       \n",
    "    return response.text"
   ]
  },
  {
   "cell_type": "code",
   "execution_count": 17,
   "id": "inclusive-locking",
   "metadata": {},
   "outputs": [
    {
     "data": {
      "text/plain": [
       "'[\\n  {\\n    \"date\": \"2021-05-27\", \\n    \"price\": 254.1300048828125\\n  }\\n]\\n'"
      ]
     },
     "execution_count": 17,
     "metadata": {},
     "output_type": "execute_result"
    }
   ],
   "source": [
    "get_price_on_date('GME', '2021-05-27')\n"
   ]
  },
  {
   "cell_type": "code",
   "execution_count": null,
   "id": "outside-malta",
   "metadata": {},
   "outputs": [],
   "source": []
  },
  {
   "cell_type": "code",
   "execution_count": null,
   "id": "known-house",
   "metadata": {},
   "outputs": [],
   "source": []
  },
  {
   "cell_type": "code",
   "execution_count": null,
   "id": "revised-pizza",
   "metadata": {},
   "outputs": [],
   "source": [
    "# this will return a fixed dates week, as this prototype is not yet streaming new dayly data\n",
    "def get_week(ticker):\n",
    "    return none"
   ]
  },
  {
   "cell_type": "code",
   "execution_count": null,
   "id": "second-basic",
   "metadata": {},
   "outputs": [],
   "source": []
  },
  {
   "cell_type": "code",
   "execution_count": null,
   "id": "fluid-eleven",
   "metadata": {},
   "outputs": [],
   "source": [
    "\n"
   ]
  },
  {
   "cell_type": "code",
   "execution_count": null,
   "id": "leading-namibia",
   "metadata": {},
   "outputs": [],
   "source": []
  },
  {
   "cell_type": "code",
   "execution_count": null,
   "id": "cathedral-steps",
   "metadata": {},
   "outputs": [],
   "source": []
  }
 ],
 "metadata": {
  "kernelspec": {
   "display_name": "Python 3",
   "language": "python",
   "name": "python3"
  },
  "language_info": {
   "codemirror_mode": {
    "name": "ipython",
    "version": 3
   },
   "file_extension": ".py",
   "mimetype": "text/x-python",
   "name": "python",
   "nbconvert_exporter": "python",
   "pygments_lexer": "ipython3",
   "version": "3.8.5"
  }
 },
 "nbformat": 4,
 "nbformat_minor": 5
}
