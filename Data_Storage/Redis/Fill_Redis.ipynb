{
 "cells": [
  {
   "cell_type": "code",
   "execution_count": 1,
   "id": "sealed-stephen",
   "metadata": {},
   "outputs": [],
   "source": []
  },
  {
   "cell_type": "markdown",
   "id": "appointed-developer",
   "metadata": {},
   "source": [
    "## Mentions on date "
   ]
  },
  {
   "cell_type": "code",
   "execution_count": null,
   "id": "interior-cleanup",
   "metadata": {},
   "outputs": [],
   "source": [
    "neo_url = 'http://localhost:5050/'"
   ]
  },
  {
   "cell_type": "code",
   "execution_count": null,
   "id": "cultural-store",
   "metadata": {},
   "outputs": [],
   "source": [
    "def get_mentions_on_date(ticker, date):\n",
    "    url = \"mentions/\" + ticker + \"/\"+ date\n",
    "    response = requests.get(neo_url+url)\n",
    "    if not response.status_code == 200:\n",
    "        print(response.status_code)\n",
    "        \n",
    "    return response.text"
   ]
  },
  {
   "cell_type": "code",
   "execution_count": null,
   "id": "considerable-incident",
   "metadata": {},
   "outputs": [],
   "source": [
    "get_mentions_on_date('GME', '2021-05-29')"
   ]
  },
  {
   "cell_type": "code",
   "execution_count": null,
   "id": "broad-sector",
   "metadata": {},
   "outputs": [],
   "source": []
  },
  {
   "cell_type": "markdown",
   "id": "missing-invite",
   "metadata": {},
   "source": [
    "## Price on date"
   ]
  },
  {
   "cell_type": "code",
   "execution_count": null,
   "id": "critical-provider",
   "metadata": {},
   "outputs": [],
   "source": [
    "postgres_url = 'http://127.0.0.1:5000/'"
   ]
  },
  {
   "cell_type": "code",
   "execution_count": null,
   "id": "aggressive-avatar",
   "metadata": {},
   "outputs": [],
   "source": [
    "def get_price_on_date(ticker, date):\n",
    "    url = \"prices/\" + ticker + \"/\"+ date\n",
    "    response = requests.get(postgres_url+url)\n",
    "    if not response.status_code == 200:\n",
    "        print(response.status_code)       \n",
    "    return response.text"
   ]
  },
  {
   "cell_type": "code",
   "execution_count": null,
   "id": "going-award",
   "metadata": {},
   "outputs": [],
   "source": [
    "get_price_on_date('GME', '2021-05-27')\n"
   ]
  },
  {
   "cell_type": "code",
   "execution_count": null,
   "id": "physical-rebate",
   "metadata": {},
   "outputs": [],
   "source": []
  },
  {
   "cell_type": "code",
   "execution_count": null,
   "id": "technological-parade",
   "metadata": {},
   "outputs": [],
   "source": []
  },
  {
   "cell_type": "code",
   "execution_count": null,
   "id": "vocal-treat",
   "metadata": {},
   "outputs": [],
   "source": [
    "# this will return a fixed dates week, as this prototype is not yet streaming new dayly data\n",
    "def get_week(ticker):\n",
    "    return none"
   ]
  },
  {
   "cell_type": "code",
   "execution_count": null,
   "id": "central-leisure",
   "metadata": {},
   "outputs": [],
   "source": []
  },
  {
   "cell_type": "code",
   "execution_count": null,
   "id": "regulated-andrew",
   "metadata": {},
   "outputs": [],
   "source": [
    "\n"
   ]
  },
  {
   "cell_type": "code",
   "execution_count": null,
   "id": "cultural-theology",
   "metadata": {},
   "outputs": [],
   "source": []
  },
  {
   "cell_type": "code",
   "execution_count": null,
   "id": "reflected-wellington",
   "metadata": {},
   "outputs": [],
   "source": []
  }
 ],
 "metadata": {
  "kernelspec": {
   "display_name": "Python 3",
   "language": "python",
   "name": "python3"
  },
  "language_info": {
   "codemirror_mode": {
    "name": "ipython",
    "version": 3
   },
   "file_extension": ".py",
   "mimetype": "text/x-python",
   "name": "python",
   "nbconvert_exporter": "python",
   "pygments_lexer": "ipython3",
   "version": "3.8.5"
  }
 },
 "nbformat": 4,
 "nbformat_minor": 5
}
