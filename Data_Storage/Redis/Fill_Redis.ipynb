{
 "cells": [
  {
   "cell_type": "code",
   "execution_count": 1,
   "id": "ruled-edition",
   "metadata": {},
   "outputs": [],
   "source": []
  },
  {
   "cell_type": "markdown",
   "id": "formed-prize",
   "metadata": {},
   "source": [
    "## Mentions on date "
   ]
  },
  {
   "cell_type": "code",
   "execution_count": 2,
   "id": "verbal-subscription",
   "metadata": {},
   "outputs": [],
   "source": [
    "neo_url = 'http://localhost:5050/'"
   ]
  },
  {
   "cell_type": "code",
   "execution_count": 3,
   "id": "continent-memorial",
   "metadata": {},
   "outputs": [],
   "source": [
    "def get_mentions_on_date(ticker, date):\n",
    "    url = \"mentions/\" + ticker + \"/\"+ date\n",
    "    response = requests.get(neo_url+url)\n",
    "    if not response.status_code == 200:\n",
    "        print(response.status_code)\n",
    "        \n",
    "    return response.text"
   ]
  },
  {
   "cell_type": "code",
   "execution_count": 5,
   "id": "radio-nightlife",
   "metadata": {},
   "outputs": [
    {
     "data": {
      "text/plain": [
       "'0'"
      ]
     },
     "execution_count": 5,
     "metadata": {},
     "output_type": "execute_result"
    }
   ],
   "source": [
    "get_mentions_on_date('GME', '2021-05-29')"
   ]
  },
  {
   "cell_type": "code",
   "execution_count": null,
   "id": "supreme-appeal",
   "metadata": {},
   "outputs": [],
   "source": []
  },
  {
   "cell_type": "markdown",
   "id": "distant-crime",
   "metadata": {},
   "source": [
    "## Price on date"
   ]
  },
  {
   "cell_type": "code",
   "execution_count": null,
   "id": "therapeutic-brand",
   "metadata": {},
   "outputs": [],
   "source": [
    "postgres_url = 'http://127.0.0.1:5000/'"
   ]
  },
  {
   "cell_type": "code",
   "execution_count": null,
   "id": "competitive-invitation",
   "metadata": {},
   "outputs": [],
   "source": [
    "def get_price_on_date(ticker, date):\n",
    "    url = \"prices/\" + ticker + \"/\"+ date\n",
    "    response = requests.get(postgres_url+url)\n",
    "    if not response.status_code == 200:\n",
    "        print(response.status_code)       \n",
    "    return response.text"
   ]
  },
  {
   "cell_type": "code",
   "execution_count": null,
   "id": "supposed-planet",
   "metadata": {},
   "outputs": [],
   "source": [
    "get_price_on_date('GME', '2021-05-27')\n"
   ]
  },
  {
   "cell_type": "code",
   "execution_count": null,
   "id": "impaired-flour",
   "metadata": {},
   "outputs": [],
   "source": []
  },
  {
   "cell_type": "code",
   "execution_count": null,
   "id": "radio-adolescent",
   "metadata": {},
   "outputs": [],
   "source": []
  },
  {
   "cell_type": "code",
   "execution_count": null,
   "id": "cleared-message",
   "metadata": {},
   "outputs": [],
   "source": [
    "# this will return a fixed dates week, as this prototype is not yet streaming new dayly data\n",
    "def get_week(ticker):\n",
    "    return none"
   ]
  },
  {
   "cell_type": "code",
   "execution_count": null,
   "id": "peripheral-agent",
   "metadata": {},
   "outputs": [],
   "source": []
  },
  {
   "cell_type": "code",
   "execution_count": null,
   "id": "nuclear-feeling",
   "metadata": {},
   "outputs": [],
   "source": [
    "\n"
   ]
  },
  {
   "cell_type": "code",
   "execution_count": null,
   "id": "superior-choir",
   "metadata": {},
   "outputs": [],
   "source": []
  },
  {
   "cell_type": "code",
   "execution_count": null,
   "id": "national-auditor",
   "metadata": {},
   "outputs": [],
   "source": []
  }
 ],
 "metadata": {
  "kernelspec": {
   "display_name": "Python 3",
   "language": "python",
   "name": "python3"
  },
  "language_info": {
   "codemirror_mode": {
    "name": "ipython",
    "version": 3
   },
   "file_extension": ".py",
   "mimetype": "text/x-python",
   "name": "python",
   "nbconvert_exporter": "python",
   "pygments_lexer": "ipython3",
   "version": "3.8.5"
  }
 },
 "nbformat": 4,
 "nbformat_minor": 5
}
