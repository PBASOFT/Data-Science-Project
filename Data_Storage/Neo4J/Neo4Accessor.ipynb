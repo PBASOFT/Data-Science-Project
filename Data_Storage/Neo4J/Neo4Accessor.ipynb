{
 "cells": [
  {
   "cell_type": "code",
   "execution_count": 7,
   "id": "considerable-welsh",
   "metadata": {},
   "outputs": [],
   "source": [
    "from flask import Flask, request, jsonify, redirect, render_template\n",
    "from neo4j import GraphDatabase\n",
    "import csv"
   ]
  },
  {
   "cell_type": "code",
   "execution_count": 8,
   "id": "interesting-integration",
   "metadata": {},
   "outputs": [
    {
     "name": "stdout",
     "output_type": "stream",
     "text": [
      "neo4j j4neo bolt://0.0.0.0:7687\n"
     ]
    }
   ],
   "source": [
    "with open(\"cred.txt\") as f1:\n",
    "    data = csv.reader(f1, delimiter=\",\")\n",
    "    for row in data:\n",
    "        username = row[0]\n",
    "        password = row[1]\n",
    "        uri = row[2]\n",
    "        \n",
    "print(username, password, uri)"
   ]
  },
  {
   "cell_type": "code",
   "execution_count": 9,
   "id": "moral-softball",
   "metadata": {},
   "outputs": [],
   "source": [
    "# Establish connection\n",
    "driver = GraphDatabase.driver(uri=uri, auth=(username,password))\n",
    "session = driver.session()"
   ]
  },
  {
   "cell_type": "markdown",
   "id": "tracked-steel",
   "metadata": {},
   "source": [
    "----"
   ]
  },
  {
   "cell_type": "code",
   "execution_count": 15,
   "id": "romantic-presence",
   "metadata": {},
   "outputs": [],
   "source": [
    "# CREATE STOCK\n",
    "def create_stock(ticker):\n",
    "    q1 = \"\"\"\n",
    "    create (s:stock{ticker:$ticker})\n",
    "    \"\"\"\n",
    "    map = {\"ticker\": ticker}\n",
    "    try:\n",
    "        session.run(q1, map)\n",
    "        return(f\"stock node is created with ticker name = {ticker}\")\n",
    "    except Exception as e:\n",
    "        return (str(e))"
   ]
  },
  {
   "cell_type": "code",
   "execution_count": 16,
   "id": "declared-rental",
   "metadata": {},
   "outputs": [
    {
     "data": {
      "text/plain": [
       "'stock node is created with ticker name = GME'"
      ]
     },
     "execution_count": 16,
     "metadata": {},
     "output_type": "execute_result"
    }
   ],
   "source": [
    "#create_stock(\"GME\")"
   ]
  },
  {
   "cell_type": "code",
   "execution_count": 17,
   "id": "broadband-funeral",
   "metadata": {},
   "outputs": [],
   "source": [
    "# CREATE SUBREDDIT\n",
    "def create_subreddit(name):\n",
    "    q1 = \"\"\"\n",
    "    create (sr:subreddit{name:$name})\n",
    "    \"\"\"\n",
    "    map = {\"name\": name}\n",
    "    try:\n",
    "        session.run(q1, map)\n",
    "        return(f\"subreddit node is created with subreddit name = {name}\")\n",
    "    except Exception as e:\n",
    "        return (str(e))"
   ]
  },
  {
   "cell_type": "code",
   "execution_count": 18,
   "id": "crucial-fields",
   "metadata": {},
   "outputs": [],
   "source": [
    "# CREATE SUBMISSION\n",
    "def create_submission(subreddit, date, id):\n",
    "    q1 = '''\n",
    "    MERGE (sm:submission:'''+subreddit+'''{date:$date, id:$id})\n",
    "   '''\n",
    "    map = {\"date\": date, \"id\": id}\n",
    "    try:\n",
    "        session.run(q1, map)\n",
    "        return(f\"submission node is created with id = {id}\")\n",
    "    except Exception as e:\n",
    "        return (str(e))"
   ]
  },
  {
   "cell_type": "code",
   "execution_count": 19,
   "id": "inappropriate-chamber",
   "metadata": {},
   "outputs": [],
   "source": [
    "# CREATE COMMENT\n",
    "def create_comment(subreddit, datetime, comment_id, parent_id):\n",
    "    q1 = '''\n",
    "    MERGE (c:comment:'''+subreddit+'''{date:$datetime, comment_id:$comment_id, parent_id:$parent_id})\n",
    "   '''\n",
    "\n",
    "    map = {\"datetime\": datetime, \"comment_id\": comment_id, \"parent_id\": parent_id}\n",
    "    try:\n",
    "        session.run(q1, map)\n",
    "        return(f\"comment node is created with id = {comment_id}\")\n",
    "    except Exception as e:\n",
    "        return (str(e))"
   ]
  },
  {
   "cell_type": "code",
   "execution_count": 20,
   "id": "median-vessel",
   "metadata": {},
   "outputs": [],
   "source": [
    "# CREATE MENTIONS CONNECTION\n",
    "def create_mentions_connection(node_kind, node_id, ticker):\n",
    "    \n",
    "    q1 = \"\"\"\n",
    "    MERGE (s:stock{ticker:'\"\"\"+ticker+\"\"\"'})\n",
    "    \"\"\"\n",
    "    q_submission = \"\"\"\n",
    "    MATCH (a:submission),(b:stock)\n",
    "    WHERE a.id = '\"\"\"+node_id+\"\"\"' AND b.ticker = '\"\"\"+ticker+\"\"\"'\n",
    "    MERGE (a)-[m:MENTIONS]->(b)\n",
    "    \"\"\"\n",
    "    q_comment = \"\"\"\n",
    "    MATCH (a:\"\"\"+node_kind+\"\"\"),(b:stock)\n",
    "    WHERE a.comment_id = '\"\"\"+node_id+\"\"\"' AND b.ticker = '\"\"\"+ticker+\"\"\"'\n",
    "    MERGE (a)-[m:MENTIONS]->(b)\n",
    "    \"\"\"\n",
    "    map = {\"node_kind\":node_kind,\"node_id\": node_id, \"ticker\":ticker}\n",
    "    query = q_comment\n",
    "    if node_kind == 'submission':\n",
    "        query = q_submission\n",
    "    try:\n",
    "        session.run(q1)\n",
    "        session.run(query, map)\n",
    "        return(f\"connection is created to {ticker}\")\n",
    "    except Exception as e:\n",
    "        return (str(e))\n"
   ]
  },
  {
   "cell_type": "code",
   "execution_count": 21,
   "id": "hourly-spread",
   "metadata": {},
   "outputs": [],
   "source": [
    "# CREATE REPLIES CONNECTION\n",
    "def create_replies_connection(node_kind, reply_from_id, reply_to_id):\n",
    "    # reply to submission\n",
    "    q_submission = \"\"\"\n",
    "    MATCH \n",
    "        (cfrom:comment {comment_id: '\"\"\"+reply_from_id+\"\"\"'}),\n",
    "        (cto:submission {id: '\"\"\"+reply_to_id+\"\"\"'})\n",
    "    MERGE (cfrom)-[r:REPLIES]->(cto)\n",
    "    \"\"\"\n",
    "    # reply to comment\n",
    "    q_comment = \"\"\"\n",
    "    MATCH \n",
    "        (cfrom:comment {comment_id: '\"\"\"+reply_from_id+\"\"\"'}),\n",
    "        (cto:comment {comment_id: '\"\"\"+reply_to_id+\"\"\"'})\n",
    "    MERGE (cfrom)-[r:REPLIES]->(cto)\n",
    "    \"\"\"\n",
    "    map = {\"node_kind\":node_kind,\"reply_from_id\": reply_from_id, \"reply_to_id\":reply_to_id}\n",
    "    query = q_comment\n",
    "    if node_kind == 'submission':\n",
    "        query = q_submission\n",
    "    try:\n",
    "        \n",
    "        session.run(query, map)\n",
    "        return(f\"connection 'replied' is created\")\n",
    "    except Exception as e:\n",
    "        return (str(e))"
   ]
  },
  {
   "cell_type": "code",
   "execution_count": 12,
   "id": "elder-conversation",
   "metadata": {},
   "outputs": [],
   "source": [
    "def get_stock(ticker):\n",
    "    query=\"\"\"\n",
    "    \"MATCH (s:stock {ticker:$userName}) RETURN s;\"\n",
    "    \"\"\"\n",
    "    results = session.run(query)\n",
    "    data =  results.data()\n",
    "    return(jsonify(data))"
   ]
  },
  {
   "cell_type": "code",
   "execution_count": 13,
   "id": "colored-section",
   "metadata": {},
   "outputs": [
    {
     "ename": "CypherSyntaxError",
     "evalue": "{code: Neo.ClientError.Statement.SyntaxError} {message: Invalid input '\"': expected <init> (line 2, column 1 (offset: 5))\n\"    \"MATCH (s:stock {ticker:$userName}) RETURN s;\"\"\n     ^}",
     "output_type": "error",
     "traceback": [
      "\u001b[0;31m---------------------------------------------------------------------------\u001b[0m",
      "\u001b[0;31mCypherSyntaxError\u001b[0m                         Traceback (most recent call last)",
      "\u001b[0;32m<ipython-input-13-60e560547f16>\u001b[0m in \u001b[0;36m<module>\u001b[0;34m\u001b[0m\n\u001b[0;32m----> 1\u001b[0;31m \u001b[0mget_stock\u001b[0m\u001b[0;34m(\u001b[0m\u001b[0;34m'GME'\u001b[0m\u001b[0;34m)\u001b[0m\u001b[0;34m\u001b[0m\u001b[0;34m\u001b[0m\u001b[0m\n\u001b[0m",
      "\u001b[0;32m<ipython-input-12-ad25593d4762>\u001b[0m in \u001b[0;36mget_stock\u001b[0;34m(ticker)\u001b[0m\n\u001b[1;32m      3\u001b[0m     \u001b[0;34m\"MATCH (s:stock {ticker:$userName}) RETURN s;\"\u001b[0m\u001b[0;34m\u001b[0m\u001b[0;34m\u001b[0m\u001b[0m\n\u001b[1;32m      4\u001b[0m     \"\"\"\n\u001b[0;32m----> 5\u001b[0;31m     \u001b[0mresults\u001b[0m \u001b[0;34m=\u001b[0m \u001b[0msession\u001b[0m\u001b[0;34m.\u001b[0m\u001b[0mrun\u001b[0m\u001b[0;34m(\u001b[0m\u001b[0mquery\u001b[0m\u001b[0;34m)\u001b[0m\u001b[0;34m\u001b[0m\u001b[0;34m\u001b[0m\u001b[0m\n\u001b[0m\u001b[1;32m      6\u001b[0m     \u001b[0mdata\u001b[0m \u001b[0;34m=\u001b[0m  \u001b[0mresults\u001b[0m\u001b[0;34m.\u001b[0m\u001b[0mdata\u001b[0m\u001b[0;34m(\u001b[0m\u001b[0;34m)\u001b[0m\u001b[0;34m\u001b[0m\u001b[0;34m\u001b[0m\u001b[0m\n\u001b[1;32m      7\u001b[0m     \u001b[0;32mreturn\u001b[0m\u001b[0;34m(\u001b[0m\u001b[0mjsonify\u001b[0m\u001b[0;34m(\u001b[0m\u001b[0mdata\u001b[0m\u001b[0;34m)\u001b[0m\u001b[0;34m)\u001b[0m\u001b[0;34m\u001b[0m\u001b[0;34m\u001b[0m\u001b[0m\n",
      "\u001b[0;32m~/opt/anaconda3/lib/python3.8/site-packages/neo4j/work/simple.py\u001b[0m in \u001b[0;36mrun\u001b[0;34m(self, query, parameters, **kwparameters)\u001b[0m\n\u001b[1;32m    215\u001b[0m \u001b[0;34m\u001b[0m\u001b[0m\n\u001b[1;32m    216\u001b[0m         \u001b[0mself\u001b[0m\u001b[0;34m.\u001b[0m\u001b[0m_autoResult\u001b[0m \u001b[0;34m=\u001b[0m \u001b[0mResult\u001b[0m\u001b[0;34m(\u001b[0m\u001b[0mcx\u001b[0m\u001b[0;34m,\u001b[0m \u001b[0mhydrant\u001b[0m\u001b[0;34m,\u001b[0m \u001b[0mself\u001b[0m\u001b[0;34m.\u001b[0m\u001b[0m_config\u001b[0m\u001b[0;34m.\u001b[0m\u001b[0mfetch_size\u001b[0m\u001b[0;34m,\u001b[0m \u001b[0mself\u001b[0m\u001b[0;34m.\u001b[0m\u001b[0m_result_closed\u001b[0m\u001b[0;34m)\u001b[0m\u001b[0;34m\u001b[0m\u001b[0;34m\u001b[0m\u001b[0m\n\u001b[0;32m--> 217\u001b[0;31m         \u001b[0mself\u001b[0m\u001b[0;34m.\u001b[0m\u001b[0m_autoResult\u001b[0m\u001b[0;34m.\u001b[0m\u001b[0m_run\u001b[0m\u001b[0;34m(\u001b[0m\u001b[0mquery\u001b[0m\u001b[0;34m,\u001b[0m \u001b[0mparameters\u001b[0m\u001b[0;34m,\u001b[0m \u001b[0mself\u001b[0m\u001b[0;34m.\u001b[0m\u001b[0m_config\u001b[0m\u001b[0;34m.\u001b[0m\u001b[0mdatabase\u001b[0m\u001b[0;34m,\u001b[0m \u001b[0mself\u001b[0m\u001b[0;34m.\u001b[0m\u001b[0m_config\u001b[0m\u001b[0;34m.\u001b[0m\u001b[0mdefault_access_mode\u001b[0m\u001b[0;34m,\u001b[0m \u001b[0mself\u001b[0m\u001b[0;34m.\u001b[0m\u001b[0m_bookmarks\u001b[0m\u001b[0;34m,\u001b[0m \u001b[0;34m**\u001b[0m\u001b[0mkwparameters\u001b[0m\u001b[0;34m)\u001b[0m\u001b[0;34m\u001b[0m\u001b[0;34m\u001b[0m\u001b[0m\n\u001b[0m\u001b[1;32m    218\u001b[0m \u001b[0;34m\u001b[0m\u001b[0m\n\u001b[1;32m    219\u001b[0m         \u001b[0;32mreturn\u001b[0m \u001b[0mself\u001b[0m\u001b[0;34m.\u001b[0m\u001b[0m_autoResult\u001b[0m\u001b[0;34m\u001b[0m\u001b[0;34m\u001b[0m\u001b[0m\n",
      "\u001b[0;32m~/opt/anaconda3/lib/python3.8/site-packages/neo4j/work/result.py\u001b[0m in \u001b[0;36m_run\u001b[0;34m(self, query, parameters, db, access_mode, bookmarks, **kwparameters)\u001b[0m\n\u001b[1;32m     99\u001b[0m         \u001b[0mself\u001b[0m\u001b[0;34m.\u001b[0m\u001b[0m_pull\u001b[0m\u001b[0;34m(\u001b[0m\u001b[0;34m)\u001b[0m\u001b[0;34m\u001b[0m\u001b[0;34m\u001b[0m\u001b[0m\n\u001b[1;32m    100\u001b[0m         \u001b[0mself\u001b[0m\u001b[0;34m.\u001b[0m\u001b[0m_connection\u001b[0m\u001b[0;34m.\u001b[0m\u001b[0msend_all\u001b[0m\u001b[0;34m(\u001b[0m\u001b[0;34m)\u001b[0m\u001b[0;34m\u001b[0m\u001b[0;34m\u001b[0m\u001b[0m\n\u001b[0;32m--> 101\u001b[0;31m         \u001b[0mself\u001b[0m\u001b[0;34m.\u001b[0m\u001b[0m_attach\u001b[0m\u001b[0;34m(\u001b[0m\u001b[0;34m)\u001b[0m\u001b[0;34m\u001b[0m\u001b[0;34m\u001b[0m\u001b[0m\n\u001b[0m\u001b[1;32m    102\u001b[0m \u001b[0;34m\u001b[0m\u001b[0m\n\u001b[1;32m    103\u001b[0m     \u001b[0;32mdef\u001b[0m \u001b[0m_pull\u001b[0m\u001b[0;34m(\u001b[0m\u001b[0mself\u001b[0m\u001b[0;34m)\u001b[0m\u001b[0;34m:\u001b[0m\u001b[0;34m\u001b[0m\u001b[0;34m\u001b[0m\u001b[0m\n",
      "\u001b[0;32m~/opt/anaconda3/lib/python3.8/site-packages/neo4j/work/result.py\u001b[0m in \u001b[0;36m_attach\u001b[0;34m(self)\u001b[0m\n\u001b[1;32m    200\u001b[0m         \u001b[0;32mif\u001b[0m \u001b[0mself\u001b[0m\u001b[0;34m.\u001b[0m\u001b[0m_closed\u001b[0m \u001b[0;32mis\u001b[0m \u001b[0;32mFalse\u001b[0m\u001b[0;34m:\u001b[0m\u001b[0;34m\u001b[0m\u001b[0;34m\u001b[0m\u001b[0m\n\u001b[1;32m    201\u001b[0m             \u001b[0;32mwhile\u001b[0m \u001b[0mself\u001b[0m\u001b[0;34m.\u001b[0m\u001b[0m_attached\u001b[0m \u001b[0;32mis\u001b[0m \u001b[0;32mFalse\u001b[0m\u001b[0;34m:\u001b[0m\u001b[0;34m\u001b[0m\u001b[0;34m\u001b[0m\u001b[0m\n\u001b[0;32m--> 202\u001b[0;31m                 \u001b[0mself\u001b[0m\u001b[0;34m.\u001b[0m\u001b[0m_connection\u001b[0m\u001b[0;34m.\u001b[0m\u001b[0mfetch_message\u001b[0m\u001b[0;34m(\u001b[0m\u001b[0;34m)\u001b[0m\u001b[0;34m\u001b[0m\u001b[0;34m\u001b[0m\u001b[0m\n\u001b[0m\u001b[1;32m    203\u001b[0m \u001b[0;34m\u001b[0m\u001b[0m\n\u001b[1;32m    204\u001b[0m     \u001b[0;32mdef\u001b[0m \u001b[0m_buffer_all\u001b[0m\u001b[0;34m(\u001b[0m\u001b[0mself\u001b[0m\u001b[0;34m)\u001b[0m\u001b[0;34m:\u001b[0m\u001b[0;34m\u001b[0m\u001b[0;34m\u001b[0m\u001b[0m\n",
      "\u001b[0;32m~/opt/anaconda3/lib/python3.8/site-packages/neo4j/io/_bolt4.py\u001b[0m in \u001b[0;36mfetch_message\u001b[0;34m(self)\u001b[0m\n\u001b[1;32m    361\u001b[0m             \u001b[0mlog\u001b[0m\u001b[0;34m.\u001b[0m\u001b[0mdebug\u001b[0m\u001b[0;34m(\u001b[0m\u001b[0;34m\"[#%04X]  S: FAILURE %r\"\u001b[0m\u001b[0;34m,\u001b[0m \u001b[0mself\u001b[0m\u001b[0;34m.\u001b[0m\u001b[0mlocal_port\u001b[0m\u001b[0;34m,\u001b[0m \u001b[0msummary_metadata\u001b[0m\u001b[0;34m)\u001b[0m\u001b[0;34m\u001b[0m\u001b[0;34m\u001b[0m\u001b[0m\n\u001b[1;32m    362\u001b[0m             \u001b[0;32mtry\u001b[0m\u001b[0;34m:\u001b[0m\u001b[0;34m\u001b[0m\u001b[0;34m\u001b[0m\u001b[0m\n\u001b[0;32m--> 363\u001b[0;31m                 \u001b[0mresponse\u001b[0m\u001b[0;34m.\u001b[0m\u001b[0mon_failure\u001b[0m\u001b[0;34m(\u001b[0m\u001b[0msummary_metadata\u001b[0m \u001b[0;32mor\u001b[0m \u001b[0;34m{\u001b[0m\u001b[0;34m}\u001b[0m\u001b[0;34m)\u001b[0m\u001b[0;34m\u001b[0m\u001b[0;34m\u001b[0m\u001b[0m\n\u001b[0m\u001b[1;32m    364\u001b[0m             \u001b[0;32mexcept\u001b[0m \u001b[0;34m(\u001b[0m\u001b[0mServiceUnavailable\u001b[0m\u001b[0;34m,\u001b[0m \u001b[0mDatabaseUnavailable\u001b[0m\u001b[0;34m)\u001b[0m\u001b[0;34m:\u001b[0m\u001b[0;34m\u001b[0m\u001b[0;34m\u001b[0m\u001b[0m\n\u001b[1;32m    365\u001b[0m                 \u001b[0;32mif\u001b[0m \u001b[0mself\u001b[0m\u001b[0;34m.\u001b[0m\u001b[0mpool\u001b[0m\u001b[0;34m:\u001b[0m\u001b[0;34m\u001b[0m\u001b[0;34m\u001b[0m\u001b[0m\n",
      "\u001b[0;32m~/opt/anaconda3/lib/python3.8/site-packages/neo4j/io/_common.py\u001b[0m in \u001b[0;36mon_failure\u001b[0;34m(self, metadata)\u001b[0m\n\u001b[1;32m    177\u001b[0m         \u001b[0;32mif\u001b[0m \u001b[0mcallable\u001b[0m\u001b[0;34m(\u001b[0m\u001b[0mhandler\u001b[0m\u001b[0;34m)\u001b[0m\u001b[0;34m:\u001b[0m\u001b[0;34m\u001b[0m\u001b[0;34m\u001b[0m\u001b[0m\n\u001b[1;32m    178\u001b[0m             \u001b[0mhandler\u001b[0m\u001b[0;34m(\u001b[0m\u001b[0;34m)\u001b[0m\u001b[0;34m\u001b[0m\u001b[0;34m\u001b[0m\u001b[0m\n\u001b[0;32m--> 179\u001b[0;31m         \u001b[0;32mraise\u001b[0m \u001b[0mNeo4jError\u001b[0m\u001b[0;34m.\u001b[0m\u001b[0mhydrate\u001b[0m\u001b[0;34m(\u001b[0m\u001b[0;34m**\u001b[0m\u001b[0mmetadata\u001b[0m\u001b[0;34m)\u001b[0m\u001b[0;34m\u001b[0m\u001b[0;34m\u001b[0m\u001b[0m\n\u001b[0m\u001b[1;32m    180\u001b[0m \u001b[0;34m\u001b[0m\u001b[0m\n\u001b[1;32m    181\u001b[0m     \u001b[0;32mdef\u001b[0m \u001b[0mon_ignored\u001b[0m\u001b[0;34m(\u001b[0m\u001b[0mself\u001b[0m\u001b[0;34m,\u001b[0m \u001b[0mmetadata\u001b[0m\u001b[0;34m=\u001b[0m\u001b[0;32mNone\u001b[0m\u001b[0;34m)\u001b[0m\u001b[0;34m:\u001b[0m\u001b[0;34m\u001b[0m\u001b[0;34m\u001b[0m\u001b[0m\n",
      "\u001b[0;31mCypherSyntaxError\u001b[0m: {code: Neo.ClientError.Statement.SyntaxError} {message: Invalid input '\"': expected <init> (line 2, column 1 (offset: 5))\n\"    \"MATCH (s:stock {ticker:$userName}) RETURN s;\"\"\n     ^}"
     ]
    }
   ],
   "source": [
    "get_stock('GME')"
   ]
  },
  {
   "cell_type": "code",
   "execution_count": null,
   "id": "atlantic-context",
   "metadata": {},
   "outputs": [],
   "source": []
  }
 ],
 "metadata": {
  "kernelspec": {
   "display_name": "Python 3",
   "language": "python",
   "name": "python3"
  },
  "language_info": {
   "codemirror_mode": {
    "name": "ipython",
    "version": 3
   },
   "file_extension": ".py",
   "mimetype": "text/x-python",
   "name": "python",
   "nbconvert_exporter": "python",
   "pygments_lexer": "ipython3",
   "version": "3.8.5"
  }
 },
 "nbformat": 4,
 "nbformat_minor": 5
}
