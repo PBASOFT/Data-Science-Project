{
 "cells": [
  {
   "cell_type": "code",
   "execution_count": 6,
   "id": "governmental-mortality",
   "metadata": {},
   "outputs": [],
   "source": [
    "#docker run \\\n",
    "#    --name neohype --publish=7474:7474 --publish=7687:7687 \\\n",
    "#    --volume=$HOME/neo4j/data:/data \\\n",
    "#    neo4j"
   ]
  },
  {
   "cell_type": "code",
   "execution_count": 7,
   "id": "changed-barrier",
   "metadata": {},
   "outputs": [],
   "source": [
    "#docker run -it --rm \\\n",
    "#  --publish=7474:7474 --publish=7687:7687 \\\n",
    "#  --user=\"$(id -u):$(id -g)\" \\\n",
    "#  -e NEO4J_AUTH=none \\\n",
    "#  --env NEO4JLABS_PLUGINS='[\"graph-data-science\"]' \\\n",
    "#  neo4j:4.2"
   ]
  },
  {
   "cell_type": "markdown",
   "id": "interstate-psychiatry",
   "metadata": {},
   "source": []
  },
  {
   "cell_type": "code",
   "execution_count": 8,
   "id": "solar-chamber",
   "metadata": {},
   "outputs": [],
   "source": [
    "from flask import Flask, request, jsonify, redirect, render_template\n",
    "from neo4j import GraphDatabase\n",
    "import csv"
   ]
  },
  {
   "cell_type": "code",
   "execution_count": 9,
   "id": "judicial-plaintiff",
   "metadata": {},
   "outputs": [
    {
     "name": "stdout",
     "output_type": "stream",
     "text": [
      "neo4j j4neo bolt://0.0.0.0:7687\n"
     ]
    }
   ],
   "source": [
    "with open(\"cred.txt\") as f1:\n",
    "    data = csv.reader(f1, delimiter=\",\")\n",
    "    for row in data:\n",
    "        username = row[0]\n",
    "        password = row[1]\n",
    "        uri = row[2]\n",
    "        \n",
    "print(username, password, uri)"
   ]
  },
  {
   "cell_type": "code",
   "execution_count": 10,
   "id": "gorgeous-coffee",
   "metadata": {},
   "outputs": [
    {
     "ename": "ServiceUnavailable",
     "evalue": "Connection to 0.0.0.0:7687 closed without handshake response",
     "output_type": "error",
     "traceback": [
      "\u001b[0;31m---------------------------------------------------------------------------\u001b[0m",
      "\u001b[0;31mServiceUnavailable\u001b[0m                        Traceback (most recent call last)",
      "\u001b[0;32m<ipython-input-10-a4b1dc30ff51>\u001b[0m in \u001b[0;36m<module>\u001b[0;34m\u001b[0m\n\u001b[1;32m      1\u001b[0m \u001b[0;31m# Establish connection\u001b[0m\u001b[0;34m\u001b[0m\u001b[0;34m\u001b[0m\u001b[0;34m\u001b[0m\u001b[0m\n\u001b[0;32m----> 2\u001b[0;31m \u001b[0mdriver\u001b[0m \u001b[0;34m=\u001b[0m \u001b[0mGraphDatabase\u001b[0m\u001b[0;34m.\u001b[0m\u001b[0mdriver\u001b[0m\u001b[0;34m(\u001b[0m\u001b[0muri\u001b[0m\u001b[0;34m=\u001b[0m\u001b[0muri\u001b[0m\u001b[0;34m,\u001b[0m \u001b[0mauth\u001b[0m\u001b[0;34m=\u001b[0m\u001b[0;34m(\u001b[0m\u001b[0musername\u001b[0m\u001b[0;34m,\u001b[0m\u001b[0mpassword\u001b[0m\u001b[0;34m)\u001b[0m\u001b[0;34m)\u001b[0m\u001b[0;34m\u001b[0m\u001b[0;34m\u001b[0m\u001b[0m\n\u001b[0m\u001b[1;32m      3\u001b[0m \u001b[0msession\u001b[0m \u001b[0;34m=\u001b[0m \u001b[0mdriver\u001b[0m\u001b[0;34m.\u001b[0m\u001b[0msession\u001b[0m\u001b[0;34m(\u001b[0m\u001b[0;34m)\u001b[0m\u001b[0;34m\u001b[0m\u001b[0;34m\u001b[0m\u001b[0m\n",
      "\u001b[0;32m~/opt/anaconda3/lib/python3.8/site-packages/neo4j/__init__.py\u001b[0m in \u001b[0;36mdriver\u001b[0;34m(cls, uri, auth, **config)\u001b[0m\n\u001b[1;32m    181\u001b[0m \u001b[0;34m\u001b[0m\u001b[0m\n\u001b[1;32m    182\u001b[0m         \u001b[0;32mif\u001b[0m \u001b[0mdriver_type\u001b[0m \u001b[0;34m==\u001b[0m \u001b[0mDRIVER_BOLT\u001b[0m\u001b[0;34m:\u001b[0m\u001b[0;34m\u001b[0m\u001b[0;34m\u001b[0m\u001b[0m\n\u001b[0;32m--> 183\u001b[0;31m             \u001b[0;32mreturn\u001b[0m \u001b[0mcls\u001b[0m\u001b[0;34m.\u001b[0m\u001b[0mbolt_driver\u001b[0m\u001b[0;34m(\u001b[0m\u001b[0mparsed\u001b[0m\u001b[0;34m.\u001b[0m\u001b[0mnetloc\u001b[0m\u001b[0;34m,\u001b[0m \u001b[0mauth\u001b[0m\u001b[0;34m=\u001b[0m\u001b[0mauth\u001b[0m\u001b[0;34m,\u001b[0m \u001b[0;34m**\u001b[0m\u001b[0mconfig\u001b[0m\u001b[0;34m)\u001b[0m\u001b[0;34m\u001b[0m\u001b[0;34m\u001b[0m\u001b[0m\n\u001b[0m\u001b[1;32m    184\u001b[0m         \u001b[0;32melif\u001b[0m \u001b[0mdriver_type\u001b[0m \u001b[0;34m==\u001b[0m \u001b[0mDRIVER_NEO4j\u001b[0m\u001b[0;34m:\u001b[0m\u001b[0;34m\u001b[0m\u001b[0;34m\u001b[0m\u001b[0m\n\u001b[1;32m    185\u001b[0m             \u001b[0mrouting_context\u001b[0m \u001b[0;34m=\u001b[0m \u001b[0mparse_routing_context\u001b[0m\u001b[0;34m(\u001b[0m\u001b[0mparsed\u001b[0m\u001b[0;34m.\u001b[0m\u001b[0mquery\u001b[0m\u001b[0;34m)\u001b[0m\u001b[0;34m\u001b[0m\u001b[0;34m\u001b[0m\u001b[0m\n",
      "\u001b[0;32m~/opt/anaconda3/lib/python3.8/site-packages/neo4j/__init__.py\u001b[0m in \u001b[0;36mbolt_driver\u001b[0;34m(cls, target, auth, **config)\u001b[0m\n\u001b[1;32m    194\u001b[0m \u001b[0;34m\u001b[0m\u001b[0m\n\u001b[1;32m    195\u001b[0m         \u001b[0;32mtry\u001b[0m\u001b[0;34m:\u001b[0m\u001b[0;34m\u001b[0m\u001b[0;34m\u001b[0m\u001b[0m\n\u001b[0;32m--> 196\u001b[0;31m             \u001b[0;32mreturn\u001b[0m \u001b[0mBoltDriver\u001b[0m\u001b[0;34m.\u001b[0m\u001b[0mopen\u001b[0m\u001b[0;34m(\u001b[0m\u001b[0mtarget\u001b[0m\u001b[0;34m,\u001b[0m \u001b[0mauth\u001b[0m\u001b[0;34m=\u001b[0m\u001b[0mauth\u001b[0m\u001b[0;34m,\u001b[0m \u001b[0;34m**\u001b[0m\u001b[0mconfig\u001b[0m\u001b[0;34m)\u001b[0m\u001b[0;34m\u001b[0m\u001b[0;34m\u001b[0m\u001b[0m\n\u001b[0m\u001b[1;32m    197\u001b[0m         \u001b[0;32mexcept\u001b[0m \u001b[0;34m(\u001b[0m\u001b[0mBoltHandshakeError\u001b[0m\u001b[0;34m,\u001b[0m \u001b[0mBoltSecurityError\u001b[0m\u001b[0;34m)\u001b[0m \u001b[0;32mas\u001b[0m \u001b[0merror\u001b[0m\u001b[0;34m:\u001b[0m\u001b[0;34m\u001b[0m\u001b[0;34m\u001b[0m\u001b[0m\n\u001b[1;32m    198\u001b[0m             \u001b[0;32mfrom\u001b[0m \u001b[0mneo4j\u001b[0m\u001b[0;34m.\u001b[0m\u001b[0mexceptions\u001b[0m \u001b[0;32mimport\u001b[0m \u001b[0mServiceUnavailable\u001b[0m\u001b[0;34m\u001b[0m\u001b[0;34m\u001b[0m\u001b[0m\n",
      "\u001b[0;32m~/opt/anaconda3/lib/python3.8/site-packages/neo4j/__init__.py\u001b[0m in \u001b[0;36mopen\u001b[0;34m(cls, target, auth, **config)\u001b[0m\n\u001b[1;32m    357\u001b[0m         \u001b[0maddress\u001b[0m \u001b[0;34m=\u001b[0m \u001b[0mcls\u001b[0m\u001b[0;34m.\u001b[0m\u001b[0mparse_target\u001b[0m\u001b[0;34m(\u001b[0m\u001b[0mtarget\u001b[0m\u001b[0;34m)\u001b[0m\u001b[0;34m\u001b[0m\u001b[0;34m\u001b[0m\u001b[0m\n\u001b[1;32m    358\u001b[0m         \u001b[0mpool_config\u001b[0m\u001b[0;34m,\u001b[0m \u001b[0mdefault_workspace_config\u001b[0m \u001b[0;34m=\u001b[0m \u001b[0mConfig\u001b[0m\u001b[0;34m.\u001b[0m\u001b[0mconsume_chain\u001b[0m\u001b[0;34m(\u001b[0m\u001b[0mconfig\u001b[0m\u001b[0;34m,\u001b[0m \u001b[0mPoolConfig\u001b[0m\u001b[0;34m,\u001b[0m \u001b[0mWorkspaceConfig\u001b[0m\u001b[0;34m)\u001b[0m\u001b[0;34m\u001b[0m\u001b[0;34m\u001b[0m\u001b[0m\n\u001b[0;32m--> 359\u001b[0;31m         \u001b[0mpool\u001b[0m \u001b[0;34m=\u001b[0m \u001b[0mBoltPool\u001b[0m\u001b[0;34m.\u001b[0m\u001b[0mopen\u001b[0m\u001b[0;34m(\u001b[0m\u001b[0maddress\u001b[0m\u001b[0;34m,\u001b[0m \u001b[0mauth\u001b[0m\u001b[0;34m=\u001b[0m\u001b[0mauth\u001b[0m\u001b[0;34m,\u001b[0m \u001b[0mpool_config\u001b[0m\u001b[0;34m=\u001b[0m\u001b[0mpool_config\u001b[0m\u001b[0;34m,\u001b[0m \u001b[0mworkspace_config\u001b[0m\u001b[0;34m=\u001b[0m\u001b[0mdefault_workspace_config\u001b[0m\u001b[0;34m)\u001b[0m\u001b[0;34m\u001b[0m\u001b[0;34m\u001b[0m\u001b[0m\n\u001b[0m\u001b[1;32m    360\u001b[0m         \u001b[0;32mreturn\u001b[0m \u001b[0mcls\u001b[0m\u001b[0;34m(\u001b[0m\u001b[0mpool\u001b[0m\u001b[0;34m,\u001b[0m \u001b[0mdefault_workspace_config\u001b[0m\u001b[0;34m)\u001b[0m\u001b[0;34m\u001b[0m\u001b[0;34m\u001b[0m\u001b[0m\n\u001b[1;32m    361\u001b[0m \u001b[0;34m\u001b[0m\u001b[0m\n",
      "\u001b[0;32m~/opt/anaconda3/lib/python3.8/site-packages/neo4j/io/__init__.py\u001b[0m in \u001b[0;36mopen\u001b[0;34m(cls, address, auth, pool_config, workspace_config, routing_context)\u001b[0m\n\u001b[1;32m    533\u001b[0m \u001b[0;34m\u001b[0m\u001b[0m\n\u001b[1;32m    534\u001b[0m         \u001b[0mpool\u001b[0m \u001b[0;34m=\u001b[0m \u001b[0mcls\u001b[0m\u001b[0;34m(\u001b[0m\u001b[0mopener\u001b[0m\u001b[0;34m,\u001b[0m \u001b[0mpool_config\u001b[0m\u001b[0;34m,\u001b[0m \u001b[0mworkspace_config\u001b[0m\u001b[0;34m,\u001b[0m \u001b[0mrouting_context\u001b[0m\u001b[0;34m,\u001b[0m \u001b[0maddress\u001b[0m\u001b[0;34m)\u001b[0m\u001b[0;34m\u001b[0m\u001b[0;34m\u001b[0m\u001b[0m\n\u001b[0;32m--> 535\u001b[0;31m         \u001b[0mseeds\u001b[0m \u001b[0;34m=\u001b[0m \u001b[0;34m[\u001b[0m\u001b[0mpool\u001b[0m\u001b[0;34m.\u001b[0m\u001b[0macquire\u001b[0m\u001b[0;34m(\u001b[0m\u001b[0;34m)\u001b[0m \u001b[0;32mfor\u001b[0m \u001b[0m_\u001b[0m \u001b[0;32min\u001b[0m \u001b[0mrange\u001b[0m\u001b[0;34m(\u001b[0m\u001b[0mpool_config\u001b[0m\u001b[0;34m.\u001b[0m\u001b[0minit_size\u001b[0m\u001b[0;34m)\u001b[0m\u001b[0;34m]\u001b[0m\u001b[0;34m\u001b[0m\u001b[0;34m\u001b[0m\u001b[0m\n\u001b[0m\u001b[1;32m    536\u001b[0m         \u001b[0mpool\u001b[0m\u001b[0;34m.\u001b[0m\u001b[0mrelease\u001b[0m\u001b[0;34m(\u001b[0m\u001b[0;34m*\u001b[0m\u001b[0mseeds\u001b[0m\u001b[0;34m)\u001b[0m\u001b[0;34m\u001b[0m\u001b[0;34m\u001b[0m\u001b[0m\n\u001b[1;32m    537\u001b[0m         \u001b[0;32mreturn\u001b[0m \u001b[0mpool\u001b[0m\u001b[0;34m\u001b[0m\u001b[0;34m\u001b[0m\u001b[0m\n",
      "\u001b[0;32m~/opt/anaconda3/lib/python3.8/site-packages/neo4j/io/__init__.py\u001b[0m in \u001b[0;36m<listcomp>\u001b[0;34m(.0)\u001b[0m\n\u001b[1;32m    533\u001b[0m \u001b[0;34m\u001b[0m\u001b[0m\n\u001b[1;32m    534\u001b[0m         \u001b[0mpool\u001b[0m \u001b[0;34m=\u001b[0m \u001b[0mcls\u001b[0m\u001b[0;34m(\u001b[0m\u001b[0mopener\u001b[0m\u001b[0;34m,\u001b[0m \u001b[0mpool_config\u001b[0m\u001b[0;34m,\u001b[0m \u001b[0mworkspace_config\u001b[0m\u001b[0;34m,\u001b[0m \u001b[0mrouting_context\u001b[0m\u001b[0;34m,\u001b[0m \u001b[0maddress\u001b[0m\u001b[0;34m)\u001b[0m\u001b[0;34m\u001b[0m\u001b[0;34m\u001b[0m\u001b[0m\n\u001b[0;32m--> 535\u001b[0;31m         \u001b[0mseeds\u001b[0m \u001b[0;34m=\u001b[0m \u001b[0;34m[\u001b[0m\u001b[0mpool\u001b[0m\u001b[0;34m.\u001b[0m\u001b[0macquire\u001b[0m\u001b[0;34m(\u001b[0m\u001b[0;34m)\u001b[0m \u001b[0;32mfor\u001b[0m \u001b[0m_\u001b[0m \u001b[0;32min\u001b[0m \u001b[0mrange\u001b[0m\u001b[0;34m(\u001b[0m\u001b[0mpool_config\u001b[0m\u001b[0;34m.\u001b[0m\u001b[0minit_size\u001b[0m\u001b[0;34m)\u001b[0m\u001b[0;34m]\u001b[0m\u001b[0;34m\u001b[0m\u001b[0;34m\u001b[0m\u001b[0m\n\u001b[0m\u001b[1;32m    536\u001b[0m         \u001b[0mpool\u001b[0m\u001b[0;34m.\u001b[0m\u001b[0mrelease\u001b[0m\u001b[0;34m(\u001b[0m\u001b[0;34m*\u001b[0m\u001b[0mseeds\u001b[0m\u001b[0;34m)\u001b[0m\u001b[0;34m\u001b[0m\u001b[0;34m\u001b[0m\u001b[0m\n\u001b[1;32m    537\u001b[0m         \u001b[0;32mreturn\u001b[0m \u001b[0mpool\u001b[0m\u001b[0;34m\u001b[0m\u001b[0;34m\u001b[0m\u001b[0m\n",
      "\u001b[0;32m~/opt/anaconda3/lib/python3.8/site-packages/neo4j/io/__init__.py\u001b[0m in \u001b[0;36macquire\u001b[0;34m(self, access_mode, timeout, database)\u001b[0m\n\u001b[1;32m    547\u001b[0m     \u001b[0;32mdef\u001b[0m \u001b[0macquire\u001b[0m\u001b[0;34m(\u001b[0m\u001b[0mself\u001b[0m\u001b[0;34m,\u001b[0m \u001b[0maccess_mode\u001b[0m\u001b[0;34m=\u001b[0m\u001b[0;32mNone\u001b[0m\u001b[0;34m,\u001b[0m \u001b[0mtimeout\u001b[0m\u001b[0;34m=\u001b[0m\u001b[0;32mNone\u001b[0m\u001b[0;34m,\u001b[0m \u001b[0mdatabase\u001b[0m\u001b[0;34m=\u001b[0m\u001b[0;32mNone\u001b[0m\u001b[0;34m)\u001b[0m\u001b[0;34m:\u001b[0m\u001b[0;34m\u001b[0m\u001b[0;34m\u001b[0m\u001b[0m\n\u001b[1;32m    548\u001b[0m         \u001b[0;31m# The access_mode and database is not needed for a direct connection, its just there for consistency.\u001b[0m\u001b[0;34m\u001b[0m\u001b[0;34m\u001b[0m\u001b[0;34m\u001b[0m\u001b[0m\n\u001b[0;32m--> 549\u001b[0;31m         \u001b[0;32mreturn\u001b[0m \u001b[0mself\u001b[0m\u001b[0;34m.\u001b[0m\u001b[0m_acquire\u001b[0m\u001b[0;34m(\u001b[0m\u001b[0mself\u001b[0m\u001b[0;34m.\u001b[0m\u001b[0maddress\u001b[0m\u001b[0;34m,\u001b[0m \u001b[0mtimeout\u001b[0m\u001b[0;34m)\u001b[0m\u001b[0;34m\u001b[0m\u001b[0;34m\u001b[0m\u001b[0m\n\u001b[0m\u001b[1;32m    550\u001b[0m \u001b[0;34m\u001b[0m\u001b[0m\n\u001b[1;32m    551\u001b[0m \u001b[0;34m\u001b[0m\u001b[0m\n",
      "\u001b[0;32m~/opt/anaconda3/lib/python3.8/site-packages/neo4j/io/__init__.py\u001b[0m in \u001b[0;36m_acquire\u001b[0;34m(self, address, timeout)\u001b[0m\n\u001b[1;32m    411\u001b[0m                     \u001b[0mtimeout\u001b[0m \u001b[0;34m=\u001b[0m \u001b[0mmin\u001b[0m\u001b[0;34m(\u001b[0m\u001b[0mself\u001b[0m\u001b[0;34m.\u001b[0m\u001b[0mpool_config\u001b[0m\u001b[0;34m.\u001b[0m\u001b[0mconnection_timeout\u001b[0m\u001b[0;34m,\u001b[0m \u001b[0mtime_remaining\u001b[0m\u001b[0;34m(\u001b[0m\u001b[0;34m)\u001b[0m\u001b[0;34m)\u001b[0m\u001b[0;34m\u001b[0m\u001b[0;34m\u001b[0m\u001b[0m\n\u001b[1;32m    412\u001b[0m                     \u001b[0;32mtry\u001b[0m\u001b[0;34m:\u001b[0m\u001b[0;34m\u001b[0m\u001b[0;34m\u001b[0m\u001b[0m\n\u001b[0;32m--> 413\u001b[0;31m                         \u001b[0mconnection\u001b[0m \u001b[0;34m=\u001b[0m \u001b[0mself\u001b[0m\u001b[0;34m.\u001b[0m\u001b[0mopener\u001b[0m\u001b[0;34m(\u001b[0m\u001b[0maddress\u001b[0m\u001b[0;34m,\u001b[0m \u001b[0mtimeout\u001b[0m\u001b[0;34m)\u001b[0m\u001b[0;34m\u001b[0m\u001b[0;34m\u001b[0m\u001b[0m\n\u001b[0m\u001b[1;32m    414\u001b[0m                     \u001b[0;32mexcept\u001b[0m \u001b[0mServiceUnavailable\u001b[0m\u001b[0;34m:\u001b[0m\u001b[0;34m\u001b[0m\u001b[0;34m\u001b[0m\u001b[0m\n\u001b[1;32m    415\u001b[0m                         \u001b[0mself\u001b[0m\u001b[0;34m.\u001b[0m\u001b[0mremove\u001b[0m\u001b[0;34m(\u001b[0m\u001b[0maddress\u001b[0m\u001b[0;34m)\u001b[0m\u001b[0;34m\u001b[0m\u001b[0;34m\u001b[0m\u001b[0m\n",
      "\u001b[0;32m~/opt/anaconda3/lib/python3.8/site-packages/neo4j/io/__init__.py\u001b[0m in \u001b[0;36mopener\u001b[0;34m(addr, timeout)\u001b[0m\n\u001b[1;32m    530\u001b[0m \u001b[0;34m\u001b[0m\u001b[0m\n\u001b[1;32m    531\u001b[0m         \u001b[0;32mdef\u001b[0m \u001b[0mopener\u001b[0m\u001b[0;34m(\u001b[0m\u001b[0maddr\u001b[0m\u001b[0;34m,\u001b[0m \u001b[0mtimeout\u001b[0m\u001b[0;34m)\u001b[0m\u001b[0;34m:\u001b[0m\u001b[0;34m\u001b[0m\u001b[0;34m\u001b[0m\u001b[0m\n\u001b[0;32m--> 532\u001b[0;31m             \u001b[0;32mreturn\u001b[0m \u001b[0mBolt\u001b[0m\u001b[0;34m.\u001b[0m\u001b[0mopen\u001b[0m\u001b[0;34m(\u001b[0m\u001b[0maddr\u001b[0m\u001b[0;34m,\u001b[0m \u001b[0mauth\u001b[0m\u001b[0;34m=\u001b[0m\u001b[0mauth\u001b[0m\u001b[0;34m,\u001b[0m \u001b[0mtimeout\u001b[0m\u001b[0;34m=\u001b[0m\u001b[0mtimeout\u001b[0m\u001b[0;34m,\u001b[0m \u001b[0mrouting_context\u001b[0m\u001b[0;34m=\u001b[0m\u001b[0mrouting_context\u001b[0m\u001b[0;34m,\u001b[0m \u001b[0;34m**\u001b[0m\u001b[0mpool_config\u001b[0m\u001b[0;34m)\u001b[0m\u001b[0;34m\u001b[0m\u001b[0;34m\u001b[0m\u001b[0m\n\u001b[0m\u001b[1;32m    533\u001b[0m \u001b[0;34m\u001b[0m\u001b[0m\n\u001b[1;32m    534\u001b[0m         \u001b[0mpool\u001b[0m \u001b[0;34m=\u001b[0m \u001b[0mcls\u001b[0m\u001b[0;34m(\u001b[0m\u001b[0mopener\u001b[0m\u001b[0;34m,\u001b[0m \u001b[0mpool_config\u001b[0m\u001b[0;34m,\u001b[0m \u001b[0mworkspace_config\u001b[0m\u001b[0;34m,\u001b[0m \u001b[0mrouting_context\u001b[0m\u001b[0;34m,\u001b[0m \u001b[0maddress\u001b[0m\u001b[0;34m)\u001b[0m\u001b[0;34m\u001b[0m\u001b[0;34m\u001b[0m\u001b[0m\n",
      "\u001b[0;32m~/opt/anaconda3/lib/python3.8/site-packages/neo4j/io/__init__.py\u001b[0m in \u001b[0;36mopen\u001b[0;34m(cls, address, auth, timeout, routing_context, **pool_config)\u001b[0m\n\u001b[1;32m    191\u001b[0m         \"\"\"\n\u001b[1;32m    192\u001b[0m         \u001b[0mpool_config\u001b[0m \u001b[0;34m=\u001b[0m \u001b[0mPoolConfig\u001b[0m\u001b[0;34m.\u001b[0m\u001b[0mconsume\u001b[0m\u001b[0;34m(\u001b[0m\u001b[0mpool_config\u001b[0m\u001b[0;34m)\u001b[0m\u001b[0;34m\u001b[0m\u001b[0;34m\u001b[0m\u001b[0m\n\u001b[0;32m--> 193\u001b[0;31m         s, pool_config.protocol_version, handshake, data = connect(\n\u001b[0m\u001b[1;32m    194\u001b[0m             \u001b[0maddress\u001b[0m\u001b[0;34m,\u001b[0m\u001b[0;34m\u001b[0m\u001b[0;34m\u001b[0m\u001b[0m\n\u001b[1;32m    195\u001b[0m             \u001b[0mtimeout\u001b[0m\u001b[0;34m=\u001b[0m\u001b[0mtimeout\u001b[0m\u001b[0;34m,\u001b[0m\u001b[0;34m\u001b[0m\u001b[0;34m\u001b[0m\u001b[0m\n",
      "\u001b[0;32m~/opt/anaconda3/lib/python3.8/site-packages/neo4j/io/__init__.py\u001b[0m in \u001b[0;36mconnect\u001b[0;34m(address, timeout, custom_resolver, ssl_context, keep_alive)\u001b[0m\n\u001b[1;32m   1050\u001b[0m         \u001b[0;32mraise\u001b[0m \u001b[0mServiceUnavailable\u001b[0m\u001b[0;34m(\u001b[0m\u001b[0;34m\"Failed to resolve addresses for %s\"\u001b[0m \u001b[0;34m%\u001b[0m \u001b[0maddress\u001b[0m\u001b[0;34m)\u001b[0m\u001b[0;34m\u001b[0m\u001b[0;34m\u001b[0m\u001b[0m\n\u001b[1;32m   1051\u001b[0m     \u001b[0;32melse\u001b[0m\u001b[0;34m:\u001b[0m\u001b[0;34m\u001b[0m\u001b[0;34m\u001b[0m\u001b[0m\n\u001b[0;32m-> 1052\u001b[0;31m         \u001b[0;32mraise\u001b[0m \u001b[0mlast_error\u001b[0m\u001b[0;34m\u001b[0m\u001b[0;34m\u001b[0m\u001b[0m\n\u001b[0m",
      "\u001b[0;32m~/opt/anaconda3/lib/python3.8/site-packages/neo4j/io/__init__.py\u001b[0m in \u001b[0;36mconnect\u001b[0;34m(address, timeout, custom_resolver, ssl_context, keep_alive)\u001b[0m\n\u001b[1;32m   1042\u001b[0m             \u001b[0ms\u001b[0m \u001b[0;34m=\u001b[0m \u001b[0m_connect\u001b[0m\u001b[0;34m(\u001b[0m\u001b[0mresolved_address\u001b[0m\u001b[0;34m,\u001b[0m \u001b[0mtimeout\u001b[0m\u001b[0;34m,\u001b[0m \u001b[0mkeep_alive\u001b[0m\u001b[0;34m)\u001b[0m\u001b[0;34m\u001b[0m\u001b[0;34m\u001b[0m\u001b[0m\n\u001b[1;32m   1043\u001b[0m             \u001b[0ms\u001b[0m \u001b[0;34m=\u001b[0m \u001b[0m_secure\u001b[0m\u001b[0;34m(\u001b[0m\u001b[0ms\u001b[0m\u001b[0;34m,\u001b[0m \u001b[0mhost\u001b[0m\u001b[0;34m,\u001b[0m \u001b[0mssl_context\u001b[0m\u001b[0;34m)\u001b[0m\u001b[0;34m\u001b[0m\u001b[0;34m\u001b[0m\u001b[0m\n\u001b[0;32m-> 1044\u001b[0;31m             \u001b[0;32mreturn\u001b[0m \u001b[0m_handshake\u001b[0m\u001b[0;34m(\u001b[0m\u001b[0ms\u001b[0m\u001b[0;34m,\u001b[0m \u001b[0maddress\u001b[0m\u001b[0;34m)\u001b[0m\u001b[0;34m\u001b[0m\u001b[0;34m\u001b[0m\u001b[0m\n\u001b[0m\u001b[1;32m   1045\u001b[0m         \u001b[0;32mexcept\u001b[0m \u001b[0mException\u001b[0m \u001b[0;32mas\u001b[0m \u001b[0merror\u001b[0m\u001b[0;34m:\u001b[0m\u001b[0;34m\u001b[0m\u001b[0;34m\u001b[0m\u001b[0m\n\u001b[1;32m   1046\u001b[0m             \u001b[0;32mif\u001b[0m \u001b[0ms\u001b[0m\u001b[0;34m:\u001b[0m\u001b[0;34m\u001b[0m\u001b[0;34m\u001b[0m\u001b[0m\n",
      "\u001b[0;32m~/opt/anaconda3/lib/python3.8/site-packages/neo4j/io/__init__.py\u001b[0m in \u001b[0;36m_handshake\u001b[0;34m(s, resolved_address)\u001b[0m\n\u001b[1;32m   1010\u001b[0m         \u001b[0mlog\u001b[0m\u001b[0;34m.\u001b[0m\u001b[0mdebug\u001b[0m\u001b[0;34m(\u001b[0m\u001b[0;34m\"[#%04X]  S: <CLOSE>\"\u001b[0m\u001b[0;34m,\u001b[0m \u001b[0mlocal_port\u001b[0m\u001b[0;34m)\u001b[0m\u001b[0;34m\u001b[0m\u001b[0;34m\u001b[0m\u001b[0m\n\u001b[1;32m   1011\u001b[0m         \u001b[0ms\u001b[0m\u001b[0;34m.\u001b[0m\u001b[0mclose\u001b[0m\u001b[0;34m(\u001b[0m\u001b[0;34m)\u001b[0m\u001b[0;34m\u001b[0m\u001b[0;34m\u001b[0m\u001b[0m\n\u001b[0;32m-> 1012\u001b[0;31m         \u001b[0;32mraise\u001b[0m \u001b[0mServiceUnavailable\u001b[0m\u001b[0;34m(\u001b[0m\u001b[0;34m\"Connection to {address} closed without handshake response\"\u001b[0m\u001b[0;34m.\u001b[0m\u001b[0mformat\u001b[0m\u001b[0;34m(\u001b[0m\u001b[0maddress\u001b[0m\u001b[0;34m=\u001b[0m\u001b[0mresolved_address\u001b[0m\u001b[0;34m)\u001b[0m\u001b[0;34m)\u001b[0m\u001b[0;34m\u001b[0m\u001b[0;34m\u001b[0m\u001b[0m\n\u001b[0m\u001b[1;32m   1013\u001b[0m     \u001b[0;32mif\u001b[0m \u001b[0mdata_size\u001b[0m \u001b[0;34m!=\u001b[0m \u001b[0;36m4\u001b[0m\u001b[0;34m:\u001b[0m\u001b[0;34m\u001b[0m\u001b[0;34m\u001b[0m\u001b[0m\n\u001b[1;32m   1014\u001b[0m         \u001b[0;31m# Some garbled data has been received\u001b[0m\u001b[0;34m\u001b[0m\u001b[0;34m\u001b[0m\u001b[0;34m\u001b[0m\u001b[0m\n",
      "\u001b[0;31mServiceUnavailable\u001b[0m: Connection to 0.0.0.0:7687 closed without handshake response"
     ]
    }
   ],
   "source": [
    "# Establish connection\n",
    "driver = GraphDatabase.driver(uri=uri, auth=(username,password))\n",
    "session = driver.session()"
   ]
  },
  {
   "cell_type": "markdown",
   "id": "innovative-worse",
   "metadata": {},
   "source": [
    "----"
   ]
  },
  {
   "cell_type": "code",
   "execution_count": null,
   "id": "indian-organizer",
   "metadata": {},
   "outputs": [],
   "source": [
    "## Create Flask API\n",
    "api = Flask(__name__)"
   ]
  },
  {
   "cell_type": "code",
   "execution_count": null,
   "id": "peripheral-ocean",
   "metadata": {},
   "outputs": [],
   "source": [
    "# CREATE STOCK\n",
    "@api.route(\"/stock/<string:ticker>\", methods=[\"POST\"])\n",
    "def create_stock(ticker):\n",
    "    q1 = \"\"\"\n",
    "    create (s:stock{ticker:$ticker})\n",
    "    \"\"\"\n",
    "    map = {\"ticker\": ticker}\n",
    "    try:\n",
    "        session.run(q1, map)\n",
    "        return(f\"stock node is created with ticker name = {ticker}\")\n",
    "    except Exception as e:\n",
    "        return (str(e))"
   ]
  },
  {
   "cell_type": "code",
   "execution_count": null,
   "id": "through-socket",
   "metadata": {},
   "outputs": [],
   "source": [
    "#create_stock(\"GME\")"
   ]
  },
  {
   "cell_type": "code",
   "execution_count": null,
   "id": "romance-bumper",
   "metadata": {},
   "outputs": [],
   "source": [
    "# CREATE SUBREDDIT\n",
    "@api.route(\"/subreddit/<string:name>\", methods=[\"POST\"])\n",
    "def create_subreddit(name):\n",
    "    q1 = \"\"\"\n",
    "    create (sr:subreddit{name:$name})\n",
    "    \"\"\"\n",
    "    map = {\"name\": name}\n",
    "    try:\n",
    "        session.run(q1, map)\n",
    "        return(f\"subreddit node is created with subreddit name = {name}\")\n",
    "    except Exception as e:\n",
    "        return (str(e))"
   ]
  },
  {
   "cell_type": "code",
   "execution_count": null,
   "id": "republican-mount",
   "metadata": {},
   "outputs": [],
   "source": [
    "# CREATE SUBMISSION\n",
    "@api.route(\"/submission/<string:subreddit>/<string:date>/<string:id>\", methods=[\"POST\"])\n",
    "def create_submission(subreddit, date, id):\n",
    "    q1 = '''\n",
    "    MERGE (sm:submission:'''+subreddit+'''{date:$date, id:$id})\n",
    "   '''\n",
    "    map = {\"date\": date, \"id\": id}\n",
    "    try:\n",
    "        session.run(q1, map)\n",
    "        return(f\"submission node is created with id = {id}\")\n",
    "    except Exception as e:\n",
    "        return (str(e))"
   ]
  },
  {
   "cell_type": "code",
   "execution_count": null,
   "id": "incorporated-english",
   "metadata": {},
   "outputs": [],
   "source": [
    "# CREATE COMMENT\n",
    "@api.route(\"/comment/<string:subreddit>/<string:date>/<string:comment_id>/<string:parent_id>\", methods=[\"POST\"])\n",
    "def create_comment(subreddit, date, comment_id, parent_id):\n",
    "    q1 = '''\n",
    "    MERGE (c:comment:'''+subreddit+'''{date:$date, comment_id:$comment_id, parent_id:$parent_id})\n",
    "   '''\n",
    "    map = {\"date\": date, \"comment_id\": comment_id, \"parent_id\": parent_id}\n",
    "    try:\n",
    "        session.run(q1, map)\n",
    "        return(f\"comment node is created with id = {comment_id}\")\n",
    "    except Exception as e:\n",
    "        return (str(e))"
   ]
  },
  {
   "cell_type": "code",
   "execution_count": null,
   "id": "romantic-philadelphia",
   "metadata": {},
   "outputs": [],
   "source": [
    "# CREATE MENTIONS RELATIONSHIP\n",
    "            \n",
    "@api.route(\"/connection/mentions/<string:node_kind>/<string:node_id>/<string:ticker>/<string:date>\", methods=[\"POST\"])\n",
    "def create_mentions_connection(node_kind, node_id, ticker, date):\n",
    "    q1 = \"\"\"\n",
    "    MERGE (s:stock{ticker:'\"\"\"+ticker+\"\"\"'})\n",
    "    \"\"\"\n",
    "    \n",
    "    q_submission = \"\"\"\n",
    "    MATCH (a:submission),(b:stock)\n",
    "    WHERE a.id = '\"\"\"+node_id+\"\"\"' AND b.ticker = '\"\"\"+ticker+\"\"\"'\n",
    "    MERGE (a)-[m:MENTIONS {date: '\"\"\"+date+\"\"\"'}]->(b)\n",
    "    \"\"\"\n",
    "    \n",
    "    q_comment = \"\"\"\n",
    "    MATCH (a:\"\"\"+node_kind+\"\"\"),(b:stock)\n",
    "    WHERE a.comment_id = '\"\"\"+node_id+\"\"\"' AND b.ticker = '\"\"\"+ticker+\"\"\"'\n",
    "    MERGE (a)-[m:MENTIONS {date: '\"\"\"+date+\"\"\"'}]->(b)\n",
    "    \"\"\"\n",
    "    \n",
    "    map = {\"node_kind\": node_kind, \"node_id\": node_id, \"ticker\": ticker}\n",
    "    query = q_comment\n",
    "    if node_kind == 'submission':\n",
    "        query = q_submission\n",
    "    try:\n",
    "        session.run(q1)\n",
    "        session.run(query, map)\n",
    "        return(f\"mention relationship between {node_id} and {ticker} created with date: {date}\")\n",
    "    except Exception as e:\n",
    "        return (str(e))\n"
   ]
  },
  {
   "cell_type": "code",
   "execution_count": null,
   "id": "occasional-latex",
   "metadata": {},
   "outputs": [],
   "source": [
    "# CREATE REPLIES RELATIONSHIP\n",
    "@api.route(\"/connection/replies/<string:node_kind>/<string:reply_from_id>/<string:reply_to_id>\", methods=[\"POST\"])\n",
    "def create_replies_connection(node_kind, reply_from_id, reply_to_id):\n",
    "    # reply if to submission\n",
    "    q_submission = \"\"\"\n",
    "    MATCH \n",
    "        (cfrom:comment {comment_id: '\"\"\"+reply_from_id+\"\"\"'}),\n",
    "        (cto:submission {id: '\"\"\"+reply_to_id+\"\"\"'})\n",
    "    MERGE (cfrom)-[r:REPLIES]->(cto)\n",
    "    \"\"\"\n",
    "    # reply if to comment\n",
    "    q_comment = \"\"\"\n",
    "    MATCH \n",
    "        (cfrom:comment {comment_id: '\"\"\"+reply_from_id+\"\"\"'}),\n",
    "        (cto:comment {comment_id: '\"\"\"+reply_to_id+\"\"\"'})\n",
    "    MERGE (cfrom)-[r:REPLIES]->(cto)\n",
    "    \"\"\"\n",
    "    map = {\"node_kind\":node_kind,\"reply_from_id\": reply_from_id, \"reply_to_id\":reply_to_id}\n",
    "    query = q_comment\n",
    "    if node_kind == 'submission':\n",
    "        query = q_submission\n",
    "    try:\n",
    "        session.run(query, map)\n",
    "        return(f\"connection 'replied' is created\")\n",
    "    except Exception as e:\n",
    "        return (str(e))"
   ]
  },
  {
   "cell_type": "markdown",
   "id": "educational-volunteer",
   "metadata": {},
   "source": [
    "## Fetch"
   ]
  },
  {
   "cell_type": "code",
   "execution_count": null,
   "id": "checked-missile",
   "metadata": {},
   "outputs": [],
   "source": []
  },
  {
   "cell_type": "code",
   "execution_count": null,
   "id": "smooth-uncle",
   "metadata": {},
   "outputs": [],
   "source": [
    "@api.route(\"/subreddits\", methods=[\"GET\"])\n",
    "def get_subreddits():\n",
    "    q1=\"\"\"\n",
    "    match (sr) return sr.name as name\n",
    "    \"\"\"\n",
    "    results = session.run(q1)\n",
    "    data =  results.data()\n",
    "    return(jsonify(data))"
   ]
  },
  {
   "cell_type": "code",
   "execution_count": null,
   "id": "vocal-karaoke",
   "metadata": {},
   "outputs": [],
   "source": [
    "## COUNT MENTIONS ON DATE\n",
    "@api.route(\"/mentions/<string:ticker>/<string:date>\", methods=[\"GET\"])\n",
    "def get_mentions_on_date(ticker, date):\n",
    "    query=\"\"\"\n",
    "    MATCH ()-[m:MENTIONS]->(s:stock)\n",
    "    WHERE s.ticker = '\"\"\"+ticker+\"\"\"' AND m.date = '\"\"\"+date+\"\"\"'\n",
    "    RETURN count(m) as count\n",
    "    \"\"\"\n",
    "    map = {\"ticker\":ticker,\"date\": date}\n",
    "    \n",
    "    try:\n",
    "        result = session.run(query, map)\n",
    "        result = result.single()[0]\n",
    "        result = str(result)\n",
    "        return result\n",
    "    except Exception as e:\n",
    "        return (str(e))"
   ]
  },
  {
   "cell_type": "code",
   "execution_count": null,
   "id": "referenced-coupon",
   "metadata": {},
   "outputs": [],
   "source": [
    "## COUNT MENTIONS ON DATE\n",
    "@api.route(\"/topstocks\", methods=[\"GET\"])\n",
    "def get_top_stocks():\n",
    "    query=\"\"\"\n",
    "    MATCH ()-[r:MENTIONS]->(n)\n",
    "    RETURN n, count(r) AS num\n",
    "    ORDER BY num DESC\n",
    "    \"\"\"\n",
    "\n",
    "    try:\n",
    "        result = session.run(query)\n",
    "    except Exception as e:\n",
    "        return (str(e))\n",
    "    \n"
   ]
  },
  {
   "cell_type": "code",
   "execution_count": null,
   "id": "major-insert",
   "metadata": {},
   "outputs": [],
   "source": [
    "if __name__ == \"__main__\":\n",
    "    api.run(port=5050)"
   ]
  },
  {
   "cell_type": "code",
   "execution_count": null,
   "id": "mounted-priest",
   "metadata": {},
   "outputs": [],
   "source": [
    "i = get_top_stocks()\n",
    "i"
   ]
  },
  {
   "cell_type": "code",
   "execution_count": null,
   "id": "lucky-telling",
   "metadata": {},
   "outputs": [],
   "source": []
  },
  {
   "cell_type": "code",
   "execution_count": null,
   "id": "cordless-therapist",
   "metadata": {},
   "outputs": [],
   "source": []
  },
  {
   "cell_type": "markdown",
   "id": "academic-integrity",
   "metadata": {},
   "source": []
  },
  {
   "cell_type": "code",
   "execution_count": null,
   "id": "usual-reply",
   "metadata": {},
   "outputs": [],
   "source": []
  },
  {
   "cell_type": "code",
   "execution_count": null,
   "id": "white-updating",
   "metadata": {},
   "outputs": [],
   "source": []
  }
 ],
 "metadata": {
  "kernelspec": {
   "display_name": "Python 3",
   "language": "python",
   "name": "python3"
  },
  "language_info": {
   "codemirror_mode": {
    "name": "ipython",
    "version": 3
   },
   "file_extension": ".py",
   "mimetype": "text/x-python",
   "name": "python",
   "nbconvert_exporter": "python",
   "pygments_lexer": "ipython3",
   "version": "3.8.5"
  }
 },
 "nbformat": 4,
 "nbformat_minor": 5
}
