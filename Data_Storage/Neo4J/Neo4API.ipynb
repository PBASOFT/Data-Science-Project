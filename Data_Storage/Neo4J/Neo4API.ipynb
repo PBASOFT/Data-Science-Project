{
 "cells": [
  {
   "cell_type": "code",
   "execution_count": null,
   "id": "relative-butterfly",
   "metadata": {},
   "outputs": [],
   "source": [
    "#docker run \\\n",
    "#    --name neohype --publish=7474:7474 --publish=7687:7687 \\\n",
    "#    --volume=$HOME/neo4j/data:/data \\\n",
    "#    neo4j"
   ]
  },
  {
   "cell_type": "code",
   "execution_count": 1,
   "id": "opposite-liquid",
   "metadata": {},
   "outputs": [],
   "source": [
    "from flask import Flask, request, jsonify, redirect, render_template\n",
    "from neo4j import GraphDatabase\n",
    "import csv"
   ]
  },
  {
   "cell_type": "code",
   "execution_count": 2,
   "id": "chemical-trance",
   "metadata": {},
   "outputs": [
    {
     "name": "stdout",
     "output_type": "stream",
     "text": [
      "neo4j j4neo bolt://0.0.0.0:7687\n"
     ]
    }
   ],
   "source": [
    "with open(\"cred.txt\") as f1:\n",
    "    data = csv.reader(f1, delimiter=\",\")\n",
    "    for row in data:\n",
    "        username = row[0]\n",
    "        password = row[1]\n",
    "        uri = row[2]\n",
    "        \n",
    "print(username, password, uri)"
   ]
  },
  {
   "cell_type": "code",
   "execution_count": 3,
   "id": "rough-stomach",
   "metadata": {},
   "outputs": [],
   "source": [
    "# Establish connection\n",
    "driver = GraphDatabase.driver(uri=uri, auth=(username,password))\n",
    "session = driver.session()"
   ]
  },
  {
   "cell_type": "markdown",
   "id": "thousand-major",
   "metadata": {},
   "source": [
    "----"
   ]
  },
  {
   "cell_type": "code",
   "execution_count": 4,
   "id": "random-hopkins",
   "metadata": {},
   "outputs": [],
   "source": [
    "## Create Flask API\n",
    "api = Flask(__name__)"
   ]
  },
  {
   "cell_type": "code",
   "execution_count": 5,
   "id": "disciplinary-senegal",
   "metadata": {},
   "outputs": [],
   "source": [
    "# CREATE STOCK\n",
    "@api.route(\"/stock/<string:ticker>\", methods=[\"POST\"])\n",
    "def create_stock(ticker):\n",
    "    q1 = \"\"\"\n",
    "    create (s:stock{ticker:$ticker})\n",
    "    \"\"\"\n",
    "    map = {\"ticker\": ticker}\n",
    "    try:\n",
    "        session.run(q1, map)\n",
    "        return(f\"stock node is created with ticker name = {ticker}\")\n",
    "    except Exception as e:\n",
    "        return (str(e))"
   ]
  },
  {
   "cell_type": "code",
   "execution_count": 6,
   "id": "magnetic-startup",
   "metadata": {},
   "outputs": [],
   "source": [
    "#create_stock(\"GME\")"
   ]
  },
  {
   "cell_type": "code",
   "execution_count": 7,
   "id": "challenging-documentation",
   "metadata": {},
   "outputs": [],
   "source": [
    "# CREATE SUBREDDIT\n",
    "@api.route(\"/subreddit/<string:name>\", methods=[\"POST\"])\n",
    "def create_subreddit(name):\n",
    "    q1 = \"\"\"\n",
    "    create (sr:subreddit{name:$name})\n",
    "    \"\"\"\n",
    "    map = {\"name\": name}\n",
    "    try:\n",
    "        session.run(q1, map)\n",
    "        return(f\"subreddit node is created with subreddit name = {name}\")\n",
    "    except Exception as e:\n",
    "        return (str(e))"
   ]
  },
  {
   "cell_type": "code",
   "execution_count": 8,
   "id": "general-affiliation",
   "metadata": {},
   "outputs": [],
   "source": [
    "# CREATE SUBMISSION\n",
    "@api.route(\"/submission/<string:subreddit>/<string:date>/<string:id>\", methods=[\"POST\"])\n",
    "def create_submission(subreddit, date, id):\n",
    "    q1 = '''\n",
    "    MERGE (sm:submission:'''+subreddit+'''{date:$date, id:$id})\n",
    "   '''\n",
    "    map = {\"date\": date, \"id\": id}\n",
    "    try:\n",
    "        session.run(q1, map)\n",
    "        return(f\"submission node is created with id = {id}\")\n",
    "    except Exception as e:\n",
    "        return (str(e))"
   ]
  },
  {
   "cell_type": "code",
   "execution_count": 9,
   "id": "organized-evidence",
   "metadata": {},
   "outputs": [],
   "source": [
    "# CREATE COMMENT\n",
    "@api.route(\"/comment/<string:subreddit>/<string:date>/<string:comment_id>/<string:parent_id>\", methods=[\"POST\"])\n",
    "def create_comment(subreddit, date, comment_id, parent_id):\n",
    "    q1 = '''\n",
    "    MERGE (c:comment:'''+subreddit+'''{date:$date, comment_id:$comment_id, parent_id:$parent_id})\n",
    "   '''\n",
    "    map = {\"date\": date, \"comment_id\": comment_id, \"parent_id\": parent_id}\n",
    "    try:\n",
    "        session.run(q1, map)\n",
    "        return(f\"comment node is created with id = {comment_id}\")\n",
    "    except Exception as e:\n",
    "        return (str(e))"
   ]
  },
  {
   "cell_type": "code",
   "execution_count": 10,
   "id": "offensive-measurement",
   "metadata": {},
   "outputs": [],
   "source": [
    "# CREATE MENTIONS RELATIONSHIP\n",
    "            \n",
    "@api.route(\"/connection/mentions/<string:node_kind>/<string:node_id>/<string:ticker>/<string:date>\", methods=[\"POST\"])\n",
    "def create_mentions_connection(node_kind, node_id, ticker, date):\n",
    "    q1 = \"\"\"\n",
    "    MERGE (s:stock{ticker:'\"\"\"+ticker+\"\"\"'})\n",
    "    \"\"\"\n",
    "    \n",
    "    q_submission = \"\"\"\n",
    "    MATCH (a:submission),(b:stock)\n",
    "    WHERE a.id = '\"\"\"+node_id+\"\"\"' AND b.ticker = '\"\"\"+ticker+\"\"\"'\n",
    "    MERGE (a)-[m:MENTIONS {date: '\"\"\"+date+\"\"\"'}]->(b)\n",
    "    \"\"\"\n",
    "    \n",
    "    q_comment = \"\"\"\n",
    "    MATCH (a:\"\"\"+node_kind+\"\"\"),(b:stock)\n",
    "    WHERE a.comment_id = '\"\"\"+node_id+\"\"\"' AND b.ticker = '\"\"\"+ticker+\"\"\"'\n",
    "    MERGE (a)-[m:MENTIONS {date: '\"\"\"+date+\"\"\"'}]->(b)\n",
    "    \"\"\"\n",
    "    \n",
    "    map = {\"node_kind\": node_kind, \"node_id\": node_id, \"ticker\": ticker}\n",
    "    query = q_comment\n",
    "    if node_kind == 'submission':\n",
    "        query = q_submission\n",
    "    try:\n",
    "        session.run(q1)\n",
    "        session.run(query, map)\n",
    "        return(f\"mention relationship between {node_id} and {ticker} created with date: {date}\")\n",
    "    except Exception as e:\n",
    "        return (str(e))\n"
   ]
  },
  {
   "cell_type": "code",
   "execution_count": 11,
   "id": "understood-cartridge",
   "metadata": {},
   "outputs": [],
   "source": [
    "# CREATE REPLIES RELATIONSHIP\n",
    "@api.route(\"/connection/replies/<string:node_kind>/<string:reply_from_id>/<string:reply_to_id>\", methods=[\"POST\"])\n",
    "def create_replies_connection(node_kind, reply_from_id, reply_to_id):\n",
    "    # reply if to submission\n",
    "    q_submission = \"\"\"\n",
    "    MATCH \n",
    "        (cfrom:comment {comment_id: '\"\"\"+reply_from_id+\"\"\"'}),\n",
    "        (cto:submission {id: '\"\"\"+reply_to_id+\"\"\"'})\n",
    "    MERGE (cfrom)-[r:REPLIES]->(cto)\n",
    "    \"\"\"\n",
    "    # reply if to comment\n",
    "    q_comment = \"\"\"\n",
    "    MATCH \n",
    "        (cfrom:comment {comment_id: '\"\"\"+reply_from_id+\"\"\"'}),\n",
    "        (cto:comment {comment_id: '\"\"\"+reply_to_id+\"\"\"'})\n",
    "    MERGE (cfrom)-[r:REPLIES]->(cto)\n",
    "    \"\"\"\n",
    "    map = {\"node_kind\":node_kind,\"reply_from_id\": reply_from_id, \"reply_to_id\":reply_to_id}\n",
    "    query = q_comment\n",
    "    if node_kind == 'submission':\n",
    "        query = q_submission\n",
    "    try:\n",
    "        session.run(query, map)\n",
    "        return(f\"connection 'replied' is created\")\n",
    "    except Exception as e:\n",
    "        return (str(e))"
   ]
  },
  {
   "cell_type": "markdown",
   "id": "satisfactory-mission",
   "metadata": {},
   "source": [
    "## Fetch"
   ]
  },
  {
   "cell_type": "code",
   "execution_count": null,
   "id": "eight-nigeria",
   "metadata": {},
   "outputs": [],
   "source": []
  },
  {
   "cell_type": "code",
   "execution_count": 12,
   "id": "listed-scheduling",
   "metadata": {},
   "outputs": [],
   "source": [
    "@api.route(\"/subreddits\", methods=[\"GET\"])\n",
    "def get_subreddits():\n",
    "    q1=\"\"\"\n",
    "    match (sr) return sr.name as name\n",
    "    \"\"\"\n",
    "    results = session.run(q1)\n",
    "    data =  results.data()\n",
    "    return(jsonify(data))"
   ]
  },
  {
   "cell_type": "code",
   "execution_count": 13,
   "id": "affiliated-explorer",
   "metadata": {},
   "outputs": [],
   "source": [
    "## COUNT MENTIONS ON DATE\n",
    "@api.route(\"/mentions/<string:ticker>/<string:date>\", methods=[\"GET\"])\n",
    "def get_mentions_on_date(ticker, date):\n",
    "    query=\"\"\"\n",
    "    MATCH ()-[m:MENTIONS]->(s:stock)\n",
    "    WHERE s.ticker = '\"\"\"+ticker+\"\"\"' AND m.date = '\"\"\"+date+\"\"\"'\n",
    "    RETURN count(m) as count\n",
    "    \"\"\"\n",
    "    map = {\"ticker\":ticker,\"date\": date}\n",
    "    \n",
    "    try:\n",
    "        result = session.run(query, map)\n",
    "        result = result.single()[0]\n",
    "        result = str(result)\n",
    "        return result\n",
    "    except Exception as e:\n",
    "        return (str(e))"
   ]
  },
  {
   "cell_type": "code",
   "execution_count": null,
   "id": "square-renewal",
   "metadata": {},
   "outputs": [
    {
     "name": "stdout",
     "output_type": "stream",
     "text": [
      " * Serving Flask app \"__main__\" (lazy loading)\n",
      " * Environment: production\n",
      "\u001b[31m   WARNING: This is a development server. Do not use it in a production deployment.\u001b[0m\n",
      "\u001b[2m   Use a production WSGI server instead.\u001b[0m\n",
      " * Debug mode: off\n"
     ]
    },
    {
     "name": "stderr",
     "output_type": "stream",
     "text": [
      " * Running on http://127.0.0.1:5050/ (Press CTRL+C to quit)\n",
      "127.0.0.1 - - [31/May/2021 20:53:18] \"\u001b[37mGET /mentions/GME/2021-05-27 HTTP/1.1\u001b[0m\" 200 -\n"
     ]
    }
   ],
   "source": [
    "if __name__ == \"__main__\":\n",
    "    api.run(port=5050)"
   ]
  },
  {
   "cell_type": "code",
   "execution_count": null,
   "id": "hollow-lunch",
   "metadata": {},
   "outputs": [],
   "source": [
    "i = get_mentions_on_date('GME', '2021-05-28')\n",
    "i"
   ]
  },
  {
   "cell_type": "code",
   "execution_count": null,
   "id": "guilty-router",
   "metadata": {},
   "outputs": [],
   "source": []
  },
  {
   "cell_type": "code",
   "execution_count": null,
   "id": "ethical-indianapolis",
   "metadata": {},
   "outputs": [],
   "source": []
  },
  {
   "cell_type": "markdown",
   "id": "random-caution",
   "metadata": {},
   "source": []
  },
  {
   "cell_type": "code",
   "execution_count": null,
   "id": "assisted-glossary",
   "metadata": {},
   "outputs": [],
   "source": []
  },
  {
   "cell_type": "code",
   "execution_count": null,
   "id": "civilian-rotation",
   "metadata": {},
   "outputs": [],
   "source": []
  }
 ],
 "metadata": {
  "kernelspec": {
   "display_name": "Python 3",
   "language": "python",
   "name": "python3"
  },
  "language_info": {
   "codemirror_mode": {
    "name": "ipython",
    "version": 3
   },
   "file_extension": ".py",
   "mimetype": "text/x-python",
   "name": "python",
   "nbconvert_exporter": "python",
   "pygments_lexer": "ipython3",
   "version": "3.8.5"
  }
 },
 "nbformat": 4,
 "nbformat_minor": 5
}
