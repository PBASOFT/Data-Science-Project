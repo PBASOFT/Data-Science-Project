{
 "cells": [
  {
   "cell_type": "code",
   "execution_count": 1,
   "id": "furnished-phrase",
   "metadata": {},
   "outputs": [],
   "source": [
    "import praw\n",
    "import pandas as pd"
   ]
  },
  {
   "cell_type": "code",
   "execution_count": 91,
   "id": "rising-bulgaria",
   "metadata": {},
   "outputs": [],
   "source": [
    "reddit = praw.Reddit(client_id = 'p7UHViVl0tL3Kw', \n",
    "                     client_secret = 'C_B_8UNAZatr1So5jJ9qeFmYpuHIyw',\n",
    "                     username = 'bigprojectdsc',\n",
    "                     password = 'BIGproject',\n",
    "                     user_agent =  'smallcaps'\n",
    "                    )"
   ]
  },
  {
   "cell_type": "code",
   "execution_count": 92,
   "id": "under-guess",
   "metadata": {},
   "outputs": [],
   "source": [
    " subreddit = reddit.subreddit('dkfinance')"
   ]
  },
  {
   "cell_type": "code",
   "execution_count": 93,
   "id": "upset-airport",
   "metadata": {},
   "outputs": [],
   "source": [
    "# UTC timestamps for the date interval of wanted posts\n",
    "import datetime\n",
    "date_from = datetime.datetime(2021, 2, 1).timestamp()\n",
    "date_to = datetime.datetime(2021, 4, 30).timestamp()"
   ]
  },
  {
   "cell_type": "code",
   "execution_count": 94,
   "id": "judicial-isaac",
   "metadata": {},
   "outputs": [],
   "source": [
    "# Submissions\n",
    "dkfinance_subreddit = []\n",
    "dkfinance = subreddit.new(limit=5700)\n",
    "\n",
    "for submission in dkfinance:\n",
    "    if submission.created_utc < date_from:\n",
    "          print('break')\n",
    "          break\n",
    "    if submission.created_utc <= date_to:\n",
    "        dkfinance_submission = {\n",
    "            'id': submission.id,\n",
    "            'title': submission.title,\n",
    "            'ups': submission.ups,\n",
    "            'created_utc': submission.created_utc,\n",
    "            'text': submission.selftext\n",
    "            }\n",
    "        \n",
    "        #date_time = pd.to_datetime(submission.created_utc, unit = 's')\n",
    "        \n",
    "        # Comments\n",
    "        comments = []\n",
    "        submission.comments.replace_more(limit=0)\n",
    "        for comment in submission.comments.list():\n",
    "            dkfinance_comment = {\n",
    "            'comment_id': comment.id,\n",
    "            'parent_id': comment.parent_id,\n",
    "            'created_utc': comment.created_utc,\n",
    "            'body': comment.body\n",
    "            }\n",
    "            comments.append(dkfinance_comment)\n",
    "          \n",
    "        dkfinance_submission['comments'] = comments\n",
    "        dkfinance_subreddit.append(dkfinance_submission) "
   ]
  },
  {
   "cell_type": "code",
   "execution_count": 116,
   "id": "dirty-analyst",
   "metadata": {},
   "outputs": [
    {
     "data": {
      "text/plain": [
       "Timestamp('2021-04-30 19:49:54')"
      ]
     },
     "execution_count": 116,
     "metadata": {},
     "output_type": "execute_result"
    }
   ],
   "source": [
    "dkfinance_subreddit[-1]\n",
    "date_t = pd.to_datetime(1619812194.0, unit = 's')\n",
    "date_t\n",
    "#dkfinance_subreddit"
   ]
  },
  {
   "cell_type": "code",
   "execution_count": 119,
   "id": "tamil-welsh",
   "metadata": {},
   "outputs": [],
   "source": [
    "# Save subreddit as json\n",
    "import json\n",
    "jsonStr = json.dumps(dkfinance_subreddit)\n",
    "with open('dkfinance.json', 'w') as json_file:\n",
    "    json.dump(dkfinance_subreddit, json_file)"
   ]
  },
  {
   "cell_type": "code",
   "execution_count": null,
   "id": "accredited-sodium",
   "metadata": {},
   "outputs": [],
   "source": []
  },
  {
   "cell_type": "code",
   "execution_count": null,
   "id": "welsh-thing",
   "metadata": {},
   "outputs": [],
   "source": []
  }
 ],
 "metadata": {
  "kernelspec": {
   "display_name": "Python 3",
   "language": "python",
   "name": "python3"
  },
  "language_info": {
   "codemirror_mode": {
    "name": "ipython",
    "version": 3
   },
   "file_extension": ".py",
   "mimetype": "text/x-python",
   "name": "python",
   "nbconvert_exporter": "python",
   "pygments_lexer": "ipython3",
   "version": "3.8.5"
  }
 },
 "nbformat": 4,
 "nbformat_minor": 5
}
