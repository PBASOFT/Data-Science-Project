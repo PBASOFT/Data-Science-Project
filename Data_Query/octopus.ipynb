{
 "cells": [
  {
   "cell_type": "code",
   "execution_count": 1,
   "id": "latest-superintendent",
   "metadata": {},
   "outputs": [],
   "source": [
    "import requests\n",
    "import pandas"
   ]
  },
  {
   "cell_type": "code",
   "execution_count": 2,
   "id": "optional-academy",
   "metadata": {},
   "outputs": [],
   "source": [
    "neo_url = 'http://localhost:5050/'\n",
    "postgres_url = 'http://127.0.0.1:5000/'\n",
    "redis_url = 'http://0.0.0.0:5051/'"
   ]
  },
  {
   "cell_type": "markdown",
   "id": "endangered-plaza",
   "metadata": {},
   "source": [
    "### Fetch data"
   ]
  },
  {
   "cell_type": "code",
   "execution_count": 3,
   "id": "bacterial-industry",
   "metadata": {},
   "outputs": [],
   "source": [
    "## Fetch mentions per date\n",
    "def get_mentions_on_date(ticker, date):\n",
    "    url = \"mentions/\" + ticker + \"/\"+ date\n",
    "    response = requests.get(neo_url+url)\n",
    "    if not response.status_code == 200:\n",
    "        print(response.status_code)\n",
    "        \n",
    "    return response.text"
   ]
  },
  {
   "cell_type": "code",
   "execution_count": 4,
   "id": "beautiful-prescription",
   "metadata": {},
   "outputs": [
    {
     "data": {
      "text/plain": [
       "'177'"
      ]
     },
     "execution_count": 4,
     "metadata": {},
     "output_type": "execute_result"
    }
   ],
   "source": [
    "get_mentions_on_date('GME', '2021-05-26')"
   ]
  },
  {
   "cell_type": "code",
   "execution_count": 5,
   "id": "crucial-assignment",
   "metadata": {},
   "outputs": [],
   "source": [
    "## Fetch price per date\n",
    "def get_price_on_date(ticker, date):\n",
    "    url = \"prices/\" + ticker + \"/\"+ date\n",
    "    response = requests.get(postgres_url+url)\n",
    "    if not response.status_code == 200:\n",
    "        print(response.status_code)       \n",
    "    return response.json()"
   ]
  },
  {
   "cell_type": "code",
   "execution_count": 6,
   "id": "elementary-subdivision",
   "metadata": {},
   "outputs": [
    {
     "data": {
      "text/plain": [
       "242.55999755859375"
      ]
     },
     "execution_count": 6,
     "metadata": {},
     "output_type": "execute_result"
    }
   ],
   "source": [
    "get_price_on_date('GME', '2021-05-26')[0]['price']"
   ]
  },
  {
   "cell_type": "code",
   "execution_count": null,
   "id": "alike-repeat",
   "metadata": {},
   "outputs": [],
   "source": []
  },
  {
   "cell_type": "markdown",
   "id": "sustained-petroleum",
   "metadata": {},
   "source": [
    "### Save to cache"
   ]
  },
  {
   "cell_type": "code",
   "execution_count": 7,
   "id": "pediatric-montgomery",
   "metadata": {},
   "outputs": [],
   "source": [
    "## Price/mention to cache\n",
    "def mention_to_cache(ticker, date, price, mentions):\n",
    "    url = \"ticker/\" + ticker + \"/\"+ date + \"/\"+ price + \"/\"+ mentions\n",
    "    print(redis_url+url)\n",
    "    response = requests.post(redis_url+url)\n",
    "    if not response.status_code == 200:\n",
    "        print(response.status_code)       \n",
    "    return response.status_code"
   ]
  },
  {
   "cell_type": "code",
   "execution_count": 8,
   "id": "portuguese-hacker",
   "metadata": {},
   "outputs": [],
   "source": [
    "#ticker = 'GME'\n",
    "#date = '2021-05-29'\n",
    "#price = int(get_price_on_date(ticker,date)[0]['price'])\n",
    "#mentions = get_mentions_on_date(ticker,date)\n",
    "#mention_to_cache(ticker, date, str(price), mentions)"
   ]
  },
  {
   "cell_type": "markdown",
   "id": "processed-appointment",
   "metadata": {},
   "source": [
    "## Fill redis with week-ish"
   ]
  },
  {
   "cell_type": "code",
   "execution_count": 9,
   "id": "supposed-brand",
   "metadata": {},
   "outputs": [],
   "source": [
    "dates = ['2021-05-22','2021-05-23','2021-05-24', '2021-05-25', '2021-05-26', '2021-05-27', '2021-05-28', '2021-05-29']\n",
    "tickers = ['PLTR', 'FORD', 'RIDE', 'SPCE', 'AI', 'TSLA', 'GE', 'GME', 'AAPL', 'NOK']"
   ]
  },
  {
   "cell_type": "code",
   "execution_count": 10,
   "id": "acting-storage",
   "metadata": {},
   "outputs": [
    {
     "name": "stdout",
     "output_type": "stream",
     "text": [
      "http://0.0.0.0:5051/ticker/PLTR/2021-05-22/20/0\n",
      "http://0.0.0.0:5051/ticker/FORD/2021-05-22/2/0\n",
      "http://0.0.0.0:5051/ticker/RIDE/2021-05-22/9/0\n",
      "http://0.0.0.0:5051/ticker/SPCE/2021-05-22/21/0\n",
      "http://0.0.0.0:5051/ticker/AI/2021-05-22/61/0\n",
      "http://0.0.0.0:5051/ticker/TSLA/2021-05-22/580/0\n",
      "http://0.0.0.0:5051/ticker/GE/2021-05-22/13/0\n",
      "http://0.0.0.0:5051/ticker/GME/2021-05-22/176/0\n",
      "http://0.0.0.0:5051/ticker/AAPL/2021-05-22/125/0\n",
      "http://0.0.0.0:5051/ticker/NOK/2021-05-22/5/0\n",
      "http://0.0.0.0:5051/ticker/PLTR/2021-05-23/20/0\n",
      "http://0.0.0.0:5051/ticker/FORD/2021-05-23/2/0\n",
      "http://0.0.0.0:5051/ticker/RIDE/2021-05-23/9/0\n",
      "http://0.0.0.0:5051/ticker/SPCE/2021-05-23/21/0\n",
      "http://0.0.0.0:5051/ticker/AI/2021-05-23/61/0\n",
      "http://0.0.0.0:5051/ticker/TSLA/2021-05-23/580/0\n",
      "http://0.0.0.0:5051/ticker/GE/2021-05-23/13/0\n",
      "http://0.0.0.0:5051/ticker/GME/2021-05-23/176/0\n",
      "http://0.0.0.0:5051/ticker/AAPL/2021-05-23/125/0\n",
      "http://0.0.0.0:5051/ticker/NOK/2021-05-23/5/0\n",
      "http://0.0.0.0:5051/ticker/PLTR/2021-05-24/21/0\n",
      "http://0.0.0.0:5051/ticker/FORD/2021-05-24/2/0\n",
      "http://0.0.0.0:5051/ticker/RIDE/2021-05-24/9/0\n",
      "http://0.0.0.0:5051/ticker/SPCE/2021-05-24/26/0\n",
      "http://0.0.0.0:5051/ticker/AI/2021-05-24/59/0\n",
      "http://0.0.0.0:5051/ticker/TSLA/2021-05-24/606/0\n",
      "http://0.0.0.0:5051/ticker/GE/2021-05-24/13/0\n",
      "http://0.0.0.0:5051/ticker/GME/2021-05-24/180/0\n",
      "http://0.0.0.0:5051/ticker/AAPL/2021-05-24/127/0\n",
      "http://0.0.0.0:5051/ticker/NOK/2021-05-24/5/0\n",
      "http://0.0.0.0:5051/ticker/PLTR/2021-05-25/21/0\n",
      "http://0.0.0.0:5051/ticker/FORD/2021-05-25/2/0\n",
      "http://0.0.0.0:5051/ticker/RIDE/2021-05-25/8/0\n",
      "http://0.0.0.0:5051/ticker/SPCE/2021-05-25/25/0\n",
      "http://0.0.0.0:5051/ticker/AI/2021-05-25/57/0\n",
      "http://0.0.0.0:5051/ticker/TSLA/2021-05-25/604/0\n",
      "http://0.0.0.0:5051/ticker/GE/2021-05-25/13/0\n",
      "http://0.0.0.0:5051/ticker/GME/2021-05-25/209/2\n",
      "http://0.0.0.0:5051/ticker/AAPL/2021-05-25/126/2\n",
      "http://0.0.0.0:5051/ticker/NOK/2021-05-25/5/0\n",
      "http://0.0.0.0:5051/ticker/PLTR/2021-05-26/22/4\n",
      "http://0.0.0.0:5051/ticker/FORD/2021-05-26/2/1\n",
      "http://0.0.0.0:5051/ticker/RIDE/2021-05-26/9/1\n",
      "http://0.0.0.0:5051/ticker/SPCE/2021-05-26/27/7\n",
      "http://0.0.0.0:5051/ticker/AI/2021-05-26/61/4\n",
      "http://0.0.0.0:5051/ticker/TSLA/2021-05-26/619/7\n",
      "http://0.0.0.0:5051/ticker/GE/2021-05-26/13/5\n",
      "http://0.0.0.0:5051/ticker/GME/2021-05-26/242/177\n",
      "http://0.0.0.0:5051/ticker/AAPL/2021-05-26/126/17\n",
      "http://0.0.0.0:5051/ticker/NOK/2021-05-26/4/3\n",
      "http://0.0.0.0:5051/ticker/PLTR/2021-05-27/22/1\n",
      "http://0.0.0.0:5051/ticker/FORD/2021-05-27/2/2\n",
      "http://0.0.0.0:5051/ticker/RIDE/2021-05-27/10/0\n",
      "http://0.0.0.0:5051/ticker/SPCE/2021-05-27/31/0\n",
      "http://0.0.0.0:5051/ticker/AI/2021-05-27/63/0\n",
      "http://0.0.0.0:5051/ticker/TSLA/2021-05-27/630/5\n",
      "http://0.0.0.0:5051/ticker/GE/2021-05-27/14/0\n",
      "http://0.0.0.0:5051/ticker/GME/2021-05-27/254/10\n",
      "http://0.0.0.0:5051/ticker/AAPL/2021-05-27/125/14\n",
      "http://0.0.0.0:5051/ticker/NOK/2021-05-27/5/0\n",
      "http://0.0.0.0:5051/ticker/PLTR/2021-05-28/22/0\n",
      "http://0.0.0.0:5051/ticker/FORD/2021-05-28/2/0\n",
      "http://0.0.0.0:5051/ticker/RIDE/2021-05-28/9/0\n",
      "http://0.0.0.0:5051/ticker/SPCE/2021-05-28/31/0\n",
      "http://0.0.0.0:5051/ticker/AI/2021-05-28/61/0\n",
      "http://0.0.0.0:5051/ticker/TSLA/2021-05-28/625/0\n",
      "http://0.0.0.0:5051/ticker/GE/2021-05-28/14/0\n",
      "http://0.0.0.0:5051/ticker/GME/2021-05-28/222/0\n",
      "http://0.0.0.0:5051/ticker/AAPL/2021-05-28/124/0\n",
      "http://0.0.0.0:5051/ticker/NOK/2021-05-28/5/0\n",
      "http://0.0.0.0:5051/ticker/PLTR/2021-05-29/22/0\n",
      "http://0.0.0.0:5051/ticker/FORD/2021-05-29/2/0\n",
      "http://0.0.0.0:5051/ticker/RIDE/2021-05-29/9/0\n",
      "http://0.0.0.0:5051/ticker/SPCE/2021-05-29/31/0\n",
      "http://0.0.0.0:5051/ticker/AI/2021-05-29/61/0\n",
      "http://0.0.0.0:5051/ticker/TSLA/2021-05-29/625/0\n",
      "http://0.0.0.0:5051/ticker/GE/2021-05-29/14/0\n",
      "http://0.0.0.0:5051/ticker/GME/2021-05-29/222/0\n",
      "http://0.0.0.0:5051/ticker/AAPL/2021-05-29/124/0\n",
      "http://0.0.0.0:5051/ticker/NOK/2021-05-29/5/0\n"
     ]
    }
   ],
   "source": [
    "date = ''\n",
    "for d in dates:\n",
    "    date = d\n",
    "    for t in tickers:\n",
    "        ticker = t\n",
    "        price = int(get_price_on_date(ticker,date)[0]['price'])\n",
    "        mentions = get_mentions_on_date(ticker,date)\n",
    "        mention_to_cache(ticker, date, str(price), mentions)\n",
    "        "
   ]
  },
  {
   "cell_type": "code",
   "execution_count": null,
   "id": "configured-bradley",
   "metadata": {},
   "outputs": [],
   "source": []
  },
  {
   "cell_type": "code",
   "execution_count": null,
   "id": "ranking-government",
   "metadata": {},
   "outputs": [],
   "source": []
  },
  {
   "cell_type": "code",
   "execution_count": null,
   "id": "prompt-projection",
   "metadata": {},
   "outputs": [],
   "source": []
  }
 ],
 "metadata": {
  "kernelspec": {
   "display_name": "Python 3",
   "language": "python",
   "name": "python3"
  },
  "language_info": {
   "codemirror_mode": {
    "name": "ipython",
    "version": 3
   },
   "file_extension": ".py",
   "mimetype": "text/x-python",
   "name": "python",
   "nbconvert_exporter": "python",
   "pygments_lexer": "ipython3",
   "version": "3.8.5"
  }
 },
 "nbformat": 4,
 "nbformat_minor": 5
}
