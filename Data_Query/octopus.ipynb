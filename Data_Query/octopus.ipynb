{
 "cells": [
  {
   "cell_type": "code",
   "execution_count": 4,
   "id": "short-vision",
   "metadata": {},
   "outputs": [],
   "source": [
    "import requests\n",
    "import pandas"
   ]
  },
  {
   "cell_type": "code",
   "execution_count": 11,
   "id": "alike-faculty",
   "metadata": {},
   "outputs": [],
   "source": [
    "neo_url = 'http://localhost:5050/'\n",
    "postgres_url = 'http://127.0.0.1:5000/'"
   ]
  },
  {
   "cell_type": "code",
   "execution_count": 6,
   "id": "structured-oxygen",
   "metadata": {},
   "outputs": [],
   "source": [
    "## Fetch mentions per date\n",
    "def get_mentions_on_date(ticker, date):\n",
    "    url = \"mentions/\" + ticker + \"/\"+ date\n",
    "    response = requests.get(neo_url+url)\n",
    "    if not response.status_code == 200:\n",
    "        print(response.status_code)\n",
    "        \n",
    "    return response.text"
   ]
  },
  {
   "cell_type": "code",
   "execution_count": 10,
   "id": "angry-african",
   "metadata": {},
   "outputs": [
    {
     "data": {
      "text/plain": [
       "'2'"
      ]
     },
     "execution_count": 10,
     "metadata": {},
     "output_type": "execute_result"
    }
   ],
   "source": [
    "get_mentions_on_date('GME', '2021-05-29')"
   ]
  },
  {
   "cell_type": "code",
   "execution_count": null,
   "id": "ruled-palestine",
   "metadata": {},
   "outputs": [],
   "source": []
  },
  {
   "cell_type": "code",
   "execution_count": 12,
   "id": "sticky-sweet",
   "metadata": {},
   "outputs": [],
   "source": [
    "## Fetch price per date\n",
    "def get_price_on_date(ticker, date):\n",
    "    url = \"prices/\" + ticker + \"/\"+ date\n",
    "    response = requests.get(postgres_url+url)\n",
    "    if not response.status_code == 200:\n",
    "        print(response.status_code)       \n",
    "    return response.text"
   ]
  },
  {
   "cell_type": "code",
   "execution_count": 15,
   "id": "above-venue",
   "metadata": {},
   "outputs": [
    {
     "data": {
      "text/plain": [
       "'[\\n  {\\n    \"price\": 222.0\\n  }\\n]\\n'"
      ]
     },
     "execution_count": 15,
     "metadata": {},
     "output_type": "execute_result"
    }
   ],
   "source": [
    "get_price_on_date('GME', '2021-05-28')"
   ]
  },
  {
   "cell_type": "code",
   "execution_count": null,
   "id": "buried-bonus",
   "metadata": {},
   "outputs": [],
   "source": []
  }
 ],
 "metadata": {
  "kernelspec": {
   "display_name": "Python 3",
   "language": "python",
   "name": "python3"
  },
  "language_info": {
   "codemirror_mode": {
    "name": "ipython",
    "version": 3
   },
   "file_extension": ".py",
   "mimetype": "text/x-python",
   "name": "python",
   "nbconvert_exporter": "python",
   "pygments_lexer": "ipython3",
   "version": "3.8.5"
  }
 },
 "nbformat": 4,
 "nbformat_minor": 5
}
