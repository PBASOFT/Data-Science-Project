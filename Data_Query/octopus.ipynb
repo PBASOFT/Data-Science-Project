{
 "cells": [
  {
   "cell_type": "code",
   "execution_count": 1,
   "id": "twelve-french",
   "metadata": {},
   "outputs": [],
   "source": [
    "import requests\n",
    "import pandas"
   ]
  },
  {
   "cell_type": "code",
   "execution_count": 34,
   "id": "recent-globe",
   "metadata": {},
   "outputs": [],
   "source": [
    "neo_url = 'http://localhost:5050/'\n",
    "postgres_url = 'http://127.0.0.1:5000/'\n",
    "redis_url = 'http://127.0.0.1:5051/'"
   ]
  },
  {
   "cell_type": "markdown",
   "id": "improved-alignment",
   "metadata": {},
   "source": [
    "### Fetch data"
   ]
  },
  {
   "cell_type": "code",
   "execution_count": 3,
   "id": "breathing-emission",
   "metadata": {},
   "outputs": [],
   "source": [
    "## Fetch mentions per date\n",
    "def get_mentions_on_date(ticker, date):\n",
    "    url = \"mentions/\" + ticker + \"/\"+ date\n",
    "    response = requests.get(neo_url+url)\n",
    "    if not response.status_code == 200:\n",
    "        print(response.status_code)\n",
    "        \n",
    "    return response.text"
   ]
  },
  {
   "cell_type": "code",
   "execution_count": 31,
   "id": "computational-amplifier",
   "metadata": {},
   "outputs": [
    {
     "data": {
      "text/plain": [
       "'5'"
      ]
     },
     "execution_count": 31,
     "metadata": {},
     "output_type": "execute_result"
    }
   ],
   "source": [
    "get_mentions_on_date('GME', '2021-05-26')"
   ]
  },
  {
   "cell_type": "code",
   "execution_count": 29,
   "id": "varied-change",
   "metadata": {},
   "outputs": [],
   "source": [
    "## Fetch price per date\n",
    "def get_price_on_date(ticker, date):\n",
    "    url = \"prices/\" + ticker + \"/\"+ date\n",
    "    response = requests.get(postgres_url+url)\n",
    "    if not response.status_code == 200:\n",
    "        print(response.status_code)       \n",
    "    return response.json()"
   ]
  },
  {
   "cell_type": "code",
   "execution_count": 32,
   "id": "gothic-saint",
   "metadata": {},
   "outputs": [
    {
     "data": {
      "text/plain": [
       "242.55999755859375"
      ]
     },
     "execution_count": 32,
     "metadata": {},
     "output_type": "execute_result"
    }
   ],
   "source": [
    "get_price_on_date('GME', '2021-05-26')[0]['price']"
   ]
  },
  {
   "cell_type": "code",
   "execution_count": null,
   "id": "valued-intent",
   "metadata": {},
   "outputs": [],
   "source": []
  },
  {
   "cell_type": "markdown",
   "id": "accessible-least",
   "metadata": {},
   "source": [
    "### Save to cache"
   ]
  },
  {
   "cell_type": "code",
   "execution_count": 58,
   "id": "younger-gathering",
   "metadata": {},
   "outputs": [],
   "source": [
    "## Price/mention to cache\n",
    "def mention_to_cache(ticker, date, price, mentions):\n",
    "    url = \"ticker/\" + ticker + \"/\"+ date + \"/\"+ price + \"/\"+ mentions\n",
    "    print(redis_url+url)\n",
    "    response = requests.post(redis_url+url)\n",
    "    if not response.status_code == 200:\n",
    "        print(response.status_code)       \n",
    "    return response.status_code"
   ]
  },
  {
   "cell_type": "code",
   "execution_count": 67,
   "id": "spanish-chamber",
   "metadata": {},
   "outputs": [
    {
     "name": "stdout",
     "output_type": "stream",
     "text": [
      "http://127.0.0.1:5051/ticker/GME/2021-05-26/242/5\n"
     ]
    },
    {
     "data": {
      "text/plain": [
       "200"
      ]
     },
     "execution_count": 67,
     "metadata": {},
     "output_type": "execute_result"
    }
   ],
   "source": [
    "ticker = 'GME'\n",
    "date = '2021-05-26'\n",
    "price = int(get_price_on_date(ticker,date)[0]['price'])\n",
    "mentions = get_mentions_on_date(ticker,date)\n",
    "mention_to_cache(ticker, date, str(price), mentions)"
   ]
  },
  {
   "cell_type": "code",
   "execution_count": null,
   "id": "satisfied-affair",
   "metadata": {},
   "outputs": [],
   "source": []
  }
 ],
 "metadata": {
  "kernelspec": {
   "display_name": "Python 3",
   "language": "python",
   "name": "python3"
  },
  "language_info": {
   "codemirror_mode": {
    "name": "ipython",
    "version": 3
   },
   "file_extension": ".py",
   "mimetype": "text/x-python",
   "name": "python",
   "nbconvert_exporter": "python",
   "pygments_lexer": "ipython3",
   "version": "3.8.5"
  }
 },
 "nbformat": 4,
 "nbformat_minor": 5
}
