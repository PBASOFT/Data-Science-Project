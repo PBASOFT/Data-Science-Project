{
 "cells": [
  {
   "cell_type": "code",
   "execution_count": 50,
   "id": "unlimited-spain",
   "metadata": {},
   "outputs": [],
   "source": [
    "import requests\n",
    "import pandas as pd"
   ]
  },
  {
   "cell_type": "code",
   "execution_count": 61,
   "id": "desirable-lending",
   "metadata": {},
   "outputs": [],
   "source": [
    "neo_url = 'http://localhost:5050/'\n",
    "postgres_url = 'http://127.0.0.1:5000/'\n",
    "redis_url = 'http://0.0.0.0:5051/'"
   ]
  },
  {
   "cell_type": "markdown",
   "id": "legal-carpet",
   "metadata": {},
   "source": [
    "### Fetch data"
   ]
  },
  {
   "cell_type": "code",
   "execution_count": 67,
   "id": "raising-liver",
   "metadata": {},
   "outputs": [],
   "source": [
    "## Fetch mentions per date\n",
    "def get_mentions_on_date(ticker, date):\n",
    "    url = \"mentions/\" + ticker + \"/\"+ date\n",
    "    response = requests.get(neo_url+url)\n",
    "    if not response.status_code == 200:\n",
    "        print(response.status_code)\n",
    "        \n",
    "    return response.text"
   ]
  },
  {
   "cell_type": "code",
   "execution_count": 68,
   "id": "recent-wesley",
   "metadata": {},
   "outputs": [
    {
     "data": {
      "text/plain": [
       "'220'"
      ]
     },
     "execution_count": 68,
     "metadata": {},
     "output_type": "execute_result"
    }
   ],
   "source": [
    "get_mentions_on_date('GME', '2021-05-26')"
   ]
  },
  {
   "cell_type": "code",
   "execution_count": 69,
   "id": "cardiac-delta",
   "metadata": {},
   "outputs": [],
   "source": [
    "## Fetch price per date\n",
    "def get_price_on_date(ticker, date):\n",
    "    url = \"prices/\" + ticker + \"/\"+ date\n",
    "    response = requests.get(postgres_url+url)\n",
    "    if not response.status_code == 200:\n",
    "        print(response.status_code)       \n",
    "    return response.json()"
   ]
  },
  {
   "cell_type": "code",
   "execution_count": 85,
   "id": "limiting-morgan",
   "metadata": {},
   "outputs": [
    {
     "data": {
      "text/plain": [
       "222.0"
      ]
     },
     "execution_count": 85,
     "metadata": {},
     "output_type": "execute_result"
    }
   ],
   "source": [
    "get_price_on_date('GME', '2021-05-29')[0]['price']"
   ]
  },
  {
   "cell_type": "code",
   "execution_count": 71,
   "id": "dated-spare",
   "metadata": {},
   "outputs": [],
   "source": [
    "#df = pd.DataFrame()\n",
    "#df['price']([{'2021-05-17':180.60},{'2021-05-18':180.60}], ignore_index=True)"
   ]
  },
  {
   "cell_type": "markdown",
   "id": "creative-radio",
   "metadata": {},
   "source": [
    "### Save to cache"
   ]
  },
  {
   "cell_type": "code",
   "execution_count": 72,
   "id": "seventh-array",
   "metadata": {},
   "outputs": [],
   "source": [
    "## Price/mention to cache\n",
    "def mention_to_cache(ticker, date, price, mentions):\n",
    "    url = \"ticker/\" + ticker + \"/\"+ date + \"/\"+ price + \"/\"+ mentions\n",
    "    print(redis_url+url)\n",
    "    response = requests.post(redis_url+url)\n",
    "    if not response.status_code == 200:\n",
    "        print(response.status_code)       \n",
    "    return response.status_code"
   ]
  },
  {
   "cell_type": "code",
   "execution_count": 73,
   "id": "computational-state",
   "metadata": {},
   "outputs": [],
   "source": [
    "#ticker = 'GME'\n",
    "#date = '2021-05-29'\n",
    "#price = int(get_price_on_date(ticker,date)[0]['price'])\n",
    "#mentions = get_mentions_on_date(ticker,date)\n",
    "#mention_to_cache(ticker, date, str(price), mentions)"
   ]
  },
  {
   "cell_type": "markdown",
   "id": "signal-release",
   "metadata": {},
   "source": [
    "## Fill redis with week-ish"
   ]
  },
  {
   "cell_type": "code",
   "execution_count": 89,
   "id": "streaming-warrant",
   "metadata": {},
   "outputs": [],
   "source": [
    "dates = ['2021-05-22','2021-05-23','2021-05-24', '2021-05-25', '2021-05-26', '2021-05-27', '2021-05-28', '2021-05-29']\n",
    "tickers = ['PLTR', 'FORD', 'SPCE', 'AI', 'TSLA', 'GME', 'AAPL', 'NOK']"
   ]
  },
  {
   "cell_type": "code",
   "execution_count": 90,
   "id": "lucky-astrology",
   "metadata": {},
   "outputs": [
    {
     "name": "stdout",
     "output_type": "stream",
     "text": [
      "PLTR\n",
      "http://0.0.0.0:5051/ticker/PLTR/2021-05-22/20/0\n",
      "FORD\n",
      "http://0.0.0.0:5051/ticker/FORD/2021-05-22/2/0\n",
      "SPCE\n",
      "http://0.0.0.0:5051/ticker/SPCE/2021-05-22/21/0\n",
      "AI\n",
      "http://0.0.0.0:5051/ticker/AI/2021-05-22/61/0\n",
      "TSLA\n",
      "http://0.0.0.0:5051/ticker/TSLA/2021-05-22/580/1\n",
      "GME\n",
      "http://0.0.0.0:5051/ticker/GME/2021-05-22/176/2\n",
      "AAPL\n",
      "http://0.0.0.0:5051/ticker/AAPL/2021-05-22/125/3\n",
      "NOK\n",
      "http://0.0.0.0:5051/ticker/NOK/2021-05-22/5/0\n",
      "PLTR\n",
      "http://0.0.0.0:5051/ticker/PLTR/2021-05-23/20/0\n",
      "FORD\n",
      "http://0.0.0.0:5051/ticker/FORD/2021-05-23/2/0\n",
      "SPCE\n",
      "http://0.0.0.0:5051/ticker/SPCE/2021-05-23/21/1\n",
      "AI\n",
      "http://0.0.0.0:5051/ticker/AI/2021-05-23/61/0\n",
      "TSLA\n",
      "http://0.0.0.0:5051/ticker/TSLA/2021-05-23/580/0\n",
      "GME\n",
      "http://0.0.0.0:5051/ticker/GME/2021-05-23/176/1\n",
      "AAPL\n",
      "http://0.0.0.0:5051/ticker/AAPL/2021-05-23/125/0\n",
      "NOK\n",
      "http://0.0.0.0:5051/ticker/NOK/2021-05-23/5/0\n",
      "PLTR\n",
      "http://0.0.0.0:5051/ticker/PLTR/2021-05-24/21/0\n",
      "FORD\n",
      "http://0.0.0.0:5051/ticker/FORD/2021-05-24/2/0\n",
      "SPCE\n",
      "http://0.0.0.0:5051/ticker/SPCE/2021-05-24/26/1\n",
      "AI\n",
      "http://0.0.0.0:5051/ticker/AI/2021-05-24/59/5\n",
      "TSLA\n",
      "http://0.0.0.0:5051/ticker/TSLA/2021-05-24/606/0\n",
      "GME\n",
      "http://0.0.0.0:5051/ticker/GME/2021-05-24/180/11\n",
      "AAPL\n",
      "http://0.0.0.0:5051/ticker/AAPL/2021-05-24/127/19\n",
      "NOK\n",
      "http://0.0.0.0:5051/ticker/NOK/2021-05-24/5/0\n",
      "PLTR\n",
      "http://0.0.0.0:5051/ticker/PLTR/2021-05-25/21/0\n",
      "FORD\n",
      "http://0.0.0.0:5051/ticker/FORD/2021-05-25/2/0\n",
      "SPCE\n",
      "http://0.0.0.0:5051/ticker/SPCE/2021-05-25/25/0\n",
      "AI\n",
      "http://0.0.0.0:5051/ticker/AI/2021-05-25/57/3\n",
      "TSLA\n",
      "http://0.0.0.0:5051/ticker/TSLA/2021-05-25/604/0\n",
      "GME\n",
      "http://0.0.0.0:5051/ticker/GME/2021-05-25/209/2\n",
      "AAPL\n",
      "http://0.0.0.0:5051/ticker/AAPL/2021-05-25/126/5\n",
      "NOK\n",
      "http://0.0.0.0:5051/ticker/NOK/2021-05-25/5/0\n",
      "PLTR\n",
      "http://0.0.0.0:5051/ticker/PLTR/2021-05-26/22/9\n",
      "FORD\n",
      "http://0.0.0.0:5051/ticker/FORD/2021-05-26/2/2\n",
      "SPCE\n",
      "http://0.0.0.0:5051/ticker/SPCE/2021-05-26/27/17\n",
      "AI\n",
      "http://0.0.0.0:5051/ticker/AI/2021-05-26/61/6\n",
      "TSLA\n",
      "http://0.0.0.0:5051/ticker/TSLA/2021-05-26/619/16\n",
      "GME\n",
      "http://0.0.0.0:5051/ticker/GME/2021-05-26/242/220\n",
      "AAPL\n",
      "http://0.0.0.0:5051/ticker/AAPL/2021-05-26/126/26\n",
      "NOK\n",
      "http://0.0.0.0:5051/ticker/NOK/2021-05-26/4/3\n",
      "PLTR\n",
      "http://0.0.0.0:5051/ticker/PLTR/2021-05-27/22/33\n",
      "FORD\n",
      "http://0.0.0.0:5051/ticker/FORD/2021-05-27/2/4\n",
      "SPCE\n",
      "http://0.0.0.0:5051/ticker/SPCE/2021-05-27/31/33\n",
      "AI\n",
      "http://0.0.0.0:5051/ticker/AI/2021-05-27/63/2\n",
      "TSLA\n",
      "http://0.0.0.0:5051/ticker/TSLA/2021-05-27/630/22\n",
      "GME\n",
      "http://0.0.0.0:5051/ticker/GME/2021-05-27/254/593\n",
      "AAPL\n",
      "http://0.0.0.0:5051/ticker/AAPL/2021-05-27/125/52\n",
      "NOK\n",
      "http://0.0.0.0:5051/ticker/NOK/2021-05-27/5/57\n",
      "PLTR\n",
      "http://0.0.0.0:5051/ticker/PLTR/2021-05-28/22/70\n",
      "FORD\n",
      "http://0.0.0.0:5051/ticker/FORD/2021-05-28/2/0\n",
      "SPCE\n",
      "http://0.0.0.0:5051/ticker/SPCE/2021-05-28/31/31\n",
      "AI\n",
      "http://0.0.0.0:5051/ticker/AI/2021-05-28/61/6\n",
      "TSLA\n",
      "http://0.0.0.0:5051/ticker/TSLA/2021-05-28/625/15\n",
      "GME\n",
      "http://0.0.0.0:5051/ticker/GME/2021-05-28/222/433\n",
      "AAPL\n",
      "http://0.0.0.0:5051/ticker/AAPL/2021-05-28/124/50\n",
      "NOK\n",
      "http://0.0.0.0:5051/ticker/NOK/2021-05-28/5/31\n",
      "PLTR\n",
      "http://0.0.0.0:5051/ticker/PLTR/2021-05-29/22/1\n",
      "FORD\n",
      "http://0.0.0.0:5051/ticker/FORD/2021-05-29/2/0\n",
      "SPCE\n",
      "http://0.0.0.0:5051/ticker/SPCE/2021-05-29/31/0\n",
      "AI\n",
      "http://0.0.0.0:5051/ticker/AI/2021-05-29/61/1\n",
      "TSLA\n",
      "http://0.0.0.0:5051/ticker/TSLA/2021-05-29/625/0\n",
      "GME\n",
      "http://0.0.0.0:5051/ticker/GME/2021-05-29/222/2\n",
      "AAPL\n",
      "http://0.0.0.0:5051/ticker/AAPL/2021-05-29/124/1\n",
      "NOK\n",
      "http://0.0.0.0:5051/ticker/NOK/2021-05-29/5/0\n"
     ]
    }
   ],
   "source": [
    "date = ''\n",
    "for d in dates:\n",
    "    date = d\n",
    "    for t in tickers:\n",
    "        print(t)\n",
    "        ticker = t\n",
    "        price = int(get_price_on_date(ticker,date)[0]['price'])\n",
    "        mentions = get_mentions_on_date(ticker,date)\n",
    "        mention_to_cache(ticker, date, str(price), mentions)\n",
    "        "
   ]
  },
  {
   "cell_type": "code",
   "execution_count": null,
   "id": "southeast-studio",
   "metadata": {},
   "outputs": [],
   "source": []
  },
  {
   "cell_type": "code",
   "execution_count": null,
   "id": "clear-prediction",
   "metadata": {},
   "outputs": [],
   "source": []
  },
  {
   "cell_type": "code",
   "execution_count": null,
   "id": "under-contract",
   "metadata": {},
   "outputs": [],
   "source": []
  }
 ],
 "metadata": {
  "kernelspec": {
   "display_name": "Python 3",
   "language": "python",
   "name": "python3"
  },
  "language_info": {
   "codemirror_mode": {
    "name": "ipython",
    "version": 3
   },
   "file_extension": ".py",
   "mimetype": "text/x-python",
   "name": "python",
   "nbconvert_exporter": "python",
   "pygments_lexer": "ipython3",
   "version": "3.8.5"
  }
 },
 "nbformat": 4,
 "nbformat_minor": 5
}
