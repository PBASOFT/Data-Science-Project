{
 "cells": [
  {
   "cell_type": "code",
   "execution_count": 13,
   "id": "secure-fancy",
   "metadata": {},
   "outputs": [],
   "source": [
    "import requests\n",
    "import pandas"
   ]
  },
  {
   "cell_type": "code",
   "execution_count": 21,
   "id": "subjective-necessity",
   "metadata": {},
   "outputs": [],
   "source": [
    "neo_url = 'http://localhost:5050/'\n",
    "postgres_url = 'http://127.0.0.1:5000/'\n",
    "redis_url = 'http://0.0.0.0:5051/'"
   ]
  },
  {
   "cell_type": "markdown",
   "id": "tribal-understanding",
   "metadata": {},
   "source": [
    "### Fetch data"
   ]
  },
  {
   "cell_type": "code",
   "execution_count": 15,
   "id": "grave-worship",
   "metadata": {},
   "outputs": [],
   "source": [
    "## Fetch mentions per date\n",
    "def get_mentions_on_date(ticker, date):\n",
    "    url = \"mentions/\" + ticker + \"/\"+ date\n",
    "    response = requests.get(neo_url+url)\n",
    "    if not response.status_code == 200:\n",
    "        print(response.status_code)\n",
    "        \n",
    "    return response.text"
   ]
  },
  {
   "cell_type": "code",
   "execution_count": 22,
   "id": "accredited-cambridge",
   "metadata": {},
   "outputs": [
    {
     "data": {
      "text/plain": [
       "'26'"
      ]
     },
     "execution_count": 22,
     "metadata": {},
     "output_type": "execute_result"
    }
   ],
   "source": [
    "get_mentions_on_date('GME', '2021-05-26')"
   ]
  },
  {
   "cell_type": "code",
   "execution_count": 17,
   "id": "pleasant-tackle",
   "metadata": {},
   "outputs": [],
   "source": [
    "## Fetch price per date\n",
    "def get_price_on_date(ticker, date):\n",
    "    url = \"prices/\" + ticker + \"/\"+ date\n",
    "    response = requests.get(postgres_url+url)\n",
    "    if not response.status_code == 200:\n",
    "        print(response.status_code)       \n",
    "    return response.json()"
   ]
  },
  {
   "cell_type": "code",
   "execution_count": 18,
   "id": "wooden-rocket",
   "metadata": {},
   "outputs": [
    {
     "data": {
      "text/plain": [
       "242.55999755859375"
      ]
     },
     "execution_count": 18,
     "metadata": {},
     "output_type": "execute_result"
    }
   ],
   "source": [
    "get_price_on_date('GME', '2021-05-26')[0]['price']"
   ]
  },
  {
   "cell_type": "code",
   "execution_count": null,
   "id": "centered-current",
   "metadata": {},
   "outputs": [],
   "source": []
  },
  {
   "cell_type": "markdown",
   "id": "right-mapping",
   "metadata": {},
   "source": [
    "### Save to cache"
   ]
  },
  {
   "cell_type": "code",
   "execution_count": 23,
   "id": "beneficial-cardiff",
   "metadata": {},
   "outputs": [],
   "source": [
    "## Price/mention to cache\n",
    "def mention_to_cache(ticker, date, price, mentions):\n",
    "    url = \"ticker/\" + ticker + \"/\"+ date + \"/\"+ price + \"/\"+ mentions\n",
    "    print(redis_url+url)\n",
    "    response = requests.post(redis_url+url)\n",
    "    if not response.status_code == 200:\n",
    "        print(response.status_code)       \n",
    "    return response.status_code"
   ]
  },
  {
   "cell_type": "code",
   "execution_count": 24,
   "id": "abandoned-service",
   "metadata": {},
   "outputs": [
    {
     "name": "stdout",
     "output_type": "stream",
     "text": [
      "http://0.0.0.0:5051/ticker/GME/2021-05-29/222/0\n"
     ]
    },
    {
     "data": {
      "text/plain": [
       "200"
      ]
     },
     "execution_count": 24,
     "metadata": {},
     "output_type": "execute_result"
    }
   ],
   "source": [
    "ticker = 'GME'\n",
    "date = '2021-05-29'\n",
    "price = int(get_price_on_date(ticker,date)[0]['price'])\n",
    "mentions = get_mentions_on_date(ticker,date)\n",
    "mention_to_cache(ticker, date, str(price), mentions)"
   ]
  },
  {
   "cell_type": "code",
   "execution_count": null,
   "id": "understanding-pasta",
   "metadata": {},
   "outputs": [],
   "source": []
  },
  {
   "cell_type": "code",
   "execution_count": null,
   "id": "noted-congress",
   "metadata": {},
   "outputs": [],
   "source": []
  }
 ],
 "metadata": {
  "kernelspec": {
   "display_name": "Python 3",
   "language": "python",
   "name": "python3"
  },
  "language_info": {
   "codemirror_mode": {
    "name": "ipython",
    "version": 3
   },
   "file_extension": ".py",
   "mimetype": "text/x-python",
   "name": "python",
   "nbconvert_exporter": "python",
   "pygments_lexer": "ipython3",
   "version": "3.8.5"
  }
 },
 "nbformat": 4,
 "nbformat_minor": 5
}
