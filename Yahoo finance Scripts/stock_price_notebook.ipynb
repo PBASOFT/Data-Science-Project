{
 "cells": [
  {
   "cell_type": "code",
   "execution_count": null,
   "id": "lesbian-testimony",
   "metadata": {},
   "outputs": [],
   "source": [
    "!pip3 install pandas_datareader\n",
    "!pip3 install psycopg2\n",
    "!pip3 install SQLAlchemy\n",
    "!pip3 install flask_sqlalchemy\n",
    "!pip3 install flask_marshmallow"
   ]
  },
  {
   "cell_type": "code",
   "execution_count": 4,
   "id": "genetic-induction",
   "metadata": {},
   "outputs": [],
   "source": [
    "%run stock_price_saver.py"
   ]
  },
  {
   "cell_type": "code",
   "execution_count": null,
   "id": "brave-bulgaria",
   "metadata": {},
   "outputs": [
    {
     "name": "stdout",
     "output_type": "stream",
     "text": [
      " * Serving Flask app \"stock_price_loader\" (lazy loading)\n",
      " * Environment: production\n",
      "\u001b[31m   WARNING: This is a development server. Do not use it in a production deployment.\u001b[0m\n",
      "\u001b[2m   Use a production WSGI server instead.\u001b[0m\n",
      " * Debug mode: on\n"
     ]
    },
    {
     "name": "stderr",
     "output_type": "stream",
     "text": [
      " * Running on http://127.0.0.1:5000/ (Press CTRL+C to quit)\n",
      " * Restarting with fsevents reloader\n"
     ]
    }
   ],
   "source": [
    "%run -i stock_price_loader.py"
   ]
  },
  {
   "cell_type": "code",
   "execution_count": null,
   "id": "boxed-ethernet",
   "metadata": {},
   "outputs": [],
   "source": []
  },
  {
   "cell_type": "code",
   "execution_count": null,
   "id": "meaningful-neutral",
   "metadata": {},
   "outputs": [],
   "source": []
  }
 ],
 "metadata": {
  "kernelspec": {
   "display_name": "Python 3",
   "language": "python",
   "name": "python3"
  },
  "language_info": {
   "codemirror_mode": {
    "name": "ipython",
    "version": 3
   },
   "file_extension": ".py",
   "mimetype": "text/x-python",
   "name": "python",
   "nbconvert_exporter": "python",
   "pygments_lexer": "ipython3",
   "version": "3.8.5"
  }
 },
 "nbformat": 4,
 "nbformat_minor": 5
}
