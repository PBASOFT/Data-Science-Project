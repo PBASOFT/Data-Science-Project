{
 "cells": [
  {
   "cell_type": "code",
   "execution_count": 2,
   "id": "mathematical-patch",
   "metadata": {},
   "outputs": [
    {
     "name": "stdout",
     "output_type": "stream",
     "text": [
      "Requirement already satisfied: pandas_datareader in /Users/malenehansen/opt/anaconda3/lib/python3.8/site-packages (0.9.0)\n",
      "Requirement already satisfied: lxml in /Users/malenehansen/opt/anaconda3/lib/python3.8/site-packages (from pandas_datareader) (4.6.2)\n",
      "Requirement already satisfied: requests>=2.19.0 in /Users/malenehansen/opt/anaconda3/lib/python3.8/site-packages (from pandas_datareader) (2.25.1)\n",
      "Requirement already satisfied: pandas>=0.23 in /Users/malenehansen/opt/anaconda3/lib/python3.8/site-packages (from pandas_datareader) (1.2.2)\n",
      "Requirement already satisfied: python-dateutil>=2.7.3 in /Users/malenehansen/opt/anaconda3/lib/python3.8/site-packages (from pandas>=0.23->pandas_datareader) (2.8.1)\n",
      "Requirement already satisfied: pytz>=2017.3 in /Users/malenehansen/opt/anaconda3/lib/python3.8/site-packages (from pandas>=0.23->pandas_datareader) (2021.1)\n",
      "Requirement already satisfied: numpy>=1.16.5 in /Users/malenehansen/opt/anaconda3/lib/python3.8/site-packages (from pandas>=0.23->pandas_datareader) (1.19.2)\n",
      "Requirement already satisfied: six>=1.5 in /Users/malenehansen/opt/anaconda3/lib/python3.8/site-packages (from python-dateutil>=2.7.3->pandas>=0.23->pandas_datareader) (1.15.0)\n",
      "Requirement already satisfied: chardet<5,>=3.0.2 in /Users/malenehansen/opt/anaconda3/lib/python3.8/site-packages (from requests>=2.19.0->pandas_datareader) (4.0.0)\n",
      "Requirement already satisfied: certifi>=2017.4.17 in /Users/malenehansen/opt/anaconda3/lib/python3.8/site-packages (from requests>=2.19.0->pandas_datareader) (2020.12.5)\n",
      "Requirement already satisfied: urllib3<1.27,>=1.21.1 in /Users/malenehansen/opt/anaconda3/lib/python3.8/site-packages (from requests>=2.19.0->pandas_datareader) (1.26.3)\n",
      "Requirement already satisfied: idna<3,>=2.5 in /Users/malenehansen/opt/anaconda3/lib/python3.8/site-packages (from requests>=2.19.0->pandas_datareader) (2.10)\n",
      "Requirement already satisfied: psycopg2 in /Users/malenehansen/opt/anaconda3/lib/python3.8/site-packages (2.8.6)\n",
      "^C\n",
      "Requirement already satisfied: SQLAlchemy in /Users/malenehansen/opt/anaconda3/lib/python3.8/site-packages (1.3.23)\n",
      "^C\n",
      "\u001b[31mERROR: Operation cancelled by user\u001b[0m\n",
      "Requirement already satisfied: flask_sqlalchemy in /Users/malenehansen/opt/anaconda3/lib/python3.8/site-packages (2.5.1)\n",
      "Requirement already satisfied: SQLAlchemy>=0.8.0 in /Users/malenehansen/opt/anaconda3/lib/python3.8/site-packages (from flask_sqlalchemy) (1.3.23)\n",
      "Requirement already satisfied: Flask>=0.10 in /Users/malenehansen/opt/anaconda3/lib/python3.8/site-packages (from flask_sqlalchemy) (1.1.2)\n",
      "Requirement already satisfied: itsdangerous>=0.24 in /Users/malenehansen/opt/anaconda3/lib/python3.8/site-packages (from Flask>=0.10->flask_sqlalchemy) (1.1.0)\n",
      "Requirement already satisfied: Jinja2>=2.10.1 in /Users/malenehansen/opt/anaconda3/lib/python3.8/site-packages (from Flask>=0.10->flask_sqlalchemy) (2.11.3)\n",
      "Requirement already satisfied: click>=5.1 in /Users/malenehansen/opt/anaconda3/lib/python3.8/site-packages (from Flask>=0.10->flask_sqlalchemy) (7.1.2)\n",
      "Requirement already satisfied: Werkzeug>=0.15 in /Users/malenehansen/opt/anaconda3/lib/python3.8/site-packages (from Flask>=0.10->flask_sqlalchemy) (1.0.1)\n",
      "Requirement already satisfied: MarkupSafe>=0.23 in /Users/malenehansen/opt/anaconda3/lib/python3.8/site-packages (from Jinja2>=2.10.1->Flask>=0.10->flask_sqlalchemy) (1.1.1)\n",
      "Requirement already satisfied: flask_marshmallow in /Users/malenehansen/opt/anaconda3/lib/python3.8/site-packages (0.14.0)\n",
      "Requirement already satisfied: Flask in /Users/malenehansen/opt/anaconda3/lib/python3.8/site-packages (from flask_marshmallow) (1.1.2)\n",
      "Requirement already satisfied: marshmallow>=2.0.0 in /Users/malenehansen/opt/anaconda3/lib/python3.8/site-packages (from flask_marshmallow) (3.12.1)\n",
      "Requirement already satisfied: six>=1.9.0 in /Users/malenehansen/opt/anaconda3/lib/python3.8/site-packages (from flask_marshmallow) (1.15.0)\n",
      "Requirement already satisfied: itsdangerous>=0.24 in /Users/malenehansen/opt/anaconda3/lib/python3.8/site-packages (from Flask->flask_marshmallow) (1.1.0)\n",
      "Requirement already satisfied: Werkzeug>=0.15 in /Users/malenehansen/opt/anaconda3/lib/python3.8/site-packages (from Flask->flask_marshmallow) (1.0.1)\n",
      "Requirement already satisfied: Jinja2>=2.10.1 in /Users/malenehansen/opt/anaconda3/lib/python3.8/site-packages (from Flask->flask_marshmallow) (2.11.3)\n",
      "Requirement already satisfied: click>=5.1 in /Users/malenehansen/opt/anaconda3/lib/python3.8/site-packages (from Flask->flask_marshmallow) (7.1.2)\n",
      "Requirement already satisfied: MarkupSafe>=0.23 in /Users/malenehansen/opt/anaconda3/lib/python3.8/site-packages (from Jinja2>=2.10.1->Flask->flask_marshmallow) (1.1.1)\n"
     ]
    }
   ],
   "source": [
    "!pip3 install pandas_datareader\n",
    "!pip3 install psycopg2\n",
    "!pip3 install SQLAlchemy\n",
    "!pip3 install flask_sqlalchemy\n",
    "!pip3 install flask_marshmallow"
   ]
  },
  {
   "cell_type": "code",
   "execution_count": 3,
   "id": "identified-instrumentation",
   "metadata": {},
   "outputs": [],
   "source": [
    "%run stock_price_saver.py"
   ]
  },
  {
   "cell_type": "code",
   "execution_count": null,
   "id": "temporal-apollo",
   "metadata": {},
   "outputs": [
    {
     "name": "stdout",
     "output_type": "stream",
     "text": [
      " * Serving Flask app \"stock_price_loader\" (lazy loading)\n",
      " * Environment: production\n",
      "\u001b[31m   WARNING: This is a development server. Do not use it in a production deployment.\u001b[0m\n",
      "\u001b[2m   Use a production WSGI server instead.\u001b[0m\n",
      " * Debug mode: on\n"
     ]
    },
    {
     "name": "stderr",
     "output_type": "stream",
     "text": [
      "/Users/malenehansen/opt/anaconda3/lib/python3.8/site-packages/flask_marshmallow/__init__.py:26: UserWarning: Flask-SQLAlchemy integration requires marshmallow-sqlalchemy to be installed.\n",
      "  warnings.warn(\n",
      " * Running on http://127.0.0.1:5000/ (Press CTRL+C to quit)\n",
      " * Restarting with fsevents reloader\n",
      " * Restarting with fsevents reloader\n"
     ]
    }
   ],
   "source": [
    "%run -i stock_price_loader.py"
   ]
  },
  {
   "cell_type": "code",
   "execution_count": null,
   "id": "passing-palace",
   "metadata": {},
   "outputs": [],
   "source": []
  },
  {
   "cell_type": "code",
   "execution_count": null,
   "id": "norwegian-solution",
   "metadata": {},
   "outputs": [],
   "source": []
  }
 ],
 "metadata": {
  "kernelspec": {
   "display_name": "Python 3",
   "language": "python",
   "name": "python3"
  },
  "language_info": {
   "codemirror_mode": {
    "name": "ipython",
    "version": 3
   },
   "file_extension": ".py",
   "mimetype": "text/x-python",
   "name": "python",
   "nbconvert_exporter": "python",
   "pygments_lexer": "ipython3",
   "version": "3.8.5"
  }
 },
 "nbformat": 4,
 "nbformat_minor": 5
}
