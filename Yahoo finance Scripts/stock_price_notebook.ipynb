{
 "cells": [
  {
   "cell_type": "code",
   "execution_count": null,
   "id": "dried-capacity",
   "metadata": {},
   "outputs": [],
   "source": [
    "!pip3 install pandas_datareader\n",
    "!pip3 install psycopg2\n",
    "!pip3 install SQLAlchemy\n",
    "!pip3 install flask_sqlalchemy\n",
    "!pip3 install flask_marshmallow"
   ]
  },
  {
   "cell_type": "code",
   "execution_count": null,
   "id": "antique-personality",
   "metadata": {},
   "outputs": [],
   "source": [
    "%run stock_price_saver.py"
   ]
  },
  {
   "cell_type": "code",
   "execution_count": null,
   "id": "recent-professor",
   "metadata": {},
   "outputs": [],
   "source": [
    "%run -i stock_price_loader.py"
   ]
  },
  {
   "cell_type": "code",
   "execution_count": null,
   "id": "intermediate-religion",
   "metadata": {},
   "outputs": [],
   "source": []
  },
  {
   "cell_type": "code",
   "execution_count": null,
   "id": "suspected-trader",
   "metadata": {},
   "outputs": [],
   "source": []
  }
 ],
 "metadata": {
  "kernelspec": {
   "display_name": "Python 3",
   "language": "python",
   "name": "python3"
  },
  "language_info": {
   "codemirror_mode": {
    "name": "ipython",
    "version": 3
   },
   "file_extension": ".py",
   "mimetype": "text/x-python",
   "name": "python",
   "nbconvert_exporter": "python",
   "pygments_lexer": "ipython3",
   "version": "3.8.5"
  }
 },
 "nbformat": 4,
 "nbformat_minor": 5
}
