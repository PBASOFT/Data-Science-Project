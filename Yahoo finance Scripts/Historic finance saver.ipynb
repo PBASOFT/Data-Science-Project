{
 "cells": [
  {
   "cell_type": "code",
   "execution_count": 1,
   "metadata": {},
   "outputs": [],
   "source": [
    "from pandas_datareader import data\n",
    "from pandas_datareader._utils import RemoteDataError\n",
    "import matplotlib.pyplot as plt\n",
    "import pandas as pd\n",
    "import numpy as np\n",
    "from datetime import datetime\n",
    "from numpy import savetxt"
   ]
  },
  {
   "cell_type": "code",
   "execution_count": 2,
   "metadata": {},
   "outputs": [],
   "source": [
    "START_DATE = '2021-01-01'\n",
    "END_DATE = str(datetime.now().strftime('%Y-%m-%d'))"
   ]
  },
  {
   "cell_type": "code",
   "execution_count": 3,
   "metadata": {},
   "outputs": [],
   "source": [
    "#Names = ['AaB','Abliva','Ascelia Pharma','Aspocomp Group','Active Biotech','Afarak Group Oyj','Agat Ejendomme','AGF B','Anoto Group','Brdr. A & O Johansen præf','Apetit Oyj','Arise','Arctic Paper','Actic Group','Atlantic Petroleum','Alligator Bioscience','Atvexa B','B3 Consulting Group','BE Group','Beijer Electronics Group','Brøndby IF','BioInvent International','Biohit Oyj B','BioPorto','Blue Vision A','Boliga Gruppen','Bong','Björn Borg','Boule Diagnostics','Bergs Timber B','Christian Berner Tech Trade B','Concordia Maritime B','Cemat','Concejo B','Consti Oyj','Copenhagen Capital Præf','Copenhagen Capital Stam','C-RAD B','Componenta Oyj','Dantax','Dedicare B','Digia Oyj','Digitalist Group Oyj','Djurslands Bank','DORO','Dovre Group Oyj','Duroc B','EAB Group Oyj','EAC Invest','Eezy Oyj','Egetis Therapeutics','Elecster Oyj A','Electra Gruppen','Elos Medtech B','Empir Group B','Endomines','Endomines','Enedo Oyj','Eniro','Eniro Pref A','Eniro Pref B','Episurf B','Etrion','eWork Group','Exel Composites Oyj','Fast Ejendom Danmark','Feelgood Svenska','FirstFarms','Flügger group B','FM Mattsson Mora Group B','FormPipe Software','Fynske Bank','German High Street Properties','GHP Specialty Care','Gaming Innovation Group','Glunz & Jensen Holding','Glaston Oyj Abp','Green Landscaping Group','GreenMobility','Grønlandsbanken','Gyldendal A','Gyldendal B','Hanza Holding','Harboes Bryggeri B','Havsfrun Investment B','Honkarakenne Oyj B','Hvidbjerg Bank','Incap Oyj','Innofactor Plc','Ilkka-Yhtymä Oyj 2','InterMail','Immunicum','Investors House Oyja','IRRAS','Image Systems','Josemaria Resources','KABE Group B','Karolinska Development B','Kesla Oyj A','Brd. Klee B','Kreditbanken','Kreate Group Oyj','Keskisuomalainen Oyj A','Lammhults Design Group B','Lehto Group Oyj','Lollands Bank','Luxor B','Magnolia Bostad','Maha Energy','Martela Oyj A','Malmbergs Elektriska B','Midway A','Midway B','Møns Bank','Moberg Pharma','Moment Group','Micro Systemation B','MT Højgaard Holding','MultiQ International','Medivir B','NAXS','Nelly Group','Net Insight B','Newcap Holding','NGS Group','Nilörngruppen B','Nixu Oyj','Nurminen Logistics Oyj','Nordic Shipholding','North Media','NOTE','Nordfyns Bank','NOVOTEK B','NTR Holding B','Odd Molly International','Oscar Properties Holding','Oscar Properties Holding PREF','Oscar Properties Holding PREFB','Optomed Oyj','Origo','Orthex Oyj','Ortivus A','Ortivus B','Ovaro Kiinteistösijoitus Oyj','PARKEN Sport & Entertainment','Projektengagemang Sweden B','Panostaja Oyj','Poolia B','Precise Biometrics','Prevas B','Prime Office','Profilgruppen B','Park Street Nordicom','PunaMusta Media Oyj','Qliro','QPR Software Oyj','Railcare Group','Rapala VMC Oyj','Raute Oyj A','Roblon B','Reka Industrial Oyj','Rias B','Rizzo Group B','RNB RETAIL AND BRANDS','Robit Oyj','Rovsing','Saga Furs Oyj C','Sanistål','Saniona','Scandinavian Brake Systems','Small Cap Danmark','Semcon','Sensys Gatso Group','Sievi Capital Oyj','Silkeborg IF Invest','Scandinavian Investment Group','Siili Solutions Oyj','SinterCast','SKAKO','Skeljungur','Skjern Bank','Softronic B','Solteq Oyj','Soprano Oyj','Sotkamo Silver AB','Serneke Group B','SRV Yhtiöt Oyj','SSH Communications Security','Starbreeze A','Starbreeze B','Strax','Strategic Investments','Stockwik Förvaltning','Svedbergs B','Studsvik','Sýn','Tecnotree Oyj','Teleste Oyj','Totalbanken','TradeDoubler','Trainers House Oyj','Tulikivi Oyj A','United Bankers Oyj','Plc Uutechnic Group Oyj','Valoe Oyj','Vicore Pharma Holding','Victoria Properties','Viking Supply Ships B','Wise Group','Wulff-Yhtiöt Oyj','Xbrane Biopharma','Boreo Oyj','ZetaDisplay']\n",
    "#Stocks = ['AAB.co','ABLI.st','ACE.st','ACG1V.he','ACTI.st','AFAGR.he','AGAT.co','AGF-B.co','ANOT.st','AOJ-P.co','APETIT.he','ARISE.st','ARP.st','ATIC.st','ATLA-DKK.co','ATORX.st','ATVEXA-B.st','B3.st','BEGR.st','BELE.st','BIF.co','BINV.st','BIOBV.he','BIOPOR.co','BLVIS-A.co','BOLIGA.co','BONG.st','BORG.st','BOUL.st','BRG-B.st','CBTT-B.ST','CCOR-B.st','CEMAT.CO','CNCJO-B.st','CONSTI.he','CPHCAP-PREF.co','CPHCAP-ST.co','CRAD-B.st','CTH1V.he','DANT.co','DEDI.st','DIGIA.he','DIGIGR.he','DJUR.co','DORO.st','DOV1V.he','DURC-B.st','EAB.he','EAC.co','EEZY.he','EGTX.ST','ELEAV.he','ELEC.st','ELOS-B.st','EMPIR-B.st','ENDO.st','ENDOM.he','ENEDO.he','ENRO.st','ENRO-PREF-A.st','ENRO-PREF-B.st','EPIS-B.st','ETX.st','EWRK.st','EXL1V.he','FED.co','FEEL.st','FFARMS.co','FLUG-B.co','FMM-B.st','FPIP.st','FYNBK.co','GERHSP.co','GHP.st','GIGSEK.st','GJ.CO','GLA1V.he','GREEN.st','GREENM.co','GRLA.co','GYLD-A.co','GYLD-B.co','HANZA.st','HARB-B.co','HAV-B.st','HONBS.he','HVID.co','ICP1V.he','IFA1V.he','ILK2S.he','IMAIL.co','IMMU.st','INVEST.he','IRRAS.st','IS.st','JOSE.st','KABE-B.st','KDEV.st','KELAS.he','KLEE-B.co','KRE.co','KREATE.HE','KSLAV.he','LAMM-B.st','LEHTO.he','LOLB.co','LUXOR-B.co','MAG.st','MAHA-A.st','MARAS.he','MEAB-B.st','MIDW-A.st','MIDW-B.st','MNBA.co','MOB.st','MOMENT.st','MSAB-B.st','MTHH.co','MULQ.st','MVIR-B.st','NAXS.st','NELLY.st','NETI-B.st','NEWCAP.co','NGS.st','NIL-B.st','NIXU.he','NLG1V.he','NORDIC.co','NORTHM.co','NOTE.st','NRDF.co','NTEK-B.st','NTR-B.co','ODD.st','OP.st','OP-PREF.st','OP-PREFB.ST','OPTOMED.he','ORIGO.IC','ORTHEX.he','ORTI-A.st','ORTI-B.ST','OVARO.he','PARKEN.co','PENG-B.st','PNA1V.he','POOL-B.st','PREC.st','PREV-B.st','PRIMOF.co','PROF-B.st','PSNRDC-A.co','PUMU.he','QLIRO.st','QPR1V.he','RAIL.st','RAP1V.he','RAUTE.he','RBLN-B.co','REKA.he','RIAS-B.co','RIZZO-B.st','RNBS.st','ROBIT.he','ROV.co','SAGCV.he','SANI.co','SANION.st','SBS.co','SCD.co','SEMC.st','SENS.st','SIEVI.he','SIF.co','SIG.co','SIILI.HE','SINT.st','SKAKO.co','SKEL.IC','SKJE.co','SOF-B.st','SOLTEQ.he','SOPRA.he','SOSI1.he','SRNKE-B.st','SRV1V.he','SSH1V.he','STAR-A.st','STAR-B.st','STRAX.st','STRINV.co','STWK.st','SVED-B.st','SVIK.st','SYN.ic','TEM1V.he','TLT1V.he','TOTA.co','TRAD.st','TRH1V.he','TULAV.he','UNITED.he','UUTEC.HE','VALOE.he','VICO.st','VIPRO.co','VSSAB-B.ST','WISE.st','WUF1V.he','XBRANE.st','BOREO.he','ZETA.st']\n",
    "Names = [\"GME\", \"APPL\", \"PLTR\",\"AMZN\",\"AMD\",\"AMC\",\"MSFT\",\"TSLA\",\"SEC\",\"SPY\",\"INTC\",\"ATH\",\"EPS\",\"LOL\",\"ARKK\",\"VW\",\"GE\",\"GOOG\",\"F\"]\n",
    "Stocks = [\"GME\", \"APPL\", \"PLTR\",\"AMZN\",\"AMD\",\"AMC\",\"MSFT\",\"TSLA\",\"SEC\",\"SPY\",\"INTC\",\"ATH\",\"EPS\",\"LOL\",\"ARKK\",\"VW\",\"GE\",\"GOOG\",\"F\"]"
   ]
  },
  {
   "cell_type": "code",
   "execution_count": 4,
   "metadata": {},
   "outputs": [],
   "source": [
    "def get_data(ticker, name):\n",
    "    try:\n",
    "        stock_data = data.DataReader(ticker,'yahoo', START_DATE, END_DATE)\n",
    "        stock = clean_data(stock_data, 'Adj Close')\n",
    "        save_data(stock, name)\n",
    "        \n",
    "    except KeyError:\n",
    "        print('Key Error in {t}'.format(t=ticker))\n",
    "    except RemoteDataError:\n",
    "        print('No data found for {t}'.format(t=ticker))"
   ]
  },
  {
   "cell_type": "code",
   "execution_count": 5,
   "metadata": {},
   "outputs": [],
   "source": [
    "def clean_data(stock_data, col):\n",
    "    weekdays = pd.date_range(start=START_DATE, end= END_DATE)\n",
    "    clean_data = stock_data[col].reindex(weekdays)\n",
    "    return clean_data.fillna(method='ffill')"
   ]
  },
  {
   "cell_type": "code",
   "execution_count": 6,
   "metadata": {},
   "outputs": [],
   "source": [
    "def get_stats(stock_data):\n",
    "    return{\n",
    "        'last': np.mean(stock_data.tail(1)),\n",
    "        'short_mean': np.mean(stock_data.tail(20)),\n",
    "        'long_mean': np.mean(stock_data.tail(200)),\n",
    "        'short_rolling': stock_data.rolling(window=20).mean(),\n",
    "        'long_rolling': stock_data.rolling(window=20).mean()\n",
    "\n",
    "        \n",
    "    }"
   ]
  },
  {
   "cell_type": "code",
   "execution_count": 10,
   "metadata": {},
   "outputs": [
    {
     "name": "stdout",
     "output_type": "stream",
     "text": [
      "savingGMEtofile\n",
      "GMEsaved\n",
      "Key Error in APPL\n",
      "savingPLTRtofile\n",
      "PLTRsaved\n",
      "savingAMZNtofile\n",
      "AMZNsaved\n",
      "savingAMDtofile\n",
      "AMDsaved\n",
      "savingAMCtofile\n",
      "AMCsaved\n",
      "savingMSFTtofile\n",
      "MSFTsaved\n",
      "savingTSLAtofile\n",
      "TSLAsaved\n",
      "Key Error in SEC\n",
      "savingSPYtofile\n",
      "SPYsaved\n",
      "savingINTCtofile\n",
      "INTCsaved\n",
      "savingATHtofile\n",
      "ATHsaved\n",
      "savingEPStofile\n",
      "EPSsaved\n",
      "No data found for LOL\n",
      "savingARKKtofile\n",
      "ARKKsaved\n",
      "No data found for VW\n",
      "savingGEtofile\n",
      "GEsaved\n",
      "savingGOOGtofile\n",
      "GOOGsaved\n",
      "savingFtofile\n",
      "Fsaved\n"
     ]
    }
   ],
   "source": [
    "for i in range(0, len(Stocks)):\n",
    "\n",
    "    get_data(Stocks[i], Names[i])\n",
    "    \n",
    "\n",
    "\n"
   ]
  },
  {
   "cell_type": "code",
   "execution_count": null,
   "metadata": {},
   "outputs": [],
   "source": [
    "print(len(Names))\n",
    "print(len(Stocks))"
   ]
  },
  {
   "cell_type": "code",
   "execution_count": 9,
   "metadata": {},
   "outputs": [],
   "source": [
    "def save_data(stock, stock_name):\n",
    "    print('saving' + stock_name + 'tofile')\n",
    "    pd.DataFrame(stock).to_csv('../data/' + stock_name + '.csv')\n",
    "    print(stock_name + 'saved')\n",
    "    "
   ]
  },
  {
   "cell_type": "code",
   "execution_count": null,
   "metadata": {},
   "outputs": [],
   "source": []
  }
 ],
 "metadata": {
  "kernelspec": {
   "display_name": "Python 3",
   "language": "python",
   "name": "python3"
  },
  "language_info": {
   "codemirror_mode": {
    "name": "ipython",
    "version": 3
   },
   "file_extension": ".py",
   "mimetype": "text/x-python",
   "name": "python",
   "nbconvert_exporter": "python",
   "pygments_lexer": "ipython3",
   "version": "3.8.5"
  }
 },
 "nbformat": 4,
 "nbformat_minor": 4
}
