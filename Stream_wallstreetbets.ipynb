{
 "cells": [
  {
   "cell_type": "code",
   "execution_count": 1,
   "id": "above-zimbabwe",
   "metadata": {},
   "outputs": [],
   "source": [
    "import praw\n",
    "import pandas as pd"
   ]
  },
  {
   "cell_type": "code",
   "execution_count": 2,
   "id": "pleased-weapon",
   "metadata": {},
   "outputs": [],
   "source": [
    "reddit = praw.Reddit(client_id = 'p7UHViVl0tL3Kw', \n",
    "                     client_secret = 'C_B_8UNAZatr1So5jJ9qeFmYpuHIyw',\n",
    "                     username = 'bigprojectdsc',\n",
    "                     password = 'BIGproject',\n",
    "                     user_agent =  'smallcaps'\n",
    "                    )"
   ]
  },
  {
   "cell_type": "code",
   "execution_count": 3,
   "id": "surprised-saver",
   "metadata": {},
   "outputs": [],
   "source": [
    "wallstreetbets_subreddit = reddit.subreddit('wallstreetbets')"
   ]
  },
  {
   "cell_type": "code",
   "execution_count": 4,
   "id": "alleged-situation",
   "metadata": {},
   "outputs": [],
   "source": [
    "# Variables for streaming part\n",
    "df_posts = pd.DataFrame()\n",
    "counter = 0\n",
    "data_folder = \"./data_files/\""
   ]
  },
  {
   "cell_type": "code",
   "execution_count": null,
   "id": "crude-collins",
   "metadata": {},
   "outputs": [
    {
     "name": "stdout",
     "output_type": "stream",
     "text": [
      "length:\n",
      "10001\n",
      "length:\n",
      "10001\n",
      "length:\n",
      "10001\n",
      "length:\n",
      "10001\n",
      "length:\n",
      "10001\n",
      "length:\n",
      "10001\n",
      "length:\n",
      "10001\n",
      "length:\n",
      "10001\n",
      "length:\n",
      "10001\n",
      "length:\n",
      "10001\n",
      "length:\n",
      "10001\n",
      "length:\n",
      "10001\n",
      "length:\n",
      "10001\n",
      "length:\n",
      "10001\n",
      "length:\n",
      "10001\n",
      "length:\n",
      "10001\n",
      "length:\n",
      "10001\n",
      "length:\n",
      "10001\n",
      "length:\n",
      "10001\n",
      "length:\n",
      "10001\n",
      "length:\n",
      "10001\n",
      "length:\n",
      "10001\n",
      "length:\n",
      "10001\n",
      "length:\n",
      "10001\n",
      "length:\n",
      "10001\n",
      "length:\n",
      "10001\n",
      "length:\n",
      "10001\n"
     ]
    }
   ],
   "source": [
    "def submissions_and_comments(subreddit, **kwargs):\n",
    "    results = []\n",
    "    results.extend(subreddit.new(**kwargs))\n",
    "    results.extend(subreddit.comments(**kwargs))\n",
    "    results.sort(key=lambda post: post.created_utc, reverse=True)\n",
    "    return results\n",
    "\n",
    "subreddit = wallstreetbets_subreddit\n",
    "stream = praw.models.util.stream_generator(lambda **kwargs: submissions_and_comments(subreddit, **kwargs))\n",
    "        \n",
    "for post in stream:\n",
    "    if len(df_posts.index) > 10000:\n",
    "        print('length:')\n",
    "        print(len(df_posts.index))\n",
    "        df_posts.to_csv(f\"{data_folder}{subreddit}_{counter}.csv\")\n",
    "        df_posts = pd.DataFrame()\n",
    "        counter+=1\n",
    "    if post.fullname[:2] == 't3':\n",
    "        #submission\n",
    "        df_posts = df_posts.append({\n",
    "            'post_id': post.id,\n",
    "            'title': post.title,\n",
    "            'created': pd.to_datetime(post.created_utc, unit = 's'),\n",
    "            'text': post.selftext,\n",
    "            'subreddit': post.subreddit,\n",
    "            'fullname': post.fullname\n",
    "            }, ignore_index=True)\n",
    "    elif post.fullname[:2] == 't1':\n",
    "        #comment\n",
    "        df_posts = df_posts.append({\n",
    "            'parent_id': post.parent_id,\n",
    "            'comment_id': post.id,\n",
    "            'created': pd.to_datetime(post.created_utc, unit = 's'),\n",
    "            'text': post.body,\n",
    "            'subreddit': post.subreddit,\n",
    "            'fullname': post.fullname\n",
    "            }, ignore_index=True)"
   ]
  },
  {
   "cell_type": "code",
   "execution_count": 10,
   "id": "explicit-enforcement",
   "metadata": {},
   "outputs": [
    {
     "data": {
      "text/html": [
       "<div>\n",
       "<style scoped>\n",
       "    .dataframe tbody tr th:only-of-type {\n",
       "        vertical-align: middle;\n",
       "    }\n",
       "\n",
       "    .dataframe tbody tr th {\n",
       "        vertical-align: top;\n",
       "    }\n",
       "\n",
       "    .dataframe thead th {\n",
       "        text-align: right;\n",
       "    }\n",
       "</style>\n",
       "<table border=\"1\" class=\"dataframe\">\n",
       "  <thead>\n",
       "    <tr style=\"text-align: right;\">\n",
       "      <th></th>\n",
       "      <th>comment_id</th>\n",
       "      <th>created</th>\n",
       "      <th>fullname</th>\n",
       "      <th>parent_id</th>\n",
       "      <th>subreddit</th>\n",
       "      <th>text</th>\n",
       "      <th>post_id</th>\n",
       "      <th>title</th>\n",
       "    </tr>\n",
       "  </thead>\n",
       "  <tbody>\n",
       "    <tr>\n",
       "      <th>0</th>\n",
       "      <td>gyipb96</td>\n",
       "      <td>2021-05-18 01:47:44</td>\n",
       "      <td>t1_gyipb96</td>\n",
       "      <td>t3_nex1wb</td>\n",
       "      <td>wallstreetbets</td>\n",
       "      <td>No penny stocks</td>\n",
       "      <td>NaN</td>\n",
       "      <td>NaN</td>\n",
       "    </tr>\n",
       "    <tr>\n",
       "      <th>1</th>\n",
       "      <td>gyipb9h</td>\n",
       "      <td>2021-05-18 01:47:44</td>\n",
       "      <td>t1_gyipb9h</td>\n",
       "      <td>t3_neq7g4</td>\n",
       "      <td>wallstreetbets</td>\n",
       "      <td>Damn, Silver is back!</td>\n",
       "      <td>NaN</td>\n",
       "      <td>NaN</td>\n",
       "    </tr>\n",
       "    <tr>\n",
       "      <th>2</th>\n",
       "      <td>gyipba3</td>\n",
       "      <td>2021-05-18 01:47:44</td>\n",
       "      <td>t1_gyipba3</td>\n",
       "      <td>t1_gyip6vb</td>\n",
       "      <td>wallstreetbets</td>\n",
       "      <td>for now</td>\n",
       "      <td>NaN</td>\n",
       "      <td>NaN</td>\n",
       "    </tr>\n",
       "    <tr>\n",
       "      <th>3</th>\n",
       "      <td>gyipbaz</td>\n",
       "      <td>2021-05-18 01:47:44</td>\n",
       "      <td>t1_gyipbaz</td>\n",
       "      <td>t1_gyiiqui</td>\n",
       "      <td>wallstreetbets</td>\n",
       "      <td>Founder led companies can be great at 30-60% o...</td>\n",
       "      <td>NaN</td>\n",
       "      <td>NaN</td>\n",
       "    </tr>\n",
       "    <tr>\n",
       "      <th>4</th>\n",
       "      <td>gyipbox</td>\n",
       "      <td>2021-05-18 01:47:50</td>\n",
       "      <td>t1_gyipbox</td>\n",
       "      <td>t1_gyip570</td>\n",
       "      <td>wallstreetbets</td>\n",
       "      <td>Unfortunately. You always need an exit strategy.</td>\n",
       "      <td>NaN</td>\n",
       "      <td>NaN</td>\n",
       "    </tr>\n",
       "    <tr>\n",
       "      <th>...</th>\n",
       "      <td>...</td>\n",
       "      <td>...</td>\n",
       "      <td>...</td>\n",
       "      <td>...</td>\n",
       "      <td>...</td>\n",
       "      <td>...</td>\n",
       "      <td>...</td>\n",
       "      <td>...</td>\n",
       "    </tr>\n",
       "    <tr>\n",
       "      <th>8123</th>\n",
       "      <td>gyjgu3b</td>\n",
       "      <td>2021-05-18 06:29:43</td>\n",
       "      <td>t1_gyjgu3b</td>\n",
       "      <td>t1_gyje8yh</td>\n",
       "      <td>wallstreetbets</td>\n",
       "      <td>I'm holding a whole lot of calls and I'd still...</td>\n",
       "      <td>NaN</td>\n",
       "      <td>NaN</td>\n",
       "    </tr>\n",
       "    <tr>\n",
       "      <th>8124</th>\n",
       "      <td>gyjgu47</td>\n",
       "      <td>2021-05-18 06:29:43</td>\n",
       "      <td>t1_gyjgu47</td>\n",
       "      <td>t3_neq7g4</td>\n",
       "      <td>wallstreetbets</td>\n",
       "      <td>My plays tomorrow...\\n\\n$GME\\n\\n$AMC\\n\\n$PLTR\\...</td>\n",
       "      <td>NaN</td>\n",
       "      <td>NaN</td>\n",
       "    </tr>\n",
       "    <tr>\n",
       "      <th>8125</th>\n",
       "      <td>gyjguac</td>\n",
       "      <td>2021-05-18 06:29:47</td>\n",
       "      <td>t1_gyjguac</td>\n",
       "      <td>t3_neq7g4</td>\n",
       "      <td>wallstreetbets</td>\n",
       "      <td>I'm sad I only spend 100 bucks when amc was wo...</td>\n",
       "      <td>NaN</td>\n",
       "      <td>NaN</td>\n",
       "    </tr>\n",
       "    <tr>\n",
       "      <th>8126</th>\n",
       "      <td>gyjguub</td>\n",
       "      <td>2021-05-18 06:30:00</td>\n",
       "      <td>t1_gyjguub</td>\n",
       "      <td>t1_gyjef1q</td>\n",
       "      <td>wallstreetbets</td>\n",
       "      <td>At that point I wouldn’t doubt that Amazon wou...</td>\n",
       "      <td>NaN</td>\n",
       "      <td>NaN</td>\n",
       "    </tr>\n",
       "    <tr>\n",
       "      <th>8127</th>\n",
       "      <td>gyjguyl</td>\n",
       "      <td>2021-05-18 06:30:02</td>\n",
       "      <td>t1_gyjguyl</td>\n",
       "      <td>t1_gyjgiyv</td>\n",
       "      <td>wallstreetbets</td>\n",
       "      <td>Bail and get into something a little better.</td>\n",
       "      <td>NaN</td>\n",
       "      <td>NaN</td>\n",
       "    </tr>\n",
       "  </tbody>\n",
       "</table>\n",
       "<p>8128 rows × 8 columns</p>\n",
       "</div>"
      ],
      "text/plain": [
       "     comment_id             created    fullname   parent_id       subreddit  \\\n",
       "0       gyipb96 2021-05-18 01:47:44  t1_gyipb96   t3_nex1wb  wallstreetbets   \n",
       "1       gyipb9h 2021-05-18 01:47:44  t1_gyipb9h   t3_neq7g4  wallstreetbets   \n",
       "2       gyipba3 2021-05-18 01:47:44  t1_gyipba3  t1_gyip6vb  wallstreetbets   \n",
       "3       gyipbaz 2021-05-18 01:47:44  t1_gyipbaz  t1_gyiiqui  wallstreetbets   \n",
       "4       gyipbox 2021-05-18 01:47:50  t1_gyipbox  t1_gyip570  wallstreetbets   \n",
       "...         ...                 ...         ...         ...             ...   \n",
       "8123    gyjgu3b 2021-05-18 06:29:43  t1_gyjgu3b  t1_gyje8yh  wallstreetbets   \n",
       "8124    gyjgu47 2021-05-18 06:29:43  t1_gyjgu47   t3_neq7g4  wallstreetbets   \n",
       "8125    gyjguac 2021-05-18 06:29:47  t1_gyjguac   t3_neq7g4  wallstreetbets   \n",
       "8126    gyjguub 2021-05-18 06:30:00  t1_gyjguub  t1_gyjef1q  wallstreetbets   \n",
       "8127    gyjguyl 2021-05-18 06:30:02  t1_gyjguyl  t1_gyjgiyv  wallstreetbets   \n",
       "\n",
       "                                                   text post_id title  \n",
       "0                                       No penny stocks     NaN   NaN  \n",
       "1                                 Damn, Silver is back!     NaN   NaN  \n",
       "2                                               for now     NaN   NaN  \n",
       "3     Founder led companies can be great at 30-60% o...     NaN   NaN  \n",
       "4      Unfortunately. You always need an exit strategy.     NaN   NaN  \n",
       "...                                                 ...     ...   ...  \n",
       "8123  I'm holding a whole lot of calls and I'd still...     NaN   NaN  \n",
       "8124  My plays tomorrow...\\n\\n$GME\\n\\n$AMC\\n\\n$PLTR\\...     NaN   NaN  \n",
       "8125  I'm sad I only spend 100 bucks when amc was wo...     NaN   NaN  \n",
       "8126  At that point I wouldn’t doubt that Amazon wou...     NaN   NaN  \n",
       "8127       Bail and get into something a little better.     NaN   NaN  \n",
       "\n",
       "[8128 rows x 8 columns]"
      ]
     },
     "execution_count": 10,
     "metadata": {},
     "output_type": "execute_result"
    }
   ],
   "source": [
    "df_posts"
   ]
  },
  {
   "cell_type": "code",
   "execution_count": null,
   "id": "blank-halifax",
   "metadata": {},
   "outputs": [],
   "source": []
  },
  {
   "cell_type": "code",
   "execution_count": null,
   "id": "coral-extreme",
   "metadata": {},
   "outputs": [],
   "source": []
  },
  {
   "cell_type": "markdown",
   "id": "political-laundry",
   "metadata": {},
   "source": [
    "## HBASE"
   ]
  },
  {
   "cell_type": "code",
   "execution_count": 18,
   "id": "unable-center",
   "metadata": {
    "collapsed": true,
    "jupyter": {
     "outputs_hidden": true
    }
   },
   "outputs": [
    {
     "name": "stdout",
     "output_type": "stream",
     "text": [
      "Collecting virtualenv\n",
      "  Downloading virtualenv-20.4.6-py2.py3-none-any.whl (7.2 MB)\n",
      "\u001b[K     |████████████████████████████████| 7.2 MB 2.7 MB/s eta 0:00:01     |████                            | 901 kB 2.7 MB/s eta 0:00:03     |████████████████████            | 4.5 MB 2.7 MB/s eta 0:00:01\n",
      "\u001b[?25hRequirement already satisfied: appdirs<2,>=1.4.3 in /Users/malenehansen/opt/anaconda3/lib/python3.8/site-packages (from virtualenv) (1.4.4)\n",
      "Requirement already satisfied: filelock<4,>=3.0.0 in /Users/malenehansen/opt/anaconda3/lib/python3.8/site-packages (from virtualenv) (3.0.12)\n",
      "Collecting distlib<1,>=0.3.1\n",
      "  Downloading distlib-0.3.1-py2.py3-none-any.whl (335 kB)\n",
      "\u001b[K     |████████████████████████████████| 335 kB 8.1 MB/s eta 0:00:01\n",
      "\u001b[?25hRequirement already satisfied: six<2,>=1.9.0 in /Users/malenehansen/opt/anaconda3/lib/python3.8/site-packages (from virtualenv) (1.15.0)\n",
      "Installing collected packages: distlib, virtualenv\n",
      "Successfully installed distlib-0.3.1 virtualenv-20.4.6\n"
     ]
    }
   ],
   "source": [
    "#!pip3 install happybase\n",
    "#!pip3 install virtualenv"
   ]
  },
  {
   "cell_type": "code",
   "execution_count": null,
   "id": "automated-thunder",
   "metadata": {},
   "outputs": [],
   "source": []
  },
  {
   "cell_type": "code",
   "execution_count": 21,
   "id": "timely-utility",
   "metadata": {},
   "outputs": [
    {
     "ename": "TTransportException",
     "evalue": "TTransportException(type=1, message=\"Could not connect to ('happybase', 9090)\")",
     "output_type": "error",
     "traceback": [
      "\u001b[0;31m---------------------------------------------------------------------------\u001b[0m",
      "\u001b[0;31mgaierror\u001b[0m                                  Traceback (most recent call last)",
      "\u001b[0;32m~/opt/anaconda3/lib/python3.8/site-packages/thriftpy2/transport/socket.py\u001b[0m in \u001b[0;36mopen\u001b[0;34m(self)\u001b[0m\n\u001b[1;32m     95\u001b[0m \u001b[0;34m\u001b[0m\u001b[0m\n\u001b[0;32m---> 96\u001b[0;31m             \u001b[0mself\u001b[0m\u001b[0;34m.\u001b[0m\u001b[0msock\u001b[0m\u001b[0;34m.\u001b[0m\u001b[0mconnect\u001b[0m\u001b[0;34m(\u001b[0m\u001b[0maddr\u001b[0m\u001b[0;34m)\u001b[0m\u001b[0;34m\u001b[0m\u001b[0;34m\u001b[0m\u001b[0m\n\u001b[0m\u001b[1;32m     97\u001b[0m \u001b[0;34m\u001b[0m\u001b[0m\n",
      "\u001b[0;31mgaierror\u001b[0m: [Errno 8] nodename nor servname provided, or not known",
      "\nDuring handling of the above exception, another exception occurred:\n",
      "\u001b[0;31mTTransportException\u001b[0m                       Traceback (most recent call last)",
      "\u001b[0;32m<ipython-input-21-96eebbc9e5e5>\u001b[0m in \u001b[0;36m<module>\u001b[0;34m\u001b[0m\n\u001b[1;32m      1\u001b[0m \u001b[0;32mimport\u001b[0m \u001b[0mhappybase\u001b[0m\u001b[0;34m\u001b[0m\u001b[0;34m\u001b[0m\u001b[0m\n\u001b[1;32m      2\u001b[0m \u001b[0;34m\u001b[0m\u001b[0m\n\u001b[0;32m----> 3\u001b[0;31m \u001b[0mconnection\u001b[0m \u001b[0;34m=\u001b[0m \u001b[0mhappybase\u001b[0m\u001b[0;34m.\u001b[0m\u001b[0mConnection\u001b[0m\u001b[0;34m(\u001b[0m\u001b[0;34m'happybase'\u001b[0m\u001b[0;34m)\u001b[0m\u001b[0;34m\u001b[0m\u001b[0;34m\u001b[0m\u001b[0m\n\u001b[0m",
      "\u001b[0;32m~/opt/anaconda3/lib/python3.8/site-packages/happybase/connection.py\u001b[0m in \u001b[0;36m__init__\u001b[0;34m(self, host, port, timeout, autoconnect, table_prefix, table_prefix_separator, compat, transport, protocol)\u001b[0m\n\u001b[1;32m    146\u001b[0m \u001b[0;34m\u001b[0m\u001b[0m\n\u001b[1;32m    147\u001b[0m         \u001b[0;32mif\u001b[0m \u001b[0mautoconnect\u001b[0m\u001b[0;34m:\u001b[0m\u001b[0;34m\u001b[0m\u001b[0;34m\u001b[0m\u001b[0m\n\u001b[0;32m--> 148\u001b[0;31m             \u001b[0mself\u001b[0m\u001b[0;34m.\u001b[0m\u001b[0mopen\u001b[0m\u001b[0;34m(\u001b[0m\u001b[0;34m)\u001b[0m\u001b[0;34m\u001b[0m\u001b[0;34m\u001b[0m\u001b[0m\n\u001b[0m\u001b[1;32m    149\u001b[0m \u001b[0;34m\u001b[0m\u001b[0m\n\u001b[1;32m    150\u001b[0m         \u001b[0mself\u001b[0m\u001b[0;34m.\u001b[0m\u001b[0m_initialized\u001b[0m \u001b[0;34m=\u001b[0m \u001b[0;32mTrue\u001b[0m\u001b[0;34m\u001b[0m\u001b[0;34m\u001b[0m\u001b[0m\n",
      "\u001b[0;32m~/opt/anaconda3/lib/python3.8/site-packages/happybase/connection.py\u001b[0m in \u001b[0;36mopen\u001b[0;34m(self)\u001b[0m\n\u001b[1;32m    174\u001b[0m \u001b[0;34m\u001b[0m\u001b[0m\n\u001b[1;32m    175\u001b[0m         \u001b[0mlogger\u001b[0m\u001b[0;34m.\u001b[0m\u001b[0mdebug\u001b[0m\u001b[0;34m(\u001b[0m\u001b[0;34m\"Opening Thrift transport to %s:%d\"\u001b[0m\u001b[0;34m,\u001b[0m \u001b[0mself\u001b[0m\u001b[0;34m.\u001b[0m\u001b[0mhost\u001b[0m\u001b[0;34m,\u001b[0m \u001b[0mself\u001b[0m\u001b[0;34m.\u001b[0m\u001b[0mport\u001b[0m\u001b[0;34m)\u001b[0m\u001b[0;34m\u001b[0m\u001b[0;34m\u001b[0m\u001b[0m\n\u001b[0;32m--> 176\u001b[0;31m         \u001b[0mself\u001b[0m\u001b[0;34m.\u001b[0m\u001b[0mtransport\u001b[0m\u001b[0;34m.\u001b[0m\u001b[0mopen\u001b[0m\u001b[0;34m(\u001b[0m\u001b[0;34m)\u001b[0m\u001b[0;34m\u001b[0m\u001b[0;34m\u001b[0m\u001b[0m\n\u001b[0m\u001b[1;32m    177\u001b[0m \u001b[0;34m\u001b[0m\u001b[0m\n\u001b[1;32m    178\u001b[0m     \u001b[0;32mdef\u001b[0m \u001b[0mclose\u001b[0m\u001b[0;34m(\u001b[0m\u001b[0mself\u001b[0m\u001b[0;34m)\u001b[0m\u001b[0;34m:\u001b[0m\u001b[0;34m\u001b[0m\u001b[0;34m\u001b[0m\u001b[0m\n",
      "\u001b[0;32m~/opt/anaconda3/lib/python3.8/site-packages/thriftpy2/transport/buffered/cybuffered.pyx\u001b[0m in \u001b[0;36mthriftpy2.transport.buffered.cybuffered.TCyBufferedTransport.open\u001b[0;34m()\u001b[0m\n",
      "\u001b[0;32m~/opt/anaconda3/lib/python3.8/site-packages/thriftpy2/transport/socket.py\u001b[0m in \u001b[0;36mopen\u001b[0;34m(self)\u001b[0m\n\u001b[1;32m    101\u001b[0m         \u001b[0;32mexcept\u001b[0m \u001b[0;34m(\u001b[0m\u001b[0msocket\u001b[0m\u001b[0;34m.\u001b[0m\u001b[0merror\u001b[0m\u001b[0;34m,\u001b[0m \u001b[0mOSError\u001b[0m\u001b[0;34m)\u001b[0m\u001b[0;34m:\u001b[0m\u001b[0;34m\u001b[0m\u001b[0;34m\u001b[0m\u001b[0m\n\u001b[1;32m    102\u001b[0m             \u001b[0mself\u001b[0m\u001b[0;34m.\u001b[0m\u001b[0mclose\u001b[0m\u001b[0;34m(\u001b[0m\u001b[0;34m)\u001b[0m\u001b[0;34m\u001b[0m\u001b[0;34m\u001b[0m\u001b[0m\n\u001b[0;32m--> 103\u001b[0;31m             raise TTransportException(\n\u001b[0m\u001b[1;32m    104\u001b[0m                 \u001b[0mtype\u001b[0m\u001b[0;34m=\u001b[0m\u001b[0mTTransportException\u001b[0m\u001b[0;34m.\u001b[0m\u001b[0mNOT_OPEN\u001b[0m\u001b[0;34m,\u001b[0m\u001b[0;34m\u001b[0m\u001b[0;34m\u001b[0m\u001b[0m\n\u001b[1;32m    105\u001b[0m                 message=\"Could not connect to %s\" % str(addr))\n",
      "\u001b[0;31mTTransportException\u001b[0m: TTransportException(type=1, message=\"Could not connect to ('happybase', 9090)\")"
     ]
    }
   ],
   "source": [
    "import happybase\n",
    "\n",
    "connection = happybase.Connection('http://localhost:16000/')"
   ]
  },
  {
   "cell_type": "code",
   "execution_count": 13,
   "id": "synthetic-privacy",
   "metadata": {},
   "outputs": [
    {
     "ename": "TTransportException",
     "evalue": "TTransportException(type=1, message=\"Could not connect to ('http://localhost:16010/', 9090)\")",
     "output_type": "error",
     "traceback": [
      "\u001b[0;31m---------------------------------------------------------------------------\u001b[0m",
      "\u001b[0;31mgaierror\u001b[0m                                  Traceback (most recent call last)",
      "\u001b[0;32m~/opt/anaconda3/lib/python3.8/site-packages/thriftpy2/transport/socket.py\u001b[0m in \u001b[0;36mopen\u001b[0;34m(self)\u001b[0m\n\u001b[1;32m     95\u001b[0m \u001b[0;34m\u001b[0m\u001b[0m\n\u001b[0;32m---> 96\u001b[0;31m             \u001b[0mself\u001b[0m\u001b[0;34m.\u001b[0m\u001b[0msock\u001b[0m\u001b[0;34m.\u001b[0m\u001b[0mconnect\u001b[0m\u001b[0;34m(\u001b[0m\u001b[0maddr\u001b[0m\u001b[0;34m)\u001b[0m\u001b[0;34m\u001b[0m\u001b[0;34m\u001b[0m\u001b[0m\n\u001b[0m\u001b[1;32m     97\u001b[0m \u001b[0;34m\u001b[0m\u001b[0m\n",
      "\u001b[0;31mgaierror\u001b[0m: [Errno 8] nodename nor servname provided, or not known",
      "\nDuring handling of the above exception, another exception occurred:\n",
      "\u001b[0;31mTTransportException\u001b[0m                       Traceback (most recent call last)",
      "\u001b[0;32m<ipython-input-13-967f689cf648>\u001b[0m in \u001b[0;36m<module>\u001b[0;34m\u001b[0m\n\u001b[0;32m----> 1\u001b[0;31m \u001b[0mconnection\u001b[0m\u001b[0;34m.\u001b[0m\u001b[0mopen\u001b[0m\u001b[0;34m(\u001b[0m\u001b[0;34m)\u001b[0m\u001b[0;34m\u001b[0m\u001b[0;34m\u001b[0m\u001b[0m\n\u001b[0m",
      "\u001b[0;32m~/opt/anaconda3/lib/python3.8/site-packages/happybase/connection.py\u001b[0m in \u001b[0;36mopen\u001b[0;34m(self)\u001b[0m\n\u001b[1;32m    174\u001b[0m \u001b[0;34m\u001b[0m\u001b[0m\n\u001b[1;32m    175\u001b[0m         \u001b[0mlogger\u001b[0m\u001b[0;34m.\u001b[0m\u001b[0mdebug\u001b[0m\u001b[0;34m(\u001b[0m\u001b[0;34m\"Opening Thrift transport to %s:%d\"\u001b[0m\u001b[0;34m,\u001b[0m \u001b[0mself\u001b[0m\u001b[0;34m.\u001b[0m\u001b[0mhost\u001b[0m\u001b[0;34m,\u001b[0m \u001b[0mself\u001b[0m\u001b[0;34m.\u001b[0m\u001b[0mport\u001b[0m\u001b[0;34m)\u001b[0m\u001b[0;34m\u001b[0m\u001b[0;34m\u001b[0m\u001b[0m\n\u001b[0;32m--> 176\u001b[0;31m         \u001b[0mself\u001b[0m\u001b[0;34m.\u001b[0m\u001b[0mtransport\u001b[0m\u001b[0;34m.\u001b[0m\u001b[0mopen\u001b[0m\u001b[0;34m(\u001b[0m\u001b[0;34m)\u001b[0m\u001b[0;34m\u001b[0m\u001b[0;34m\u001b[0m\u001b[0m\n\u001b[0m\u001b[1;32m    177\u001b[0m \u001b[0;34m\u001b[0m\u001b[0m\n\u001b[1;32m    178\u001b[0m     \u001b[0;32mdef\u001b[0m \u001b[0mclose\u001b[0m\u001b[0;34m(\u001b[0m\u001b[0mself\u001b[0m\u001b[0;34m)\u001b[0m\u001b[0;34m:\u001b[0m\u001b[0;34m\u001b[0m\u001b[0;34m\u001b[0m\u001b[0m\n",
      "\u001b[0;32m~/opt/anaconda3/lib/python3.8/site-packages/thriftpy2/transport/buffered/cybuffered.pyx\u001b[0m in \u001b[0;36mthriftpy2.transport.buffered.cybuffered.TCyBufferedTransport.open\u001b[0;34m()\u001b[0m\n",
      "\u001b[0;32m~/opt/anaconda3/lib/python3.8/site-packages/thriftpy2/transport/socket.py\u001b[0m in \u001b[0;36mopen\u001b[0;34m(self)\u001b[0m\n\u001b[1;32m    101\u001b[0m         \u001b[0;32mexcept\u001b[0m \u001b[0;34m(\u001b[0m\u001b[0msocket\u001b[0m\u001b[0;34m.\u001b[0m\u001b[0merror\u001b[0m\u001b[0;34m,\u001b[0m \u001b[0mOSError\u001b[0m\u001b[0;34m)\u001b[0m\u001b[0;34m:\u001b[0m\u001b[0;34m\u001b[0m\u001b[0;34m\u001b[0m\u001b[0m\n\u001b[1;32m    102\u001b[0m             \u001b[0mself\u001b[0m\u001b[0;34m.\u001b[0m\u001b[0mclose\u001b[0m\u001b[0;34m(\u001b[0m\u001b[0;34m)\u001b[0m\u001b[0;34m\u001b[0m\u001b[0;34m\u001b[0m\u001b[0m\n\u001b[0;32m--> 103\u001b[0;31m             raise TTransportException(\n\u001b[0m\u001b[1;32m    104\u001b[0m                 \u001b[0mtype\u001b[0m\u001b[0;34m=\u001b[0m\u001b[0mTTransportException\u001b[0m\u001b[0;34m.\u001b[0m\u001b[0mNOT_OPEN\u001b[0m\u001b[0;34m,\u001b[0m\u001b[0;34m\u001b[0m\u001b[0;34m\u001b[0m\u001b[0m\n\u001b[1;32m    105\u001b[0m                 message=\"Could not connect to %s\" % str(addr))\n",
      "\u001b[0;31mTTransportException\u001b[0m: TTransportException(type=1, message=\"Could not connect to ('http://localhost:16010/', 9090)\")"
     ]
    }
   ],
   "source": [
    "connection"
   ]
  },
  {
   "cell_type": "code",
   "execution_count": null,
   "id": "diagnostic-ticket",
   "metadata": {},
   "outputs": [],
   "source": []
  },
  {
   "cell_type": "code",
   "execution_count": null,
   "id": "excellent-gentleman",
   "metadata": {},
   "outputs": [],
   "source": []
  },
  {
   "cell_type": "code",
   "execution_count": null,
   "id": "center-layout",
   "metadata": {},
   "outputs": [],
   "source": []
  },
  {
   "cell_type": "code",
   "execution_count": null,
   "id": "accredited-country",
   "metadata": {},
   "outputs": [],
   "source": [
    "t1_gyezl32"
   ]
  },
  {
   "cell_type": "code",
   "execution_count": null,
   "id": "unexpected-majority",
   "metadata": {},
   "outputs": [],
   "source": []
  },
  {
   "cell_type": "code",
   "execution_count": null,
   "id": "better-assist",
   "metadata": {},
   "outputs": [],
   "source": []
  },
  {
   "cell_type": "code",
   "execution_count": null,
   "id": "racial-fruit",
   "metadata": {},
   "outputs": [],
   "source": []
  }
 ],
 "metadata": {
  "kernelspec": {
   "display_name": "Python 3",
   "language": "python",
   "name": "python3"
  },
  "language_info": {
   "codemirror_mode": {
    "name": "ipython",
    "version": 3
   },
   "file_extension": ".py",
   "mimetype": "text/x-python",
   "name": "python",
   "nbconvert_exporter": "python",
   "pygments_lexer": "ipython3",
   "version": "3.8.5"
  }
 },
 "nbformat": 4,
 "nbformat_minor": 5
}
